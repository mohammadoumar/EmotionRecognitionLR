{
 "cells": [
  {
   "cell_type": "markdown",
   "id": "784a93ca-60b3-4f58-9858-b0364dea8788",
   "metadata": {},
   "source": [
    "# In-Context Learning for AbstRCT dataset with LlaMA 3"
   ]
  },
  {
   "cell_type": "raw",
   "id": "92f1f194-601e-4e45-8d32-a8d705d8b2e6",
   "metadata": {},
   "source": [
    "- In-Context Learning with AbstRCT dataset.\n",
    "- Using: LlaMA-3-8B, LlaMA-3-70B.\n",
    "- Using BioBERT for title embeddings.\n",
    "- All in One Predictions strategy\n",
    "- K=3, N=1"
   ]
  },
  {
   "cell_type": "markdown",
   "id": "2537d6cb-6d1c-4da1-abf1-ee5d2de44f32",
   "metadata": {},
   "source": [
    "## Libraries"
   ]
  },
  {
   "cell_type": "code",
   "execution_count": 1,
   "id": "0debac83-2e8a-4275-b5fd-09955716a9a9",
   "metadata": {},
   "outputs": [],
   "source": [
    "import ast\n",
    "import torch\n",
    "import random\n",
    "import numpy as np\n",
    "import pandas as pd\n",
    "import torch.nn.functional as F\n",
    "\n",
    "\n",
    "from tqdm import tqdm\n",
    "from operator import itemgetter\n",
    "from sklearn.metrics import classification_report\n",
    "from transformers import AutoTokenizer, AutoModel, AutoModelForCausalLM"
   ]
  },
  {
   "cell_type": "markdown",
   "id": "54183905-9932-4205-a4b0-429ea8631c48",
   "metadata": {},
   "source": [
    "## Tokenizers and Models"
   ]
  },
  {
   "cell_type": "code",
   "execution_count": 2,
   "id": "df587783-b14e-4d68-954f-ebb7238bb0fd",
   "metadata": {},
   "outputs": [],
   "source": [
    "embedding_tokenizer = AutoTokenizer.from_pretrained(\"dmis-lab/biobert-v1.1\")\n",
    "embedding_model = AutoModel.from_pretrained(\"dmis-lab/biobert-v1.1\")"
   ]
  },
  {
   "cell_type": "code",
   "execution_count": 3,
   "id": "1eb931f7-0cef-4521-8950-0fc6bc3a2f14",
   "metadata": {},
   "outputs": [],
   "source": [
    "model_id = \"unsloth/llama-3-70b-Instruct-bnb-4bit\""
   ]
  },
  {
   "cell_type": "code",
   "execution_count": 4,
   "id": "73057574-c355-4140-bb8e-6f67beb59eb3",
   "metadata": {},
   "outputs": [
    {
     "name": "stderr",
     "output_type": "stream",
     "text": [
      "Special tokens have been added in the vocabulary, make sure the associated word embeddings are fine-tuned or trained.\n"
     ]
    }
   ],
   "source": [
    "inference_tokenizer = AutoTokenizer.from_pretrained(model_id, padding='left', padding_side='left')\n",
    "inference_tokenizer.pad_token = inference_tokenizer.eos_token\n",
    "terminators = [\n",
    "    inference_tokenizer.eos_token_id,\n",
    "    inference_tokenizer.convert_tokens_to_ids(\"<|eot_id|>\")\n",
    "]"
   ]
  },
  {
   "cell_type": "code",
   "execution_count": 5,
   "id": "88d46bbb-e215-4015-8b8c-7e4e7148d4b3",
   "metadata": {},
   "outputs": [
    {
     "name": "stderr",
     "output_type": "stream",
     "text": [
      "Unused kwargs: ['_load_in_4bit', '_load_in_8bit', 'quant_method']. These kwargs are not used in <class 'transformers.utils.quantization_config.BitsAndBytesConfig'>.\n"
     ]
    },
    {
     "data": {
      "application/vnd.jupyter.widget-view+json": {
       "model_id": "eb8fbb88bd5d4c71af6f08821488b946",
       "version_major": 2,
       "version_minor": 0
      },
      "text/plain": [
       "Loading checkpoint shards:   0%|          | 0/6 [00:00<?, ?it/s]"
      ]
     },
     "metadata": {},
     "output_type": "display_data"
    }
   ],
   "source": [
    "generation_model = AutoModelForCausalLM.from_pretrained(\n",
    "    model_id,\n",
    "    cache_dir = '/home/umushtaq/scratch/am_work/in_context_learning/model_downloads',\n",
    "    torch_dtype=torch.bfloat16,\n",
    "    device_map=\"auto\",\n",
    ")"
   ]
  },
  {
   "cell_type": "markdown",
   "id": "790eeebc-3379-4347-ba86-e7f79beae0e6",
   "metadata": {},
   "source": [
    "## Dataset"
   ]
  },
  {
   "cell_type": "code",
   "execution_count": 6,
   "id": "2e26e061-1fca-4a67-9e96-55e09149a096",
   "metadata": {},
   "outputs": [],
   "source": [
    "neo_train_df = pd.read_csv(\"dataset/neo/train.csv\")\n",
    "neo_test_df = pd.read_csv(\"dataset/neo/test.csv\")\n",
    "gla_test_df = pd.read_csv(\"dataset/gla/test.csv\")\n",
    "mix_test_df = pd.read_csv(\"dataset/mix/test.csv\")"
   ]
  },
  {
   "cell_type": "code",
   "execution_count": 7,
   "id": "8a2eee29-e2ba-4bff-a4e3-e96d10ee1f75",
   "metadata": {},
   "outputs": [],
   "source": [
    "def get_title_line(x, df):\n",
    "\n",
    "    doc_id = x.doc_id\n",
    "    df_doc = df[df[\"doc_id\"] == doc_id].reset_index()\n",
    "    \n",
    "    for index, row in df_doc.iterrows():\n",
    "        \n",
    "        if pd.notna(row['text']):\n",
    "            title_line = row['text'].split(\".\")[0]\n",
    "            break\n",
    "\n",
    "    return title_line"
   ]
  },
  {
   "cell_type": "code",
   "execution_count": 8,
   "id": "e8e8fc2e-879a-45ed-a76d-0f13ed7d0579",
   "metadata": {},
   "outputs": [],
   "source": [
    "neo_train_df[\"abstract_title\"] = neo_train_df.apply(lambda x: get_title_line(x, neo_train_df), axis=1)"
   ]
  },
  {
   "cell_type": "code",
   "execution_count": 9,
   "id": "2cee210a-f615-49ae-b749-fd1d26ddb223",
   "metadata": {},
   "outputs": [],
   "source": [
    "neo_test_df[\"abstract_title\"] = neo_test_df.apply(lambda x: get_title_line(x, neo_test_df), axis=1)"
   ]
  },
  {
   "cell_type": "code",
   "execution_count": 10,
   "id": "f9e3b6d5-7bcc-424f-aff2-90c1e56b237a",
   "metadata": {},
   "outputs": [],
   "source": [
    "gla_test_df[\"abstract_title\"] = gla_test_df.apply(lambda x: get_title_line(x, gla_test_df), axis=1)"
   ]
  },
  {
   "cell_type": "code",
   "execution_count": 11,
   "id": "50d87b26-711d-4359-bc83-ecf0b2b85fbf",
   "metadata": {},
   "outputs": [],
   "source": [
    "mix_test_df[\"abstract_title\"] = mix_test_df.apply(lambda x: get_title_line(x, mix_test_df), axis=1)"
   ]
  },
  {
   "cell_type": "markdown",
   "id": "f119cf67-e9a5-407c-80cb-3b649da65132",
   "metadata": {},
   "source": [
    "## Get title embeddings using BioBERT"
   ]
  },
  {
   "cell_type": "code",
   "execution_count": 12,
   "id": "72a2cc49-075f-4675-ab63-f4f208e7d193",
   "metadata": {},
   "outputs": [
    {
     "name": "stderr",
     "output_type": "stream",
     "text": [
      "100%|██████████| 350/350 [00:32<00:00, 10.77it/s]\n"
     ]
    }
   ],
   "source": [
    "title_embed_d = {}\n",
    "for title in tqdm(neo_train_df.abstract_title.unique()):\n",
    "    # print(title)\n",
    "    while True:\n",
    "        try:\n",
    "            inputs = embedding_tokenizer(title, return_tensors=\"pt\")\n",
    "            output = embedding_model(**inputs)\n",
    "            embedding = output[1][0].squeeze()\n",
    "            title_embed_d[title] = embedding.detach().numpy()\n",
    "            break\n",
    "        except Exception as e:\n",
    "            print(e)"
   ]
  },
  {
   "cell_type": "code",
   "execution_count": 13,
   "id": "487b9cda-69b6-42aa-8710-281486a810e8",
   "metadata": {},
   "outputs": [],
   "source": [
    "neo_train_df['title_embedding'] = neo_train_df.abstract_title.apply(lambda x: title_embed_d[x])"
   ]
  },
  {
   "cell_type": "code",
   "execution_count": 14,
   "id": "75ad74f5-41f8-4ed8-9eb9-7490861dc6e9",
   "metadata": {},
   "outputs": [
    {
     "name": "stderr",
     "output_type": "stream",
     "text": [
      "100%|██████████| 99/99 [00:09<00:00, 10.42it/s]\n"
     ]
    }
   ],
   "source": [
    "title_embed_d = {}\n",
    "for title in tqdm(neo_test_df.abstract_title.unique()):\n",
    "    # print(title)\n",
    "    while True:\n",
    "        try:\n",
    "            inputs = embedding_tokenizer(title, return_tensors=\"pt\")\n",
    "            output = embedding_model(**inputs)\n",
    "            embedding = output[1][0].squeeze()\n",
    "            title_embed_d[title] = embedding.detach().numpy()\n",
    "            break\n",
    "        except Exception as e:\n",
    "            print(e)"
   ]
  },
  {
   "cell_type": "code",
   "execution_count": 15,
   "id": "01bc990b-4a39-4aee-8d7c-75dd00d44257",
   "metadata": {},
   "outputs": [],
   "source": [
    "neo_test_df['title_embedding'] = neo_test_df.abstract_title.apply(lambda x: title_embed_d[x])"
   ]
  },
  {
   "cell_type": "code",
   "execution_count": 16,
   "id": "1e3e903c-c3e6-48b1-806e-1d825dc4d9c6",
   "metadata": {},
   "outputs": [
    {
     "name": "stderr",
     "output_type": "stream",
     "text": [
      "100%|██████████| 98/98 [00:08<00:00, 10.94it/s]\n"
     ]
    }
   ],
   "source": [
    "title_embed_d = {}\n",
    "for title in tqdm(gla_test_df.abstract_title.unique()):\n",
    "    # print(title)\n",
    "    while True:\n",
    "        try:\n",
    "            inputs = embedding_tokenizer(title, return_tensors=\"pt\")\n",
    "            output = embedding_model(**inputs)\n",
    "            embedding = output[1][0].squeeze()\n",
    "            title_embed_d[title] = embedding.detach().numpy()\n",
    "            break\n",
    "        except Exception as e:\n",
    "            print(e)"
   ]
  },
  {
   "cell_type": "code",
   "execution_count": 17,
   "id": "d6e47383-fd00-4b77-b9b1-3a790b90d80c",
   "metadata": {},
   "outputs": [],
   "source": [
    "gla_test_df['title_embedding'] = gla_test_df.abstract_title.apply(lambda x: title_embed_d[x])"
   ]
  },
  {
   "cell_type": "code",
   "execution_count": 18,
   "id": "80f6a1ef-ef93-4699-9442-89fc300ca1d6",
   "metadata": {},
   "outputs": [
    {
     "name": "stderr",
     "output_type": "stream",
     "text": [
      "100%|██████████| 100/100 [00:09<00:00, 10.82it/s]\n"
     ]
    }
   ],
   "source": [
    "title_embed_d = {}\n",
    "for title in tqdm(mix_test_df.abstract_title.unique()):\n",
    "    # print(title)\n",
    "    while True:\n",
    "        try:\n",
    "            inputs = embedding_tokenizer(title, return_tensors=\"pt\")\n",
    "            output = embedding_model(**inputs)\n",
    "            embedding = output[1][0].squeeze()\n",
    "            title_embed_d[title] = embedding.detach().numpy()\n",
    "            break\n",
    "        except Exception as e:\n",
    "            print(e)"
   ]
  },
  {
   "cell_type": "code",
   "execution_count": 19,
   "id": "d547eff8-aaf8-4040-970b-dc7d8c0f5ad1",
   "metadata": {},
   "outputs": [],
   "source": [
    "mix_test_df['title_embedding'] = mix_test_df.abstract_title.apply(lambda x: title_embed_d[x])"
   ]
  },
  {
   "cell_type": "code",
   "execution_count": 20,
   "id": "c575b23a-2528-4121-b89f-1e994c88d85a",
   "metadata": {},
   "outputs": [],
   "source": [
    "def get_abstract_texts(df):\n",
    "\n",
    "    concatenated_text = df.fillna('').groupby('doc_id')['text'].agg(' '.join).reset_index()\n",
    "    concatenated_text['text'] = concatenated_text['text'].str.strip()\n",
    "    df = df.merge(concatenated_text, on='doc_id', suffixes=('', '_concatenated'))\n",
    "    df = df.rename(columns={'text_concatenated': 'abstract_text'})\n",
    "\n",
    "    return df"
   ]
  },
  {
   "cell_type": "code",
   "execution_count": 21,
   "id": "5ed9778d-0f96-4964-93da-8a74a168200b",
   "metadata": {},
   "outputs": [],
   "source": [
    "neo_train_df = get_abstract_texts(neo_train_df)\n",
    "neo_test_df = get_abstract_texts(neo_test_df)\n",
    "gla_test_df = get_abstract_texts(gla_test_df)\n",
    "mix_test_df = get_abstract_texts(mix_test_df)"
   ]
  },
  {
   "cell_type": "code",
   "execution_count": 22,
   "id": "fbe0f84f-5550-47af-a376-db874fb508d0",
   "metadata": {},
   "outputs": [],
   "source": [
    "def process_majorclaims(x):\n",
    "\n",
    "    aty = x.aty\n",
    "    if aty == 'MajorClaim':\n",
    "        aty = 'Claim'\n",
    "\n",
    "    return aty"
   ]
  },
  {
   "cell_type": "code",
   "execution_count": 23,
   "id": "6d312b59-f56e-4319-9bad-2548854e78b8",
   "metadata": {},
   "outputs": [],
   "source": [
    "neo_train_df['aty'] = neo_train_df.apply(lambda x: process_majorclaims(x), axis=1)\n",
    "neo_test_df['aty'] = neo_test_df.apply(lambda x: process_majorclaims(x), axis=1)\n",
    "gla_test_df['aty'] = gla_test_df.apply(lambda x: process_majorclaims(x), axis=1)\n",
    "mix_test_df['aty'] = mix_test_df.apply(lambda x: process_majorclaims(x), axis=1)"
   ]
  },
  {
   "cell_type": "code",
   "execution_count": 24,
   "id": "43294d67-5e1d-4b5c-a7f3-74d64a4e249a",
   "metadata": {},
   "outputs": [
    {
     "data": {
      "text/plain": [
       "aty\n",
       "Premise    0.680052\n",
       "Claim      0.319948\n",
       "Name: proportion, dtype: float64"
      ]
     },
     "execution_count": 24,
     "metadata": {},
     "output_type": "execute_result"
    }
   ],
   "source": [
    "neo_train_df[neo_train_df.aty != 'none'].aty.value_counts(normalize=True)"
   ]
  },
  {
   "cell_type": "markdown",
   "id": "ee72f2fb-f89c-4f44-b52a-e3735c570452",
   "metadata": {},
   "source": [
    "## Get K neighbours"
   ]
  },
  {
   "cell_type": "code",
   "execution_count": 25,
   "id": "af5e4bd3-0fb2-43bf-b1c0-423bc64cf869",
   "metadata": {},
   "outputs": [],
   "source": [
    "def get_k_neighbours(k, title, test_df, train_df=neo_train_df):\n",
    "\n",
    "    test_title_embedding = test_df[test_df.abstract_title == title][\"title_embedding\"].values[0]\n",
    "\n",
    "    title_embed_d = {}\n",
    "    for e in train_df.iterrows():\n",
    "        if e[1].abstract_title not in title_embed_d:\n",
    "            title_embed_d[e[1].abstract_title] = e[1].title_embedding\n",
    "\n",
    "    # train_titles = set(df[df.split == 'TRAIN'].title.unique())\n",
    "    train_titles = set(train_df.abstract_title.unique())\n",
    "\n",
    "    dist_l = []\n",
    "    for t, v in title_embed_d.items():\n",
    "        if t in train_titles:\n",
    "            # d = cos_sim(title_embed_d[title], v)\n",
    "            d = F.cosine_similarity(torch.tensor(test_title_embedding), torch.tensor(v), dim=0)\n",
    "            dist_l.append((t, d.item()))\n",
    "\n",
    "    sorted_dist_l = sorted(dist_l, key=itemgetter(1), reverse=True)\n",
    "    \n",
    "    return sorted_dist_l[0: k]"
   ]
  },
  {
   "cell_type": "code",
   "execution_count": 26,
   "id": "80b2cd04-08d5-488a-95d2-cb1ece514ce4",
   "metadata": {},
   "outputs": [
    {
     "data": {
      "text/plain": [
       "[(' Research has shown that self-directed stress management training improves mental well-being in patients undergoing chemotherapy',\n",
       "  0.9953505992889404),\n",
       " (' Numerous studies have examined the comorbidity of depression with cancer, and some have indicated that depression may be associated with cancer progression or survival',\n",
       "  0.994724452495575),\n",
       " (' Behavioral symptoms are common in breast cancer survivors, including disturbances in energy, sleep, and mood, though few risk factors for these negative outcomes have been identified',\n",
       "  0.9935887455940247),\n",
       " (' Lymphoma patients commonly experience declines in physical functioning and quality of life (QoL) that may be reversed with exercise training',\n",
       "  0.9935306310653687),\n",
       " (' Few intervention studies have been conducted to help couples manage the effects of prostate cancer and maintain their quality of life',\n",
       "  0.992271900177002)]"
      ]
     },
     "execution_count": 26,
     "metadata": {},
     "output_type": "execute_result"
    }
   ],
   "source": [
    "get_k_neighbours(5, neo_test_df.iloc[100][\"abstract_title\"], neo_test_df)"
   ]
  },
  {
   "cell_type": "markdown",
   "id": "835b1354-2302-4d83-b7ae-c6c3373b868b",
   "metadata": {},
   "source": [
    "## Prepare Prompts"
   ]
  },
  {
   "cell_type": "code",
   "execution_count": 27,
   "id": "552c1b97-e8e0-4425-900e-59d77baf447e",
   "metadata": {},
   "outputs": [],
   "source": [
    "def prepare_similar_example_prompts(title, df, k=3, seed=33):\n",
    "    \"\"\"\n",
    "    Create a part of prompt made of k examples in the train set, whose topic is most similar to a given title.\n",
    "    \"\"\"\n",
    "\n",
    "    random.seed(seed)\n",
    "\n",
    "    neighbours_l = get_k_neighbours(2*k, title, df) # Fetch the 2*k closest neighbors\n",
    "    # print(neighbours_l)\n",
    "    sampled_neighbours_l = random.sample(neighbours_l, k) # Only keep k of them\n",
    "    # bprint(sampled_neighbours_l)\n",
    "\n",
    "    prompt = ''\n",
    "    cnt = 0\n",
    "    for i, (title, dist) in enumerate(sampled_neighbours_l):\n",
    "        prompt += f'## Example {i+1}\\n'\n",
    "\n",
    "        example_df = neo_train_df[neo_train_df.abstract_title == title]\n",
    "        example_df = example_df[example_df.aty != 'none'].reset_index()\n",
    "        \n",
    "        class_l = []\n",
    "        for k in example_df.iterrows():\n",
    "            \n",
    "            if k[0] == 0:\n",
    "\n",
    "                prompt += f'# Abstract:\\n{example_df.iloc[0].abstract_text}\\n\\n# Arguments:\\n'\n",
    "                cnt = 0\n",
    "                \n",
    "            # prompt += f'Argument {cnt + 1}={k[1].text} - Class={k[1].aty}\\n'\n",
    "            prompt += f'Argument {cnt + 1}={k[1].text}\\n'\n",
    "            class_l.append(k[1].aty)\n",
    "            cnt += 1\n",
    "            \n",
    "        prompt += '\\n# Result:\\n'\n",
    "        prompt += '{' + ', '.join([f'\"Argument {i + 1}\": \"{class_l[i]}\"' for i in range(len(class_l))]) + '}'\n",
    "        prompt += '\\n\\n'\n",
    "\n",
    "    return prompt"
   ]
  },
  {
   "cell_type": "code",
   "execution_count": 28,
   "id": "808aaf63-3b10-4366-a13f-c2eee4b1ba95",
   "metadata": {
    "scrolled": true
   },
   "outputs": [
    {
     "name": "stdout",
     "output_type": "stream",
     "text": [
      "## Example 1\n",
      "# Abstract:\n",
      "Vasomotor symptoms are common adverse effects of antiestrogen hormone treatment in conventional breast cancer care. Hormone replacement therapy is contraindicated in patients with breast cancer. Venlafaxine (Effexor), the therapy of choice for these symptoms, has numerous adverse effects. Recent studies suggest acupuncture may be effective in reducing vasomotor symptoms in menopausal women. This randomized controlled trial tested whether acupuncture reduces vasomotor symptoms and produces fewer adverse effects than venlafaxine. Fifty patients were randomly assigned to receive 12 weeks of acupuncture (n = 25) or venlafaxine (n = 25) treatment. Health outcomes were measured for up to 1 year post-treatment. Both groups exhibited significant decreases in hot flashes, depressive symptoms, and other quality-of-life symptoms, including significant improvements in mental health from pre- to post-treatment. These changes were similar in both groups, indicating that acupuncture was as effective as venlafaxine. By 2 weeks post-treatment, the venlafaxine group experienced significant increases in hot flashes, whereas hot flashes in the acupuncture group remained at low levels. The venlafaxine group experienced 18 incidences of adverse effects (eg, nausea, dry mouth, dizziness, anxiety), whereas the acupuncture group experienced no negative adverse effects. The venlafaxine group experienced 18 incidences of adverse effects (eg, nausea, dry mouth, dizziness, anxiety), whereas the acupuncture group experienced no negative adverse effects. Acupuncture had the additional benefit of increased sex drive in some women, and most reported an improvement in their energy, clarity of thought, and sense of well-being. Acupuncture appears to be equivalent to drug therapy in these patients. It is a safe, effective and durable treatment for vasomotor symptoms secondary to long-term antiestrogen hormone use in patients with breast cancer.\n",
      "\n",
      "# Arguments:\n",
      "Argument 1=Both groups exhibited significant decreases in hot flashes, depressive symptoms, and other quality-of-life symptoms, including significant improvements in mental health from pre- to post-treatment.\n",
      "Argument 2=These changes were similar in both groups, indicating that acupuncture was as effective as venlafaxine.\n",
      "Argument 3=By 2 weeks post-treatment, the venlafaxine group experienced significant increases in hot flashes, whereas hot flashes in the acupuncture group remained at low levels.\n",
      "Argument 4=The venlafaxine group experienced 18 incidences of adverse effects (eg, nausea, dry mouth, dizziness, anxiety), whereas the acupuncture group experienced no negative adverse effects.\n",
      "Argument 5=The venlafaxine group experienced 18 incidences of adverse effects (eg, nausea, dry mouth, dizziness, anxiety), whereas the acupuncture group experienced no negative adverse effects.\n",
      "Argument 6=Acupuncture had the additional benefit of increased sex drive in some women, and most reported an improvement in their energy, clarity of thought, and sense of well-being.\n",
      "Argument 7=Acupuncture appears to be equivalent to drug therapy in these patients.\n",
      "Argument 8=It is a safe, effective and durable treatment for vasomotor symptoms secondary to long-term antiestrogen hormone use in patients with breast cancer.\n",
      "\n",
      "# Result:\n",
      "{\"Argument 1\": \"Premise\", \"Argument 2\": \"Premise\", \"Argument 3\": \"Premise\", \"Argument 4\": \"Premise\", \"Argument 5\": \"Premise\", \"Argument 6\": \"Premise\", \"Argument 7\": \"Claim\", \"Argument 8\": \"Claim\"}\n",
      "\n",
      "## Example 2\n",
      "# Abstract:\n",
      "Impaired cognition, fatigue, and diminished quality of life (QOL) are commonly associated with breast cancer chemotherapy. This randomized, double-blind, placebo-controlled pilot trial assessed the feasibility of quantifying the effects of epoetin alfa on cognitive function and mood, and evaluated its effects on fatigue and QOL in patients with breast cancer treated with anthracycline-based adjuvant or neoadjuvant chemotherapy. Patients were randomized to receive epoetin alfa 40,000 U subcutaneously once weekly or placebo at the beginning of 4 cycles of chemotherapy administered over 12 weeks. Cognitive function was assessed by Executive Interview (EXIT25) and Clock Drawing Tasks; mood by Profile of Mood States; anemia-related symptoms, including fatigue, by the Functional Assessment of Cancer Therapy-Anemia (FACT-An) subscale; and QOL by Linear Analog Scale Assessment. Ninety-four patients were evaluable for efficacy and safety. Mean change in EXIT25 scores from baseline to cycle 4 in the epoetin alfa group was 1.3 +/- 3.3; the mean change was 0.3 +/- 2.4 in the placebo group (a negative change indicates improved executive function). There was no difference between groups in mean change in EXIT25 score from baseline to 6-month follow-up assessment. Mean hemoglobin levels were higher in the epoetin alfa group compared with the placebo group after 4 cycles of chemotherapy. Epoetin alfa recipients had less of a decrease in FACT-An subscale scores from baseline to cycle 4 and improvement in FACT-An subscale scores at 6-month follow-up assessment compared with placebo. Epoetin alfa therapy was well tolerated. These data suggest that epoetin alfa may have attenuated the cognitive impairment and fatigue that occurred during adjuvant breast cancer chemotherapy.\n",
      "\n",
      "# Arguments:\n",
      "Argument 1=Impaired cognition, fatigue, and diminished quality of life (QOL) are commonly associated with breast cancer chemotherapy.\n",
      "Argument 2=Mean change in EXIT25 scores from baseline to cycle 4 in the epoetin alfa group was 1.3 +/- 3.3;\n",
      "Argument 3=the mean change was 0.3 +/- 2.4 in the placebo group (a negative change indicates improved executive function).\n",
      "Argument 4=There was no difference between groups in mean change in EXIT25 score from baseline to 6-month follow-up assessment.\n",
      "Argument 5=Mean hemoglobin levels were higher in the epoetin alfa group compared with the placebo group after 4 cycles of chemotherapy.\n",
      "Argument 6=Epoetin alfa recipients had less of a decrease in FACT-An subscale scores from baseline to cycle 4 and improvement in FACT-An subscale scores at 6-month follow-up assessment compared with placebo.\n",
      "Argument 7=Epoetin alfa therapy was well tolerated.\n",
      "Argument 8=These data suggest that epoetin alfa may have attenuated the cognitive impairment and fatigue that occurred during adjuvant breast cancer chemotherapy.\n",
      "\n",
      "# Result:\n",
      "{\"Argument 1\": \"Claim\", \"Argument 2\": \"Premise\", \"Argument 3\": \"Premise\", \"Argument 4\": \"Premise\", \"Argument 5\": \"Premise\", \"Argument 6\": \"Premise\", \"Argument 7\": \"Claim\", \"Argument 8\": \"Claim\"}\n",
      "\n",
      "## Example 3\n",
      "# Abstract:\n",
      "Nocturnal administration of branched-chain amino acid (BCAA) granules improves serum albumin levels in patients with cirrhosis. However, it is unclear whether or not this administration method can improve the patients' quality of life (QOL). In this study, we aimed to investigate the efficacy of BCAA granules, given nocturnally, in improving QOL in these patients. We performed a multicenter, randomized controlled trial examining the comparative effects of BCAA granules given orally for 3 months with daytime or nocturnal administration in patients with compensated cirrhosis. Health-related QOL was measured by a Japanese version of the questionnaire on subjective and objective symptoms, and the Short Form-8 (SF-8) questionnaire. Twenty-one patients received BCAA granules three times a day (one sachet after each meal: the daytime group), and 16 patients received the granules twice a day (one sachet after breakfast, and two sachets before bedtime: the nocturnal group). Baseline characteristics did not differ between the groups (whole cohort: Child-Pugh grade A/B, 21/16; mean age, 68.2 years). There was no significant difference in any of the subjects revealed by the questionnaire regarding subjective or objective symptoms, or by the SF-8 between the daytime group and the nocturnal group after 3 months of treatment. The daytime group showed a significant effect on general health, vitality, social functioning, mental health, and role emotional as revealed on the SF-8. Conversely, the nocturnal group exhibited a significant decrease in the occurrence of muscle cramps in the legs (P = 0.014) and significantly improved Fisher's ratio after 3 months (P = 0.04). Nocturnal administration of BCAA granules in patients with cirrhosis reduced the occurrence of muscle cramps in the leg but did not improve the patients' QOL.\n",
      "\n",
      "# Arguments:\n",
      "Argument 1=There was no significant difference in any of the subjects revealed by the questionnaire regarding subjective or objective symptoms, or by the SF-8 between the daytime group and the nocturnal group after 3 months of treatment.\n",
      "Argument 2=The daytime group showed a significant effect on general health, vitality, social functioning, mental health, and role emotional as revealed on the SF-8.\n",
      "Argument 3=Conversely, the nocturnal group exhibited a significant decrease in the occurrence of muscle cramps in the legs (P = 0.014) and significantly improved Fisher's ratio after 3 months (P = 0.04).\n",
      "Argument 4=Nocturnal administration of BCAA granules in patients with cirrhosis reduced the occurrence of muscle cramps in the leg but did not improve the patients' QOL.\n",
      "\n",
      "# Result:\n",
      "{\"Argument 1\": \"Premise\", \"Argument 2\": \"Premise\", \"Argument 3\": \"Premise\", \"Argument 4\": \"Claim\"}\n",
      "\n",
      "\n"
     ]
    }
   ],
   "source": [
    "print(prepare_similar_example_prompts(neo_test_df.iloc[14][\"abstract_title\"], neo_test_df, k=3))"
   ]
  },
  {
   "cell_type": "markdown",
   "id": "ac26cf7a-b9a9-43ec-aa97-1d399c5acb3f",
   "metadata": {},
   "source": [
    "## Prepare Test Set Prompts"
   ]
  },
  {
   "cell_type": "code",
   "execution_count": 29,
   "id": "74d1d550-d451-47d2-8791-0a4879a4abb7",
   "metadata": {},
   "outputs": [],
   "source": [
    "claim_fulldesc = \"A claim in the abstract of an RCT is a statement or conclusion about the findings of the study.\""
   ]
  },
  {
   "cell_type": "code",
   "execution_count": 30,
   "id": "9113d8e4-e75c-4bbe-a690-b3069ba838dc",
   "metadata": {},
   "outputs": [
    {
     "data": {
      "text/plain": [
       "'A claim in the abstract of an RCT is a statement or conclusion about the findings of the study.'"
      ]
     },
     "execution_count": 30,
     "metadata": {},
     "output_type": "execute_result"
    }
   ],
   "source": [
    "claim_fulldesc"
   ]
  },
  {
   "cell_type": "code",
   "execution_count": 31,
   "id": "50e826fc-5d8c-4479-88ba-b223dd452512",
   "metadata": {},
   "outputs": [],
   "source": [
    "premise_fulldesc = \"A premise in the abstract of an RCT is a statement that provides an evidence or proof for a claim.\""
   ]
  },
  {
   "cell_type": "code",
   "execution_count": 32,
   "id": "598963db-b3fc-4f56-8024-45fa1423fba3",
   "metadata": {},
   "outputs": [
    {
     "data": {
      "text/plain": [
       "'A premise in the abstract of an RCT is a statement that provides an evidence or proof for a claim.'"
      ]
     },
     "execution_count": 32,
     "metadata": {},
     "output_type": "execute_result"
    }
   ],
   "source": [
    "premise_fulldesc"
   ]
  },
  {
   "cell_type": "code",
   "execution_count": 33,
   "id": "a9a35223-8e73-416f-86e1-0f26ab7d3120",
   "metadata": {},
   "outputs": [],
   "source": [
    "proportion_desc = \"68.0052% of examples are of type Premise and 31.9948% of type Claim.\""
   ]
  },
  {
   "cell_type": "code",
   "execution_count": 34,
   "id": "c0803ab3-d136-439f-90b1-a3e412ad2370",
   "metadata": {},
   "outputs": [
    {
     "data": {
      "text/plain": [
       "'68.0052% of examples are of type Premise and 31.9948% of type Claim.'"
      ]
     },
     "execution_count": 34,
     "metadata": {},
     "output_type": "execute_result"
    }
   ],
   "source": [
    "proportion_desc"
   ]
  },
  {
   "cell_type": "code",
   "execution_count": 86,
   "id": "d2bacc91-8288-4d64-a605-50c9cb20c5cf",
   "metadata": {},
   "outputs": [
    {
     "name": "stdout",
     "output_type": "stream",
     "text": [
      "CPU times: user 24.1 s, sys: 34 ms, total: 24.1 s\n",
      "Wall time: 24.3 s\n"
     ]
    }
   ],
   "source": [
    "%%time\n",
    "\n",
    "#experiment_df = df[df.split == 'TEST']\n",
    "# experiment_df = neo_test_df\n",
    "# experiment_df = gla_test_df\n",
    "experiment_df = mix_test_df\n",
    "\n",
    "target_l = []\n",
    "\n",
    "# Pre-prepare all examples from each document\n",
    "title_l = []\n",
    "essay_l = []\n",
    "example_l = []\n",
    "buffer_l = []\n",
    "label_l = []\n",
    "for e in experiment_df.iterrows():\n",
    "\n",
    "    if e[1].span_pos == 1:\n",
    "    #if e[0] == 0:\n",
    "        essay_l.append(e[1].abstract_text)\n",
    "        title_l.append(e[1].abstract_title)\n",
    "    \n",
    "    if e[1].span_pos == 1 and len(buffer_l) > 0:\n",
    "    #if e[0] == 0 and len(buffer_l) > 0:\n",
    "        example_l.append(buffer_l)\n",
    "        target_l.append(label_l)\n",
    "        buffer_l = []\n",
    "        label_l = []\n",
    "    if e[1].aty != 'none':\n",
    "        buffer_l.append(e[1].text)\n",
    "        label_l.append(e[1].aty)\n",
    "\n",
    "# Flush the buffers\n",
    "example_l.append(buffer_l)\n",
    "target_l.append(label_l)\n",
    "\n",
    "\n",
    "sys_msg_l_by_seed_d = {}\n",
    "task_msg_l = []\n",
    "\n",
    "for i in range(len(example_l)):\n",
    "\n",
    "    # Prepare numbered list of ACs in this example\n",
    "    other_acs_prompt = ''\n",
    "    for j, s in enumerate(example_l[i]):\n",
    "        # other_acs_prompt += f'Argument {j + 1}={s}\\n'\n",
    "        other_acs_prompt += f'Argument {j + 1}={s}\\n'\n",
    "\n",
    "    for seed in [33, 34, 35, 36, 37]:\n",
    "        sys_msg = {\"role\":\"system\", \"content\": \"### Task description: You are an expert biomedical assistant that takes 1) an abstract text, 2) the list of all arguments from this abstract text, and must classify all arguments into one of two classes: Claim or Premise. \" + proportion_desc + \" You must absolutely not generate any text or explanation other than the following JSON format {\\\"Argument 1\\\": <predicted class for Argument 1 (str)>, ..., \\\"Argument n\\\": <predicted class for Argument n (str)>}\\n\\n### Class definitions:\" + \" Claim = \" + claim_fulldesc + \" Premise = \" + premise_fulldesc + \"\\n\\n### Examples:\\n\\n\" + prepare_similar_example_prompts(title_l[i], experiment_df, k=3, seed=seed)}  # Sample by similar title\n",
    "\n",
    "        try:\n",
    "            sys_msg_l_by_seed_d[seed].append(sys_msg)\n",
    "        except KeyError:\n",
    "            sys_msg_l_by_seed_d[seed] = [sys_msg]\n",
    "\n",
    "    task_msg = {\"role\":\"user\", \"content\": f\"# Abstract:\\n{essay_l[i]}\\n\\n# Arguments:\\n{other_acs_prompt}\\n\\n# Result:\\n\"}\n",
    "    \n",
    "    task_msg_l.append(task_msg)"
   ]
  },
  {
   "cell_type": "code",
   "execution_count": 87,
   "id": "bab5f946-2558-487c-9242-dd26c53ecf38",
   "metadata": {},
   "outputs": [
    {
     "data": {
      "text/plain": [
       "100"
      ]
     },
     "execution_count": 87,
     "metadata": {},
     "output_type": "execute_result"
    }
   ],
   "source": [
    "len(sys_msg_l_by_seed_d[33])"
   ]
  },
  {
   "cell_type": "code",
   "execution_count": 88,
   "id": "5bc622e9-738a-4f72-a57c-7297d1c84f3b",
   "metadata": {
    "scrolled": true
   },
   "outputs": [
    {
     "name": "stdout",
     "output_type": "stream",
     "text": [
      "### Task description: You are an expert biomedical assistant that takes 1) an abstract text, 2) the list of all arguments from this abstract text, and must classify all arguments into one of two classes: Claim or Premise. 68.0052% of examples are of type Premise and 31.9948% of type Claim. You must absolutely not generate any text or explanation other than the following JSON format {\"Argument 1\": <predicted class for Argument 1 (str)>, ..., \"Argument n\": <predicted class for Argument n (str)>}\n",
      "\n",
      "### Class definitions: Claim = A claim in the abstract of an RCT is a statement or conclusion about the findings of the study. Premise = A premise in the abstract of an RCT is a statement that provides an evidence or proof for a claim.\n",
      "\n",
      "### Examples:\n",
      "\n",
      "## Example 1\n",
      "# Abstract:\n",
      "Treatment of patients with advanced or metastatic esophagogastric adenocarcinoma should not only prolong life but also provide relief of symptoms and improve quality of life (QOL). Esophagogastric adenocarcinoma mainly occurs in elderly patients, but they are underrepresented in most clinical trials and often do not receive effective combination chemotherapy, most probably for fear of intolerance. Using validated instruments, we prospectively assessed QOL within the randomized FLOT65+ phase II trial. Within the FLOT65+ trial, a total of 143 patients aged ≥65 years were randomly allocated to receive biweekly oxaliplatin plus 5-fluorouracil (5-FU) continuous infusion and folinic acid (FLO) or the same regimen in combination with docetaxel 50 mg/m(2) (FLOT). The European Organisation for Research and Treatment of Cancer Quality of Life Questionnaire C30 (EORTC QLQ-C30) and the gastric module STO22 were administered every 8 weeks until progression. Time to definitive deterioration of QOL parameters was analyzed and compared within the treatment arms. The median age of patients was 70 years. Patients receiving FLOT exhibited higher response rates and had improved disease-free and progression-free survival (PFS). The proportions of patients with evaluable baseline EORTC QLQ-C30 and STO22 questionnaires were balanced (83 % in FLOT and 89 % in FLO). Considering evaluable patients with assessable questionnaires (n = 123), neither functioning nor symptom parameters differed significantly in favor of one of the two treatment groups. Particularly, there was no significant difference regarding time to definitive deterioration of global health status/quality of life from baseline (primary endpoint). Notably, patients receiving FLO or FLOT as palliative treatment (n = 98) achieved comparable QOL results. Although toxicity was higher in patients receiving FLOT, no negative impact of the addition of docetaxel on QOL parameters could be demonstrated. Thus, elderly patients in need of intensified chemotherapy may receive FLOT without compromising patient-reported outcome parameters.\n",
      "\n",
      "# Arguments:\n",
      "Argument 1=Patients receiving FLOT exhibited higher response rates and had improved disease-free and progression-free survival (PFS).\n",
      "Argument 2=there was no significant difference regarding time to definitive deterioration of global health status/quality of life from baseline (primary endpoint).\n",
      "Argument 3=patients receiving FLO or FLOT as palliative treatment (n = 98) achieved comparable QOL results.\n",
      "Argument 4=Although toxicity was higher in patients receiving FLOT,\n",
      "Argument 5=no negative impact of the addition of docetaxel on QOL parameters could be demonstrated.\n",
      "Argument 6=elderly patients in need of intensified chemotherapy may receive FLOT without compromising patient-reported outcome parameters.\n",
      "\n",
      "# Result:\n",
      "{\"Argument 1\": \"Premise\", \"Argument 2\": \"Premise\", \"Argument 3\": \"Premise\", \"Argument 4\": \"Premise\", \"Argument 5\": \"Premise\", \"Argument 6\": \"Claim\"}\n",
      "\n",
      "## Example 2\n",
      "# Abstract:\n",
      "Chemotherapy prolongs survival and improves quality of life (QOL) for good performance status (PS) patients with advanced non-small cell lung cancer (NSCLC). Targeted therapies may improve chemotherapy effectiveness without worsening toxicity. SGN-15 is an antibody-drug conjugate (ADC), consisting of a chimeric murine monoclonal antibody recognizing the Lewis Y (Le(y)) antigen, conjugated to doxorubicin. Le(y) is an attractive target since it is expressed by most NSCLC. SGN-15 was active against Le(y)-positive tumors in early phase clinical trials and was synergistic with docetaxel in preclinical experiments. This Phase II, open-label study was conducted to confirm the activity of SGN-15 plus docetaxel in previously treated NSCLC patients. Sixty-two patients with recurrent or metastatic NSCLC expressing Le(y), one or two prior chemotherapy regimens, and PS< or =2 were randomized 2:1 to receive SGN-15 200 mg/m2/week with docetaxel 35 mg/m2/week (Arm A) or docetaxel 35 mg/m2/week alone (Arm B) for 6 of 8 weeks. Intrapatient dose-escalation of SGN-15 to 350 mg/m2 was permitted in the second half of the study. Endpoints were survival, safety, efficacy, and quality of life. Forty patients on Arm A and 19 on Arm B received at least one treatment. Patients on Arms A and B had median survivals of 31.4 and 25.3 weeks, 12-month survivals of 29% and 24%, and 18-month survivals of 18% and 8%, respectively  Toxicity was mild in both arms. QOL analyses favored Arm A. SGN-15 plus docetaxel is a well-tolerated and active second and third line treatment for NSCLC patients . Ongoing studies are exploring alternate schedules to maximize synergy between these agents.\n",
      "\n",
      "# Arguments:\n",
      "Argument 1=Chemotherapy prolongs survival and improves quality of life (QOL) for good performance status (PS) patients with advanced non-small cell lung cancer (NSCLC).\n",
      "Argument 2=Targeted therapies may improve chemotherapy effectiveness without worsening toxicity.\n",
      "Argument 3=Le(y) is an attractive target since it is expressed by most NSCLC.\n",
      "Argument 4=SGN-15 was active against Le(y)-positive tumors in early phase clinical trials and was synergistic with docetaxel in preclinical experiments.\n",
      "Argument 5=Patients on Arms A and B had median survivals of 31.4 and 25.3 weeks, 12-month survivals of 29% and 24%, and 18-month survivals of 18% and 8%, respectively\n",
      "Argument 6=Toxicity was mild in both arms.\n",
      "Argument 7=QOL analyses favored Arm A.\n",
      "Argument 8=SGN-15 plus docetaxel is a well-tolerated and active second and third line treatment for NSCLC patients\n",
      "\n",
      "# Result:\n",
      "{\"Argument 1\": \"Claim\", \"Argument 2\": \"Claim\", \"Argument 3\": \"Claim\", \"Argument 4\": \"Premise\", \"Argument 5\": \"Premise\", \"Argument 6\": \"Premise\", \"Argument 7\": \"Premise\", \"Argument 8\": \"Claim\"}\n",
      "\n",
      "## Example 3\n",
      "# Abstract:\n",
      "The impact of treatment on health-related quality of life (HRQoL) is an important consideration in the adjuvant treatment of operable breast cancer. Here we report mature HRQoL outcomes from the ATAC trial, comparing anastrozole with tamoxifen as primary adjuvant therapy for postmenopausal women with localized breast cancer. Patients completed the Functional Assessment of Cancer Therapy-Breast (FACT-B) questionnaire plus endocrine subscale (ES) at baseline, 3 and 6 months, and every 6 months thereafter. Baseline characteristics in the HRQoL sub-protocol were well balanced between the anastrozole (n = 335) and tamoxifen (n = 347) groups in the primary analysis population. As with previously published results at 2 years, there was no statistically significant difference in the Trial Outcome Index of the FACT-B, the primary endpoint of the study, between treatments at 5 years. There were no statistically significant differences between treatment groups in ES total scores. Consistent with the 2-year analysis, there were differences between treatment groups in patient-reported side effects: diarrhea (anastrozole 3.1% vs. tamoxifen 1.3%), vaginal dryness (18.5% vs. 9.1%), diminished libido (34.0% vs. 26.1%), and dyspareunia (17.3% vs. 8.1%) were significantly more frequent with anastrozole compared to tamoxifen. Dizziness (3.1% vs. 5.4%) and vaginal discharge (1.2% vs. 5.2%) were significantly less frequent with anastrozole compared to tamoxifen. In this, the first report of HRQoL over 5 years of initial adjuvant therapy with an aromatase inhibitor, we conclude that anastrozole and tamoxifen had similar impacts on HRQoL, which was maintained or slightly improved during the treatment period for both groups.\n",
      "\n",
      "# Arguments:\n",
      "Argument 1=The impact of treatment on health-related quality of life (HRQoL) is an important consideration in the adjuvant treatment of operable breast cancer.\n",
      "Argument 2=As with previously published results at 2 years, there was no statistically significant difference in the Trial Outcome Index of the FACT-B, the primary endpoint of the study, between treatments at 5 years.\n",
      "Argument 3=There were no statistically significant differences between treatment groups in ES total scores.\n",
      "Argument 4=there were differences between treatment groups in patient-reported side effects:\n",
      "Argument 5=diarrhea (anastrozole 3.1% vs. tamoxifen 1.3%), vaginal dryness (18.5% vs. 9.1%), diminished libido (34.0% vs. 26.1%), and dyspareunia (17.3% vs. 8.1%) were significantly more frequent with anastrozole compared to tamoxifen.\n",
      "Argument 6=Dizziness (3.1% vs. 5.4%) and vaginal discharge (1.2% vs. 5.2%) were significantly less frequent with anastrozole compared to tamoxifen.\n",
      "Argument 7=In this, the first report of HRQoL over 5 years of initial adjuvant therapy with an aromatase inhibitor, we conclude that anastrozole and tamoxifen had similar impacts on HRQoL, which was maintained or slightly improved during the treatment period for both groups.\n",
      "\n",
      "# Result:\n",
      "{\"Argument 1\": \"Claim\", \"Argument 2\": \"Premise\", \"Argument 3\": \"Premise\", \"Argument 4\": \"Claim\", \"Argument 5\": \"Premise\", \"Argument 6\": \"Premise\", \"Argument 7\": \"Claim\"}\n",
      "\n",
      "\n"
     ]
    }
   ],
   "source": [
    "print(sys_msg_l_by_seed_d[33][0]['content'])"
   ]
  },
  {
   "cell_type": "code",
   "execution_count": 89,
   "id": "6c231a43-6c8e-44e3-a844-28c84091194a",
   "metadata": {},
   "outputs": [
    {
     "data": {
      "text/plain": [
       "100"
      ]
     },
     "execution_count": 89,
     "metadata": {},
     "output_type": "execute_result"
    }
   ],
   "source": [
    "len(task_msg_l)"
   ]
  },
  {
   "cell_type": "code",
   "execution_count": 90,
   "id": "6421a3d0-4d0d-4344-ad1b-2f79c87a9d1f",
   "metadata": {},
   "outputs": [
    {
     "name": "stdout",
     "output_type": "stream",
     "text": [
      "# Abstract:\n",
      "Few controlled clinical trials exist to support oral combination therapy in pulmonary arterial hypertension (PAH). Patients with PAH (idiopathic [IPAH] or associated with connective tissue disease [APAH-CTD]) taking bosentan (62.5 or 125 mg twice daily at a stable dose for ≥3 months) were randomized (1:1) to sildenafil (20 mg, 3 times daily; n = 50) or placebo (n = 53). The primary endpoint was change from baseline in 6-min walk distance (6MWD) at week 12, assessed using analysis of covariance. Patients could continue in a 52-week extension study. An analysis of covariance main-effects model was used, which included categorical terms for treatment, baseline 6MWD (<325 m; ≥325 m), and baseline aetiology; sensitivity analyses were subsequently performed. In sildenafil versus placebo arms, week-12 6MWD increases were similar (least squares mean difference [sildenafil-placebo], -2.4 m [90% CI: -21.8 to 17.1 m]; P = 0.6); mean ± SD changes from baseline were 26.4 ± 45.7 versus 11.8 ± 57.4 m, respectively, in IPAH (65% of population) and -18.3 ± 82.0 versus 17.5 ± 59.1 m in APAH-CTD (35% of population). One-year survival was 96%; patients maintained modest 6MWD improvements. Changes in WHO functional class and Borg dyspnoea score and incidence of clinical worsening did not differ. Headache, diarrhoea, and flushing were more common with sildenafil. Sildenafil, in addition to stable (≥3 months) bosentan therapy, had no benefit over placebo for 12-week change from baseline in 6MWD. The influence of PAH aetiology warrants future study.\n",
      "\n",
      "# Arguments:\n",
      "Argument 1=In sildenafil versus placebo arms, week-12 6MWD increases were similar (least squares mean difference [sildenafil-placebo], -2.4 m [90% CI: -21.8 to 17.1 m]; P = 0.6); mean ± SD changes from baseline were 26.4 ± 45.7 versus 11.8 ± 57.4 m, respectively, in IPAH (65% of population) and -18.3 ± 82.0 versus 17.5 ± 59.1 m in APAH-CTD (35% of population).\n",
      "Argument 2=Changes in WHO functional class and Borg dyspnoea score and incidence of clinical worsening did not differ.\n",
      "Argument 3=Headache, diarrhoea, and flushing were more common with sildenafil.\n",
      "Argument 4=Sildenafil, in addition to stable (≥3 months) bosentan therapy, had no benefit over placebo for 12-week change from baseline in 6MWD.\n",
      "\n",
      "\n",
      "# Result:\n",
      "\n"
     ]
    }
   ],
   "source": [
    "print(task_msg_l[0]['content'])"
   ]
  },
  {
   "cell_type": "code",
   "execution_count": 91,
   "id": "c42dfc53-2fa9-4c21-bfa8-284d6442e935",
   "metadata": {},
   "outputs": [],
   "source": [
    "prepared_sys_task_msg_l = []\n",
    "\n",
    "for i in range(len(sys_msg_l_by_seed_d[33])):\n",
    "    prepared_sys_task_msg_l.append([sys_msg_l_by_seed_d[33][i], task_msg_l[i]])"
   ]
  },
  {
   "cell_type": "code",
   "execution_count": 92,
   "id": "b50a3f80-0c05-48c1-b3d2-ec22966d9cec",
   "metadata": {},
   "outputs": [
    {
     "data": {
      "text/plain": [
       "100"
      ]
     },
     "execution_count": 92,
     "metadata": {},
     "output_type": "execute_result"
    }
   ],
   "source": [
    "len(prepared_sys_task_msg_l)"
   ]
  },
  {
   "cell_type": "code",
   "execution_count": 93,
   "id": "b2d6ca65-b456-4b45-ace2-2f923701c84f",
   "metadata": {
    "scrolled": true
   },
   "outputs": [
    {
     "name": "stdout",
     "output_type": "stream",
     "text": [
      "[{'role': 'system', 'content': '### Task description: You are an expert biomedical assistant that takes 1) an abstract text, 2) the list of all arguments from this abstract text, and must classify all arguments into one of two classes: Claim or Premise. 68.0052% of examples are of type Premise and 31.9948% of type Claim. You must absolutely not generate any text or explanation other than the following JSON format {\"Argument 1\": <predicted class for Argument 1 (str)>, ..., \"Argument n\": <predicted class for Argument n (str)>}\\n\\n### Class definitions: Claim = A claim in the abstract of an RCT is a statement or conclusion about the findings of the study. Premise = A premise in the abstract of an RCT is a statement that provides an evidence or proof for a claim.\\n\\n### Examples:\\n\\n## Example 1\\n# Abstract:\\nTreatment of patients with advanced or metastatic esophagogastric adenocarcinoma should not only prolong life but also provide relief of symptoms and improve quality of life (QOL). Esophagogastric adenocarcinoma mainly occurs in elderly patients, but they are underrepresented in most clinical trials and often do not receive effective combination chemotherapy, most probably for fear of intolerance. Using validated instruments, we prospectively assessed QOL within the randomized FLOT65+ phase II trial. Within the FLOT65+ trial, a total of 143 patients aged ≥65 years were randomly allocated to receive biweekly oxaliplatin plus 5-fluorouracil (5-FU) continuous infusion and folinic acid (FLO) or the same regimen in combination with docetaxel 50 mg/m(2) (FLOT). The European Organisation for Research and Treatment of Cancer Quality of Life Questionnaire C30 (EORTC QLQ-C30) and the gastric module STO22 were administered every 8 weeks until progression. Time to definitive deterioration of QOL parameters was analyzed and compared within the treatment arms. The median age of patients was 70 years. Patients receiving FLOT exhibited higher response rates and had improved disease-free and progression-free survival (PFS). The proportions of patients with evaluable baseline EORTC QLQ-C30 and STO22 questionnaires were balanced (83 % in FLOT and 89 % in FLO). Considering evaluable patients with assessable questionnaires (n = 123), neither functioning nor symptom parameters differed significantly in favor of one of the two treatment groups. Particularly, there was no significant difference regarding time to definitive deterioration of global health status/quality of life from baseline (primary endpoint). Notably, patients receiving FLO or FLOT as palliative treatment (n = 98) achieved comparable QOL results. Although toxicity was higher in patients receiving FLOT, no negative impact of the addition of docetaxel on QOL parameters could be demonstrated. Thus, elderly patients in need of intensified chemotherapy may receive FLOT without compromising patient-reported outcome parameters.\\n\\n# Arguments:\\nArgument 1=Patients receiving FLOT exhibited higher response rates and had improved disease-free and progression-free survival (PFS).\\nArgument 2=there was no significant difference regarding time to definitive deterioration of global health status/quality of life from baseline (primary endpoint).\\nArgument 3=patients receiving FLO or FLOT as palliative treatment (n = 98) achieved comparable QOL results.\\nArgument 4=Although toxicity was higher in patients receiving FLOT,\\nArgument 5=no negative impact of the addition of docetaxel on QOL parameters could be demonstrated.\\nArgument 6=elderly patients in need of intensified chemotherapy may receive FLOT without compromising patient-reported outcome parameters.\\n\\n# Result:\\n{\"Argument 1\": \"Premise\", \"Argument 2\": \"Premise\", \"Argument 3\": \"Premise\", \"Argument 4\": \"Premise\", \"Argument 5\": \"Premise\", \"Argument 6\": \"Claim\"}\\n\\n## Example 2\\n# Abstract:\\nChemotherapy prolongs survival and improves quality of life (QOL) for good performance status (PS) patients with advanced non-small cell lung cancer (NSCLC). Targeted therapies may improve chemotherapy effectiveness without worsening toxicity. SGN-15 is an antibody-drug conjugate (ADC), consisting of a chimeric murine monoclonal antibody recognizing the Lewis Y (Le(y)) antigen, conjugated to doxorubicin. Le(y) is an attractive target since it is expressed by most NSCLC. SGN-15 was active against Le(y)-positive tumors in early phase clinical trials and was synergistic with docetaxel in preclinical experiments. This Phase II, open-label study was conducted to confirm the activity of SGN-15 plus docetaxel in previously treated NSCLC patients. Sixty-two patients with recurrent or metastatic NSCLC expressing Le(y), one or two prior chemotherapy regimens, and PS< or =2 were randomized 2:1 to receive SGN-15 200 mg/m2/week with docetaxel 35 mg/m2/week (Arm A) or docetaxel 35 mg/m2/week alone (Arm B) for 6 of 8 weeks. Intrapatient dose-escalation of SGN-15 to 350 mg/m2 was permitted in the second half of the study. Endpoints were survival, safety, efficacy, and quality of life. Forty patients on Arm A and 19 on Arm B received at least one treatment. Patients on Arms A and B had median survivals of 31.4 and 25.3 weeks, 12-month survivals of 29% and 24%, and 18-month survivals of 18% and 8%, respectively  Toxicity was mild in both arms. QOL analyses favored Arm A. SGN-15 plus docetaxel is a well-tolerated and active second and third line treatment for NSCLC patients . Ongoing studies are exploring alternate schedules to maximize synergy between these agents.\\n\\n# Arguments:\\nArgument 1=Chemotherapy prolongs survival and improves quality of life (QOL) for good performance status (PS) patients with advanced non-small cell lung cancer (NSCLC).\\nArgument 2=Targeted therapies may improve chemotherapy effectiveness without worsening toxicity.\\nArgument 3=Le(y) is an attractive target since it is expressed by most NSCLC.\\nArgument 4=SGN-15 was active against Le(y)-positive tumors in early phase clinical trials and was synergistic with docetaxel in preclinical experiments.\\nArgument 5=Patients on Arms A and B had median survivals of 31.4 and 25.3 weeks, 12-month survivals of 29% and 24%, and 18-month survivals of 18% and 8%, respectively\\nArgument 6=Toxicity was mild in both arms.\\nArgument 7=QOL analyses favored Arm A.\\nArgument 8=SGN-15 plus docetaxel is a well-tolerated and active second and third line treatment for NSCLC patients\\n\\n# Result:\\n{\"Argument 1\": \"Claim\", \"Argument 2\": \"Claim\", \"Argument 3\": \"Claim\", \"Argument 4\": \"Premise\", \"Argument 5\": \"Premise\", \"Argument 6\": \"Premise\", \"Argument 7\": \"Premise\", \"Argument 8\": \"Claim\"}\\n\\n## Example 3\\n# Abstract:\\nThe impact of treatment on health-related quality of life (HRQoL) is an important consideration in the adjuvant treatment of operable breast cancer. Here we report mature HRQoL outcomes from the ATAC trial, comparing anastrozole with tamoxifen as primary adjuvant therapy for postmenopausal women with localized breast cancer. Patients completed the Functional Assessment of Cancer Therapy-Breast (FACT-B) questionnaire plus endocrine subscale (ES) at baseline, 3 and 6 months, and every 6 months thereafter. Baseline characteristics in the HRQoL sub-protocol were well balanced between the anastrozole (n = 335) and tamoxifen (n = 347) groups in the primary analysis population. As with previously published results at 2 years, there was no statistically significant difference in the Trial Outcome Index of the FACT-B, the primary endpoint of the study, between treatments at 5 years. There were no statistically significant differences between treatment groups in ES total scores. Consistent with the 2-year analysis, there were differences between treatment groups in patient-reported side effects: diarrhea (anastrozole 3.1% vs. tamoxifen 1.3%), vaginal dryness (18.5% vs. 9.1%), diminished libido (34.0% vs. 26.1%), and dyspareunia (17.3% vs. 8.1%) were significantly more frequent with anastrozole compared to tamoxifen. Dizziness (3.1% vs. 5.4%) and vaginal discharge (1.2% vs. 5.2%) were significantly less frequent with anastrozole compared to tamoxifen. In this, the first report of HRQoL over 5 years of initial adjuvant therapy with an aromatase inhibitor, we conclude that anastrozole and tamoxifen had similar impacts on HRQoL, which was maintained or slightly improved during the treatment period for both groups.\\n\\n# Arguments:\\nArgument 1=The impact of treatment on health-related quality of life (HRQoL) is an important consideration in the adjuvant treatment of operable breast cancer.\\nArgument 2=As with previously published results at 2 years, there was no statistically significant difference in the Trial Outcome Index of the FACT-B, the primary endpoint of the study, between treatments at 5 years.\\nArgument 3=There were no statistically significant differences between treatment groups in ES total scores.\\nArgument 4=there were differences between treatment groups in patient-reported side effects:\\nArgument 5=diarrhea (anastrozole 3.1% vs. tamoxifen 1.3%), vaginal dryness (18.5% vs. 9.1%), diminished libido (34.0% vs. 26.1%), and dyspareunia (17.3% vs. 8.1%) were significantly more frequent with anastrozole compared to tamoxifen.\\nArgument 6=Dizziness (3.1% vs. 5.4%) and vaginal discharge (1.2% vs. 5.2%) were significantly less frequent with anastrozole compared to tamoxifen.\\nArgument 7=In this, the first report of HRQoL over 5 years of initial adjuvant therapy with an aromatase inhibitor, we conclude that anastrozole and tamoxifen had similar impacts on HRQoL, which was maintained or slightly improved during the treatment period for both groups.\\n\\n# Result:\\n{\"Argument 1\": \"Claim\", \"Argument 2\": \"Premise\", \"Argument 3\": \"Premise\", \"Argument 4\": \"Claim\", \"Argument 5\": \"Premise\", \"Argument 6\": \"Premise\", \"Argument 7\": \"Claim\"}\\n\\n'}, {'role': 'user', 'content': '# Abstract:\\nFew controlled clinical trials exist to support oral combination therapy in pulmonary arterial hypertension (PAH). Patients with PAH (idiopathic [IPAH] or associated with connective tissue disease [APAH-CTD]) taking bosentan (62.5 or 125 mg twice daily at a stable dose for ≥3 months) were randomized (1:1) to sildenafil (20 mg, 3 times daily; n = 50) or placebo (n = 53). The primary endpoint was change from baseline in 6-min walk distance (6MWD) at week 12, assessed using analysis of covariance. Patients could continue in a 52-week extension study. An analysis of covariance main-effects model was used, which included categorical terms for treatment, baseline 6MWD (<325 m; ≥325 m), and baseline aetiology; sensitivity analyses were subsequently performed. In sildenafil versus placebo arms, week-12 6MWD increases were similar (least squares mean difference [sildenafil-placebo], -2.4 m [90% CI: -21.8 to 17.1 m]; P = 0.6); mean ± SD changes from baseline were 26.4 ± 45.7 versus 11.8 ± 57.4 m, respectively, in IPAH (65% of population) and -18.3 ± 82.0 versus 17.5 ± 59.1 m in APAH-CTD (35% of population). One-year survival was 96%; patients maintained modest 6MWD improvements. Changes in WHO functional class and Borg dyspnoea score and incidence of clinical worsening did not differ. Headache, diarrhoea, and flushing were more common with sildenafil. Sildenafil, in addition to stable (≥3 months) bosentan therapy, had no benefit over placebo for 12-week change from baseline in 6MWD. The influence of PAH aetiology warrants future study.\\n\\n# Arguments:\\nArgument 1=In sildenafil versus placebo arms, week-12 6MWD increases were similar (least squares mean difference [sildenafil-placebo], -2.4 m [90% CI: -21.8 to 17.1 m]; P = 0.6); mean ± SD changes from baseline were 26.4 ± 45.7 versus 11.8 ± 57.4 m, respectively, in IPAH (65% of population) and -18.3 ± 82.0 versus 17.5 ± 59.1 m in APAH-CTD (35% of population).\\nArgument 2=Changes in WHO functional class and Borg dyspnoea score and incidence of clinical worsening did not differ.\\nArgument 3=Headache, diarrhoea, and flushing were more common with sildenafil.\\nArgument 4=Sildenafil, in addition to stable (≥3 months) bosentan therapy, had no benefit over placebo for 12-week change from baseline in 6MWD.\\n\\n\\n# Result:\\n'}]\n"
     ]
    }
   ],
   "source": [
    "print(prepared_sys_task_msg_l[0])"
   ]
  },
  {
   "cell_type": "markdown",
   "id": "7ecf1b59-b3ce-4cd4-a6bc-9888a4600aac",
   "metadata": {},
   "source": [
    "## Generate Predictions"
   ]
  },
  {
   "cell_type": "code",
   "execution_count": 94,
   "id": "58ec6f7d-3838-4be8-b4b8-71b58f146b75",
   "metadata": {},
   "outputs": [
    {
     "name": "stderr",
     "output_type": "stream",
     "text": [
      "100%|██████████| 100/100 [11:03<00:00,  6.63s/it]\n"
     ]
    }
   ],
   "source": [
    "outputs_l = []\n",
    "\n",
    "for i in tqdm(range(len(prepared_sys_task_msg_l))):\n",
    "\n",
    "    messages = prepared_sys_task_msg_l[i]\n",
    "\n",
    "    input_ids = inference_tokenizer.apply_chat_template(\n",
    "    messages,\n",
    "    add_generation_prompt=True,\n",
    "    tokenize=True,\n",
    "    padding=True,\n",
    "    truncation=True,\n",
    "    return_tensors=\"pt\"\n",
    ").to(generation_model.device)\n",
    "\n",
    "    outputs = generation_model.generate(\n",
    "    input_ids = input_ids,\n",
    "    max_new_tokens=1024,\n",
    "    pad_token_id=inference_tokenizer.eos_token_id,\n",
    "    eos_token_id=terminators,\n",
    "    do_sample=True,\n",
    "    temperature=0.1,\n",
    "    top_p=0.9,\n",
    "    )\n",
    "    # inference_tokenizer.decode(outputs[0][input_ids.shape[-1]:], skip_special_tokens=True)\n",
    "    outputs_l.append(inference_tokenizer.decode(outputs[0][input_ids.shape[-1]:], skip_special_tokens=True))"
   ]
  },
  {
   "cell_type": "code",
   "execution_count": 95,
   "id": "c6b68d0e-88c9-43d4-ae30-b97f4a849756",
   "metadata": {
    "scrolled": true
   },
   "outputs": [
    {
     "data": {
      "text/plain": [
       "['{\"Argument 1\": \"Premise\", \"Argument 2\": \"Premise\", \"Argument 3\": \"Premise\", \"Argument 4\": \"Claim\"}',\n",
       " '{\"Argument 1\": \"Premise\", \"Argument 2\": \"Premise\", \"Argument 3\": \"Premise\", \"Argument 4\": \"Premise\", \"Argument 5\": \"Premise\", \"Argument 6\": \"Premise\", \"Argument 7\": \"Premise\", \"Argument 8\": \"Claim\", \"Argument 9\": \"Claim\"}',\n",
       " '{\"Argument 1\": \"Premise\", \"Argument 2\": \"Premise\", \"Argument 3\": \"Premise\", \"Argument 4\": \"Premise\", \"Argument 5\": \"Premise\", \"Argument 6\": \"Premise\", \"Argument 7\": \"Claim\"}',\n",
       " '{\"Argument 1\": \"Premise\", \"Argument 2\": \"Premise\", \"Argument 3\": \"Premise\", \"Argument 4\": \"Premise\", \"Argument 5\": \"Claim\"}',\n",
       " '{\"Argument 1\": \"Claim\", \"Argument 2\": \"Claim\", \"Argument 3\": \"Premise\", \"Argument 4\": \"Premise\", \"Argument 5\": \"Premise\", \"Argument 6\": \"Claim\", \"Argument 7\": \"Claim\"}',\n",
       " '{\"Argument 1\": \"Premise\", \"Argument 2\": \"Premise\", \"Argument 3\": \"Premise\", \"Argument 4\": \"Claim\", \"Argument 5\": \"Claim\"}',\n",
       " '{\"Argument 1\": \"Premise\", \"Argument 2\": \"Premise\", \"Argument 3\": \"Premise\", \"Argument 4\": \"Premise\", \"Argument 5\": \"Premise\", \"Argument 6\": \"Premise\", \"Argument 7\": \"Claim\", \"Argument 8\": \"Claim\", \"Argument 9\": \"Claim\"}',\n",
       " '{\"Argument 1\": \"Premise\", \"Argument 2\": \"Premise\", \"Argument 3\": \"Premise\", \"Argument 4\": \"Premise\", \"Argument 5\": \"Premise\", \"Argument 6\": \"Claim\", \"Argument 7\": \"Claim\"}',\n",
       " '{\"Argument 1\": \"Claim\", \"Argument 2\": \"Premise\", \"Argument 3\": \"Premise\", \"Argument 4\": \"Premise\", \"Argument 5\": \"Premise\", \"Argument 6\": \"Premise\", \"Argument 7\": \"Claim\", \"Argument 8\": \"Premise\", \"Argument 9\": \"Premise\", \"Argument 10\": \"Claim\"}',\n",
       " '{\"Argument 1\": \"Premise\", \"Argument 2\": \"Premise\", \"Argument 3\": \"Premise\", \"Argument 4\": \"Claim\"}',\n",
       " '{\"Argument 1\": \"Premise\", \"Argument 2\": \"Premise\", \"Argument 3\": \"Premise\", \"Argument 4\": \"Premise\", \"Argument 5\": \"Claim\", \"Argument 6\": \"Claim\"}',\n",
       " '{\"Argument 1\": \"Premise\", \"Argument 2\": \"Premise\", \"Argument 3\": \"Premise\", \"Argument 4\": \"Premise\", \"Argument 5\": \"Claim\", \"Argument 6\": \"Claim\", \"Argument 7\": \"Claim\"}',\n",
       " '{\"Argument 1\": \"Claim\", \"Argument 2\": \"Premise\", \"Argument 3\": \"Premise\", \"Argument 4\": \"Premise\", \"Argument 5\": \"Claim\"}',\n",
       " '{\"Argument 1\": \"Premise\", \"Argument 2\": \"Premise\", \"Argument 3\": \"Premise\", \"Argument 4\": \"Claim\"}',\n",
       " '{\"Argument 1\": \"Premise\", \"Argument 2\": \"Premise\", \"Argument 3\": \"Premise\", \"Argument 4\": \"Premise\", \"Argument 5\": \"Claim\", \"Argument 6\": \"Claim\"}',\n",
       " '{\"Argument 1\": \"Premise\", \"Argument 2\": \"Premise\", \"Argument 3\": \"Premise\", \"Argument 4\": \"Premise\", \"Argument 5\": \"Claim\", \"Argument 6\": \"Claim\"}',\n",
       " '{\"Argument 1\": \"Premise\", \"Argument 2\": \"Premise\", \"Argument 3\": \"Premise\", \"Argument 4\": \"Claim\"}',\n",
       " '{\"Argument 1\": \"Premise\", \"Argument 2\": \"Claim\"}',\n",
       " '{\"Argument 1\": \"Claim\", \"Argument 2\": \"Premise\", \"Argument 3\": \"Premise\", \"Argument 4\": \"Premise\", \"Argument 5\": \"Claim\"}',\n",
       " '{\"Argument 1\": \"Premise\", \"Argument 2\": \"Premise\", \"Argument 3\": \"Premise\", \"Argument 4\": \"Premise\", \"Argument 5\": \"Premise\", \"Argument 6\": \"Premise\", \"Argument 7\": \"Claim\"}',\n",
       " '{\"Argument 1\": \"Premise\", \"Argument 2\": \"Premise\", \"Argument 3\": \"Premise\", \"Argument 4\": \"Premise\", \"Argument 5\": \"Premise\", \"Argument 6\": \"Premise\", \"Argument 7\": \"Claim\", \"Argument 8\": \"Premise\"}',\n",
       " '{\"Argument 1\": \"Premise\", \"Argument 2\": \"Premise\", \"Argument 3\": \"Premise\", \"Argument 4\": \"Premise\", \"Argument 5\": \"Premise\", \"Argument 6\": \"Claim\"}',\n",
       " '{\"Argument 1\": \"Premise\", \"Argument 2\": \"Premise\", \"Argument 3\": \"Premise\", \"Argument 4\": \"Premise\", \"Argument 5\": \"Premise\", \"Argument 6\": \"Premise\", \"Argument 7\": \"Premise\", \"Argument 8\": \"Premise\", \"Argument 9\": \"Premise\", \"Argument 10\": \"Premise\", \"Argument 11\": \"Claim\", \"Argument 12\": \"Claim\"}',\n",
       " '{\"Argument 1\": \"Premise\", \"Argument 2\": \"Premise\", \"Argument 3\": \"Premise\", \"Argument 4\": \"Premise\", \"Argument 5\": \"Premise\", \"Argument 6\": \"Claim\", \"Argument 7\": \"Claim\"}',\n",
       " '{\"Argument 1\": \"Claim\", \"Argument 2\": \"Premise\", \"Argument 3\": \"Premise\", \"Argument 4\": \"Premise\", \"Argument 5\": \"Claim\"}',\n",
       " '{\"Argument 1\": \"Premise\", \"Argument 2\": \"Premise\", \"Argument 3\": \"Premise\", \"Argument 4\": \"Claim\"}',\n",
       " '{\"Argument 1\": \"Premise\", \"Argument 2\": \"Premise\", \"Argument 3\": \"Premise\", \"Argument 4\": \"Premise\", \"Argument 5\": \"Premise\", \"Argument 6\": \"Claim\", \"Argument 7\": \"Claim\", \"Argument 8\": \"Claim\"}',\n",
       " '{\"Argument 1\": \"Premise\", \"Argument 2\": \"Premise\", \"Argument 3\": \"Premise\", \"Argument 4\": \"Premise\", \"Argument 5\": \"Claim\", \"Argument 6\": \"Claim\", \"Argument 7\": \"Claim\"}',\n",
       " '{\"Argument 1\": \"Claim\", \"Argument 2\": \"Premise\", \"Argument 3\": \"Premise\", \"Argument 4\": \"Claim\"}',\n",
       " '{\"Argument 1\": \"Claim\", \"Argument 2\": \"Claim\", \"Argument 3\": \"Premise\", \"Argument 4\": \"Premise\", \"Argument 5\": \"Premise\", \"Argument 6\": \"Premise\", \"Argument 7\": \"Premise\", \"Argument 8\": \"Claim\"}',\n",
       " '{\"Argument 1\": \"Premise\", \"Argument 2\": \"Premise\", \"Argument 3\": \"Premise\", \"Argument 4\": \"Premise\", \"Argument 5\": \"Claim\"}',\n",
       " '{\"Argument 1\": \"Claim\", \"Argument 2\": \"Claim\", \"Argument 3\": \"Premise\", \"Argument 4\": \"Premise\", \"Argument 5\": \"Premise\", \"Argument 6\": \"Claim\"}',\n",
       " '{\"Argument 1\": \"Premise\", \"Argument 2\": \"Premise\", \"Argument 3\": \"Premise\", \"Argument 4\": \"Claim\", \"Argument 5\": \"Claim\"}',\n",
       " '{\"Argument 1\": \"Premise\", \"Argument 2\": \"Premise\", \"Argument 3\": \"Premise\", \"Argument 4\": \"Premise\", \"Argument 5\": \"Premise\", \"Argument 6\": \"Claim\"}',\n",
       " '{\"Argument 1\": \"Claim\", \"Argument 2\": \"Premise\", \"Argument 3\": \"Premise\", \"Argument 4\": \"Premise\", \"Argument 5\": \"Premise\", \"Argument 6\": \"Premise\", \"Argument 7\": \"Premise\", \"Argument 8\": \"Claim\", \"Argument 9\": \"Claim\"}',\n",
       " '{\"Argument 1\": \"Claim\", \"Argument 2\": \"Premise\", \"Argument 3\": \"Premise\", \"Argument 4\": \"Premise\", \"Argument 5\": \"Claim\", \"Argument 6\": \"Premise\", \"Argument 7\": \"Claim\"}',\n",
       " '{\"Argument 1\": \"Premise\", \"Argument 2\": \"Premise\", \"Argument 3\": \"Claim\", \"Argument 4\": \"Claim\"}',\n",
       " '{\"Argument 1\": \"Premise\", \"Argument 2\": \"Premise\", \"Argument 3\": \"Premise\", \"Argument 4\": \"Premise\", \"Argument 5\": \"Premise\", \"Argument 6\": \"Claim\"}',\n",
       " '{\"Argument 1\": \"Premise\", \"Argument 2\": \"Premise\", \"Argument 3\": \"Premise\", \"Argument 4\": \"Premise\", \"Argument 5\": \"Claim\"}',\n",
       " '{\"Argument 1\": \"Premise\", \"Argument 2\": \"Premise\", \"Argument 3\": \"Premise\", \"Argument 4\": \"Premise\", \"Argument 5\": \"Claim\"}',\n",
       " '{\"Argument 1\": \"Premise\", \"Argument 2\": \"Premise\", \"Argument 3\": \"Premise\", \"Argument 4\": \"Premise\", \"Argument 5\": \"Premise\", \"Argument 6\": \"Premise\", \"Argument 7\": \"Claim\"}',\n",
       " '{\"Argument 1\": \"Premise\", \"Argument 2\": \"Premise\", \"Argument 3\": \"Premise\", \"Argument 4\": \"Premise\", \"Argument 5\": \"Premise\", \"Argument 6\": \"Claim\", \"Argument 7\": \"Claim\"}',\n",
       " '{\"Argument 1\": \"Premise\", \"Argument 2\": \"Premise\", \"Argument 3\": \"Premise\", \"Argument 4\": \"Premise\", \"Argument 5\": \"Claim\"}',\n",
       " '{\"Argument 1\": \"Premise\", \"Argument 2\": \"Premise\", \"Argument 3\": \"Premise\", \"Argument 4\": \"Premise\", \"Argument 5\": \"Claim\", \"Argument 6\": \"Claim\"}',\n",
       " '{\"Argument 1\": \"Premise\", \"Argument 2\": \"Premise\", \"Argument 3\": \"Premise\", \"Argument 4\": \"Premise\", \"Argument 5\": \"Premise\", \"Argument 6\": \"Claim\"}',\n",
       " '{\"Argument 1\": \"Premise\", \"Argument 2\": \"Premise\", \"Argument 3\": \"Claim\", \"Argument 4\": \"Claim\"}',\n",
       " '{\"Argument 1\": \"Premise\", \"Argument 2\": \"Premise\", \"Argument 3\": \"Premise\", \"Argument 4\": \"Premise\", \"Argument 5\": \"Claim\", \"Argument 6\": \"Claim\"}',\n",
       " '{\"Argument 1\": \"Premise\", \"Argument 2\": \"Premise\", \"Argument 3\": \"Premise\", \"Argument 4\": \"Premise\", \"Argument 5\": \"Claim\"}',\n",
       " '{\"Argument 1\": \"Premise\", \"Argument 2\": \"Premise\", \"Argument 3\": \"Premise\", \"Argument 4\": \"Claim\", \"Argument 5\": \"Premise\", \"Argument 6\": \"Premise\", \"Argument 7\": \"Claim\", \"Argument 8\": \"Claim\"}',\n",
       " '{\"Argument 1\": \"Premise\", \"Argument 2\": \"Premise\", \"Argument 3\": \"Premise\", \"Argument 4\": \"Premise\", \"Argument 5\": \"Claim\", \"Argument 6\": \"Claim\"}',\n",
       " '{\"Argument 1\": \"Premise\", \"Argument 2\": \"Premise\", \"Argument 3\": \"Premise\", \"Argument 4\": \"Premise\", \"Argument 5\": \"Claim\", \"Argument 6\": \"Premise\", \"Argument 7\": \"Premise\", \"Argument 8\": \"Claim\"}',\n",
       " '{\"Argument 1\": \"Premise\", \"Argument 2\": \"Premise\", \"Argument 3\": \"Premise\", \"Argument 4\": \"Premise\", \"Argument 5\": \"Claim\"}',\n",
       " '{\"Argument 1\": \"Premise\", \"Argument 2\": \"Premise\", \"Argument 3\": \"Claim\"}',\n",
       " '{\"Argument 1\": \"Premise\", \"Argument 2\": \"Premise\", \"Argument 3\": \"Premise\", \"Argument 4\": \"Premise\", \"Argument 5\": \"Claim\", \"Argument 6\": \"Claim\"}',\n",
       " '{\"Argument 1\": \"Premise\", \"Argument 2\": \"Premise\", \"Argument 3\": \"Premise\", \"Argument 4\": \"Premise\", \"Argument 5\": \"Premise\", \"Argument 6\": \"Claim\"}',\n",
       " '{\"Argument 1\": \"Premise\", \"Argument 2\": \"Premise\", \"Argument 3\": \"Premise\", \"Argument 4\": \"Premise\", \"Argument 5\": \"Claim\"}',\n",
       " '{\"Argument 1\": \"Premise\", \"Argument 2\": \"Premise\", \"Argument 3\": \"Premise\", \"Argument 4\": \"Premise\", \"Argument 5\": \"Claim\", \"Argument 6\": \"Claim\", \"Argument 7\": \"Claim\"}',\n",
       " '{\"Argument 1\": \"Premise\", \"Argument 2\": \"Premise\", \"Argument 3\": \"Premise\", \"Argument 4\": \"Claim\", \"Argument 5\": \"Claim\"}',\n",
       " '{\"Argument 1\": \"Premise\", \"Argument 2\": \"Premise\", \"Argument 3\": \"Premise\", \"Argument 4\": \"Premise\", \"Argument 5\": \"Claim\", \"Argument 6\": \"Claim\", \"Argument 7\": \"Claim\"}',\n",
       " '{\"Argument 1\": \"Premise\", \"Argument 2\": \"Premise\", \"Argument 3\": \"Premise\", \"Argument 4\": \"Claim\"}',\n",
       " '{\"Argument 1\": \"Premise\", \"Argument 2\": \"Premise\", \"Argument 3\": \"Premise\", \"Argument 4\": \"Premise\", \"Argument 5\": \"Claim\"}',\n",
       " '{\"Argument 1\": \"Premise\", \"Argument 2\": \"Premise\", \"Argument 3\": \"Premise\", \"Argument 4\": \"Claim\"}',\n",
       " '{\"Argument 1\": \"Premise\", \"Argument 2\": \"Premise\", \"Argument 3\": \"Premise\", \"Argument 4\": \"Premise\", \"Argument 5\": \"Claim\"}',\n",
       " '{\"Argument 1\": \"Premise\", \"Argument 2\": \"Premise\", \"Argument 3\": \"Claim\", \"Argument 4\": \"Claim\"}',\n",
       " '{\"Argument 1\": \"Claim\", \"Argument 2\": \"Premise\", \"Argument 3\": \"Premise\", \"Argument 4\": \"Premise\", \"Argument 5\": \"Premise\", \"Argument 6\": \"Claim\"}',\n",
       " '{\"Argument 1\": \"Claim\", \"Argument 2\": \"Premise\", \"Argument 3\": \"Premise\", \"Argument 4\": \"Premise\", \"Argument 5\": \"Premise\", \"Argument 6\": \"Claim\", \"Argument 7\": \"Claim\"}',\n",
       " '{\"Argument 1\": \"Premise\", \"Argument 2\": \"Premise\", \"Argument 3\": \"Claim\"}',\n",
       " '{\"Argument 1\": \"Premise\", \"Argument 2\": \"Premise\", \"Argument 3\": \"Premise\", \"Argument 4\": \"Premise\", \"Argument 5\": \"Premise\", \"Argument 6\": \"Claim\"}',\n",
       " '{\"Argument 1\": \"Premise\", \"Argument 2\": \"Premise\", \"Argument 3\": \"Premise\", \"Argument 4\": \"Premise\", \"Argument 5\": \"Claim\", \"Argument 6\": \"Claim\"}',\n",
       " '{\"Argument 1\": \"Premise\", \"Argument 2\": \"Premise\", \"Argument 3\": \"Premise\", \"Argument 4\": \"Claim\", \"Argument 5\": \"Claim\"}',\n",
       " '{\"Argument 1\": \"Premise\", \"Argument 2\": \"Premise\", \"Argument 3\": \"Premise\", \"Argument 4\": \"Claim\", \"Argument 5\": \"Claim\"}',\n",
       " '{\"Argument 1\": \"Premise\", \"Argument 2\": \"Premise\", \"Argument 3\": \"Premise\", \"Argument 4\": \"Premise\", \"Argument 5\": \"Premise\", \"Argument 6\": \"Premise\", \"Argument 7\": \"Premise\", \"Argument 8\": \"Claim\", \"Argument 9\": \"Claim\", \"Argument 10\": \"Claim\"}',\n",
       " '{\"Argument 1\": \"Claim\", \"Argument 2\": \"Premise\", \"Argument 3\": \"Premise\", \"Argument 4\": \"Premise\", \"Argument 5\": \"Claim\"}',\n",
       " '{\"Argument 1\": \"Premise\", \"Argument 2\": \"Premise\", \"Argument 3\": \"Premise\", \"Argument 4\": \"Premise\", \"Argument 5\": \"Premise\", \"Argument 6\": \"Claim\"}',\n",
       " '{\"Argument 1\": \"Premise\", \"Argument 2\": \"Premise\", \"Argument 3\": \"Premise\", \"Argument 4\": \"Claim\", \"Argument 5\": \"Claim\"}',\n",
       " '{\"Argument 1\": \"Premise\", \"Argument 2\": \"Premise\", \"Argument 3\": \"Claim\"}',\n",
       " '{\"Argument 1\": \"Premise\", \"Argument 2\": \"Premise\", \"Argument 3\": \"Premise\", \"Argument 4\": \"Premise\", \"Argument 5\": \"Claim\", \"Argument 6\": \"Claim\", \"Argument 7\": \"Claim\"}',\n",
       " '{\"Argument 1\": \"Premise\", \"Argument 2\": \"Premise\", \"Argument 3\": \"Premise\", \"Argument 4\": \"Premise\", \"Argument 5\": \"Claim\"}',\n",
       " '{\"Argument 1\": \"Premise\", \"Argument 2\": \"Premise\", \"Argument 3\": \"Premise\", \"Argument 4\": \"Premise\", \"Argument 5\": \"Premise\", \"Argument 6\": \"Claim\", \"Argument 7\": \"Claim\"}',\n",
       " '{\"Argument 1\": \"Claim\", \"Argument 2\": \"Premise\", \"Argument 3\": \"Premise\", \"Argument 4\": \"Premise\", \"Argument 5\": \"Premise\", \"Argument 6\": \"Premise\", \"Argument 7\": \"Claim\", \"Argument 8\": \"Claim\"}',\n",
       " '{\"Argument 1\": \"Premise\", \"Argument 2\": \"Premise\", \"Argument 3\": \"Premise\", \"Argument 4\": \"Premise\", \"Argument 5\": \"Claim\"}',\n",
       " '{\"Argument 1\": \"Premise\", \"Argument 2\": \"Premise\", \"Argument 3\": \"Claim\", \"Argument 4\": \"Premise\", \"Argument 5\": \"Claim\"}',\n",
       " '{\"Argument 1\": \"Premise\", \"Argument 2\": \"Premise\", \"Argument 3\": \"Premise\", \"Argument 4\": \"Premise\", \"Argument 5\": \"Premise\", \"Argument 6\": \"Premise\", \"Argument 7\": \"Premise\", \"Argument 8\": \"Premise\", \"Argument 9\": \"Claim\", \"Argument 10\": \"Claim\", \"Argument 11\": \"Claim\"}',\n",
       " '{\"Argument 1\": \"Claim\", \"Argument 2\": \"Premise\", \"Argument 3\": \"Premise\", \"Argument 4\": \"Premise\", \"Argument 5\": \"Premise\", \"Argument 6\": \"Premise\", \"Argument 7\": \"Claim\", \"Argument 8\": \"Claim\", \"Argument 9\": \"Claim\"}',\n",
       " '{\"Argument 1\": \"Claim\", \"Argument 2\": \"Premise\", \"Argument 3\": \"Claim\", \"Argument 4\": \"Premise\", \"Argument 5\": \"Premise\", \"Argument 6\": \"Premise\", \"Argument 7\": \"Claim\", \"Argument 8\": \"Claim\"}',\n",
       " '{\"Argument 1\": \"Premise\", \"Argument 2\": \"Premise\", \"Argument 3\": \"Premise\", \"Argument 4\": \"Premise\", \"Argument 5\": \"Premise\", \"Argument 6\": \"Claim\", \"Argument 7\": \"Claim\"}',\n",
       " '{\"Argument 1\": \"Premise\", \"Argument 2\": \"Premise\", \"Argument 3\": \"Premise\", \"Argument 4\": \"Premise\", \"Argument 5\": \"Premise\", \"Argument 6\": \"Claim\"}',\n",
       " '{\"Argument 1\": \"Premise\", \"Argument 2\": \"Premise\", \"Argument 3\": \"Premise\", \"Argument 4\": \"Claim\"}',\n",
       " '{\"Argument 1\": \"Premise\", \"Argument 2\": \"Premise\", \"Argument 3\": \"Premise\", \"Argument 4\": \"Premise\", \"Argument 5\": \"Premise\", \"Argument 6\": \"Claim\"}',\n",
       " '{\"Argument 1\": \"Premise\", \"Argument 2\": \"Premise\", \"Argument 3\": \"Premise\", \"Argument 4\": \"Premise\", \"Argument 5\": \"Premise\", \"Argument 6\": \"Premise\", \"Argument 7\": \"Premise\", \"Argument 8\": \"Claim\", \"Argument 9\": \"Claim\"}',\n",
       " '{\"Argument 1\": \"Premise\", \"Argument 2\": \"Premise\", \"Argument 3\": \"Premise\", \"Argument 4\": \"Premise\", \"Argument 5\": \"Premise\", \"Argument 6\": \"Claim\", \"Argument 7\": \"Claim\"}',\n",
       " '{\"Argument 1\": \"Claim\", \"Argument 2\": \"Premise\", \"Argument 3\": \"Premise\", \"Argument 4\": \"Premise\", \"Argument 5\": \"Premise\", \"Argument 6\": \"Premise\", \"Argument 7\": \"Claim\"}',\n",
       " '{\"Argument 1\": \"Premise\", \"Argument 2\": \"Premise\", \"Argument 3\": \"Premise\", \"Argument 4\": \"Premise\", \"Argument 5\": \"Claim\", \"Argument 6\": \"Claim\"}',\n",
       " '{\"Argument 1\": \"Premise\", \"Argument 2\": \"Premise\", \"Argument 3\": \"Premise\", \"Argument 4\": \"Claim\"}',\n",
       " '{\"Argument 1\": \"Claim\", \"Argument 2\": \"Premise\", \"Argument 3\": \"Premise\", \"Argument 4\": \"Premise\", \"Argument 5\": \"Premise\", \"Argument 6\": \"Premise\", \"Argument 7\": \"Premise\", \"Argument 8\": \"Premise\", \"Argument 9\": \"Claim\", \"Argument 10\": \"Premise\", \"Argument 11\": \"Premise\", \"Argument 12\": \"Claim\"}',\n",
       " '{\"Argument 1\": \"Premise\", \"Argument 2\": \"Premise\", \"Argument 3\": \"Claim\"}',\n",
       " '{\"Argument 1\": \"Premise\", \"Argument 2\": \"Premise\", \"Argument 3\": \"Premise\", \"Argument 4\": \"Claim\", \"Argument 5\": \"Claim\"}',\n",
       " '{\"Argument 1\": \"Premise\", \"Argument 2\": \"Premise\", \"Argument 3\": \"Premise\", \"Argument 4\": \"Premise\", \"Argument 5\": \"Claim\", \"Argument 6\": \"Claim\"}',\n",
       " '{\"Argument 1\": \"Claim\", \"Argument 2\": \"Premise\", \"Argument 3\": \"Premise\", \"Argument 4\": \"Premise\", \"Argument 5\": \"Premise\", \"Argument 6\": \"Claim\", \"Argument 7\": \"Claim\"}',\n",
       " '{\"Argument 1\": \"Premise\", \"Argument 2\": \"Premise\", \"Argument 3\": \"Premise\", \"Argument 4\": \"Premise\", \"Argument 5\": \"Claim\", \"Argument 6\": \"Premise\", \"Argument 7\": \"Premise\", \"Argument 8\": \"Claim\"}']"
      ]
     },
     "execution_count": 95,
     "metadata": {},
     "output_type": "execute_result"
    }
   ],
   "source": [
    "outputs_l"
   ]
  },
  {
   "cell_type": "code",
   "execution_count": 96,
   "id": "d29a8016-c734-4531-91db-f5dfaec7f120",
   "metadata": {},
   "outputs": [
    {
     "data": {
      "text/plain": [
       "100"
      ]
     },
     "execution_count": 96,
     "metadata": {},
     "output_type": "execute_result"
    }
   ],
   "source": [
    "len(outputs_l)"
   ]
  },
  {
   "cell_type": "code",
   "execution_count": 97,
   "id": "fd51f0c3-4067-4c10-8fde-111f8d2b95d0",
   "metadata": {},
   "outputs": [],
   "source": [
    "preds_l = [list(ast.literal_eval(output).values()) for output in outputs_l]"
   ]
  },
  {
   "cell_type": "code",
   "execution_count": 98,
   "id": "b8fb4f97-ae13-4448-9e2a-c5d7bbdc5f01",
   "metadata": {
    "scrolled": true
   },
   "outputs": [
    {
     "data": {
      "text/plain": [
       "[['Premise', 'Premise', 'Premise', 'Claim'],\n",
       " ['Premise',\n",
       "  'Premise',\n",
       "  'Premise',\n",
       "  'Premise',\n",
       "  'Premise',\n",
       "  'Premise',\n",
       "  'Premise',\n",
       "  'Claim',\n",
       "  'Claim'],\n",
       " ['Premise', 'Premise', 'Premise', 'Premise', 'Premise', 'Premise', 'Claim'],\n",
       " ['Premise', 'Premise', 'Premise', 'Premise', 'Claim'],\n",
       " ['Claim', 'Claim', 'Premise', 'Premise', 'Premise', 'Claim', 'Claim'],\n",
       " ['Premise', 'Premise', 'Premise', 'Claim', 'Claim'],\n",
       " ['Premise',\n",
       "  'Premise',\n",
       "  'Premise',\n",
       "  'Premise',\n",
       "  'Premise',\n",
       "  'Premise',\n",
       "  'Claim',\n",
       "  'Claim',\n",
       "  'Claim'],\n",
       " ['Premise', 'Premise', 'Premise', 'Premise', 'Premise', 'Claim', 'Claim'],\n",
       " ['Claim',\n",
       "  'Premise',\n",
       "  'Premise',\n",
       "  'Premise',\n",
       "  'Premise',\n",
       "  'Premise',\n",
       "  'Claim',\n",
       "  'Premise',\n",
       "  'Premise',\n",
       "  'Claim'],\n",
       " ['Premise', 'Premise', 'Premise', 'Claim'],\n",
       " ['Premise', 'Premise', 'Premise', 'Premise', 'Claim', 'Claim'],\n",
       " ['Premise', 'Premise', 'Premise', 'Premise', 'Claim', 'Claim', 'Claim'],\n",
       " ['Claim', 'Premise', 'Premise', 'Premise', 'Claim'],\n",
       " ['Premise', 'Premise', 'Premise', 'Claim'],\n",
       " ['Premise', 'Premise', 'Premise', 'Premise', 'Claim', 'Claim'],\n",
       " ['Premise', 'Premise', 'Premise', 'Premise', 'Claim', 'Claim'],\n",
       " ['Premise', 'Premise', 'Premise', 'Claim'],\n",
       " ['Premise', 'Claim'],\n",
       " ['Claim', 'Premise', 'Premise', 'Premise', 'Claim'],\n",
       " ['Premise', 'Premise', 'Premise', 'Premise', 'Premise', 'Premise', 'Claim'],\n",
       " ['Premise',\n",
       "  'Premise',\n",
       "  'Premise',\n",
       "  'Premise',\n",
       "  'Premise',\n",
       "  'Premise',\n",
       "  'Claim',\n",
       "  'Premise'],\n",
       " ['Premise', 'Premise', 'Premise', 'Premise', 'Premise', 'Claim'],\n",
       " ['Premise',\n",
       "  'Premise',\n",
       "  'Premise',\n",
       "  'Premise',\n",
       "  'Premise',\n",
       "  'Premise',\n",
       "  'Premise',\n",
       "  'Premise',\n",
       "  'Premise',\n",
       "  'Premise',\n",
       "  'Claim',\n",
       "  'Claim'],\n",
       " ['Premise', 'Premise', 'Premise', 'Premise', 'Premise', 'Claim', 'Claim'],\n",
       " ['Claim', 'Premise', 'Premise', 'Premise', 'Claim'],\n",
       " ['Premise', 'Premise', 'Premise', 'Claim'],\n",
       " ['Premise',\n",
       "  'Premise',\n",
       "  'Premise',\n",
       "  'Premise',\n",
       "  'Premise',\n",
       "  'Claim',\n",
       "  'Claim',\n",
       "  'Claim'],\n",
       " ['Premise', 'Premise', 'Premise', 'Premise', 'Claim', 'Claim', 'Claim'],\n",
       " ['Claim', 'Premise', 'Premise', 'Claim'],\n",
       " ['Claim',\n",
       "  'Claim',\n",
       "  'Premise',\n",
       "  'Premise',\n",
       "  'Premise',\n",
       "  'Premise',\n",
       "  'Premise',\n",
       "  'Claim'],\n",
       " ['Premise', 'Premise', 'Premise', 'Premise', 'Claim'],\n",
       " ['Claim', 'Claim', 'Premise', 'Premise', 'Premise', 'Claim'],\n",
       " ['Premise', 'Premise', 'Premise', 'Claim', 'Claim'],\n",
       " ['Premise', 'Premise', 'Premise', 'Premise', 'Premise', 'Claim'],\n",
       " ['Claim',\n",
       "  'Premise',\n",
       "  'Premise',\n",
       "  'Premise',\n",
       "  'Premise',\n",
       "  'Premise',\n",
       "  'Premise',\n",
       "  'Claim',\n",
       "  'Claim'],\n",
       " ['Claim', 'Premise', 'Premise', 'Premise', 'Claim', 'Premise', 'Claim'],\n",
       " ['Premise', 'Premise', 'Claim', 'Claim'],\n",
       " ['Premise', 'Premise', 'Premise', 'Premise', 'Premise', 'Claim'],\n",
       " ['Premise', 'Premise', 'Premise', 'Premise', 'Claim'],\n",
       " ['Premise', 'Premise', 'Premise', 'Premise', 'Claim'],\n",
       " ['Premise', 'Premise', 'Premise', 'Premise', 'Premise', 'Premise', 'Claim'],\n",
       " ['Premise', 'Premise', 'Premise', 'Premise', 'Premise', 'Claim', 'Claim'],\n",
       " ['Premise', 'Premise', 'Premise', 'Premise', 'Claim'],\n",
       " ['Premise', 'Premise', 'Premise', 'Premise', 'Claim', 'Claim'],\n",
       " ['Premise', 'Premise', 'Premise', 'Premise', 'Premise', 'Claim'],\n",
       " ['Premise', 'Premise', 'Claim', 'Claim'],\n",
       " ['Premise', 'Premise', 'Premise', 'Premise', 'Claim', 'Claim'],\n",
       " ['Premise', 'Premise', 'Premise', 'Premise', 'Claim'],\n",
       " ['Premise',\n",
       "  'Premise',\n",
       "  'Premise',\n",
       "  'Claim',\n",
       "  'Premise',\n",
       "  'Premise',\n",
       "  'Claim',\n",
       "  'Claim'],\n",
       " ['Premise', 'Premise', 'Premise', 'Premise', 'Claim', 'Claim'],\n",
       " ['Premise',\n",
       "  'Premise',\n",
       "  'Premise',\n",
       "  'Premise',\n",
       "  'Claim',\n",
       "  'Premise',\n",
       "  'Premise',\n",
       "  'Claim'],\n",
       " ['Premise', 'Premise', 'Premise', 'Premise', 'Claim'],\n",
       " ['Premise', 'Premise', 'Claim'],\n",
       " ['Premise', 'Premise', 'Premise', 'Premise', 'Claim', 'Claim'],\n",
       " ['Premise', 'Premise', 'Premise', 'Premise', 'Premise', 'Claim'],\n",
       " ['Premise', 'Premise', 'Premise', 'Premise', 'Claim'],\n",
       " ['Premise', 'Premise', 'Premise', 'Premise', 'Claim', 'Claim', 'Claim'],\n",
       " ['Premise', 'Premise', 'Premise', 'Claim', 'Claim'],\n",
       " ['Premise', 'Premise', 'Premise', 'Premise', 'Claim', 'Claim', 'Claim'],\n",
       " ['Premise', 'Premise', 'Premise', 'Claim'],\n",
       " ['Premise', 'Premise', 'Premise', 'Premise', 'Claim'],\n",
       " ['Premise', 'Premise', 'Premise', 'Claim'],\n",
       " ['Premise', 'Premise', 'Premise', 'Premise', 'Claim'],\n",
       " ['Premise', 'Premise', 'Claim', 'Claim'],\n",
       " ['Claim', 'Premise', 'Premise', 'Premise', 'Premise', 'Claim'],\n",
       " ['Claim', 'Premise', 'Premise', 'Premise', 'Premise', 'Claim', 'Claim'],\n",
       " ['Premise', 'Premise', 'Claim'],\n",
       " ['Premise', 'Premise', 'Premise', 'Premise', 'Premise', 'Claim'],\n",
       " ['Premise', 'Premise', 'Premise', 'Premise', 'Claim', 'Claim'],\n",
       " ['Premise', 'Premise', 'Premise', 'Claim', 'Claim'],\n",
       " ['Premise', 'Premise', 'Premise', 'Claim', 'Claim'],\n",
       " ['Premise',\n",
       "  'Premise',\n",
       "  'Premise',\n",
       "  'Premise',\n",
       "  'Premise',\n",
       "  'Premise',\n",
       "  'Premise',\n",
       "  'Claim',\n",
       "  'Claim',\n",
       "  'Claim'],\n",
       " ['Claim', 'Premise', 'Premise', 'Premise', 'Claim'],\n",
       " ['Premise', 'Premise', 'Premise', 'Premise', 'Premise', 'Claim'],\n",
       " ['Premise', 'Premise', 'Premise', 'Claim', 'Claim'],\n",
       " ['Premise', 'Premise', 'Claim'],\n",
       " ['Premise', 'Premise', 'Premise', 'Premise', 'Claim', 'Claim', 'Claim'],\n",
       " ['Premise', 'Premise', 'Premise', 'Premise', 'Claim'],\n",
       " ['Premise', 'Premise', 'Premise', 'Premise', 'Premise', 'Claim', 'Claim'],\n",
       " ['Claim',\n",
       "  'Premise',\n",
       "  'Premise',\n",
       "  'Premise',\n",
       "  'Premise',\n",
       "  'Premise',\n",
       "  'Claim',\n",
       "  'Claim'],\n",
       " ['Premise', 'Premise', 'Premise', 'Premise', 'Claim'],\n",
       " ['Premise', 'Premise', 'Claim', 'Premise', 'Claim'],\n",
       " ['Premise',\n",
       "  'Premise',\n",
       "  'Premise',\n",
       "  'Premise',\n",
       "  'Premise',\n",
       "  'Premise',\n",
       "  'Premise',\n",
       "  'Premise',\n",
       "  'Claim',\n",
       "  'Claim',\n",
       "  'Claim'],\n",
       " ['Claim',\n",
       "  'Premise',\n",
       "  'Premise',\n",
       "  'Premise',\n",
       "  'Premise',\n",
       "  'Premise',\n",
       "  'Claim',\n",
       "  'Claim',\n",
       "  'Claim'],\n",
       " ['Claim',\n",
       "  'Premise',\n",
       "  'Claim',\n",
       "  'Premise',\n",
       "  'Premise',\n",
       "  'Premise',\n",
       "  'Claim',\n",
       "  'Claim'],\n",
       " ['Premise', 'Premise', 'Premise', 'Premise', 'Premise', 'Claim', 'Claim'],\n",
       " ['Premise', 'Premise', 'Premise', 'Premise', 'Premise', 'Claim'],\n",
       " ['Premise', 'Premise', 'Premise', 'Claim'],\n",
       " ['Premise', 'Premise', 'Premise', 'Premise', 'Premise', 'Claim'],\n",
       " ['Premise',\n",
       "  'Premise',\n",
       "  'Premise',\n",
       "  'Premise',\n",
       "  'Premise',\n",
       "  'Premise',\n",
       "  'Premise',\n",
       "  'Claim',\n",
       "  'Claim'],\n",
       " ['Premise', 'Premise', 'Premise', 'Premise', 'Premise', 'Claim', 'Claim'],\n",
       " ['Claim', 'Premise', 'Premise', 'Premise', 'Premise', 'Premise', 'Claim'],\n",
       " ['Premise', 'Premise', 'Premise', 'Premise', 'Claim', 'Claim'],\n",
       " ['Premise', 'Premise', 'Premise', 'Claim'],\n",
       " ['Claim',\n",
       "  'Premise',\n",
       "  'Premise',\n",
       "  'Premise',\n",
       "  'Premise',\n",
       "  'Premise',\n",
       "  'Premise',\n",
       "  'Premise',\n",
       "  'Claim',\n",
       "  'Premise',\n",
       "  'Premise',\n",
       "  'Claim'],\n",
       " ['Premise', 'Premise', 'Claim'],\n",
       " ['Premise', 'Premise', 'Premise', 'Claim', 'Claim'],\n",
       " ['Premise', 'Premise', 'Premise', 'Premise', 'Claim', 'Claim'],\n",
       " ['Claim', 'Premise', 'Premise', 'Premise', 'Premise', 'Claim', 'Claim'],\n",
       " ['Premise',\n",
       "  'Premise',\n",
       "  'Premise',\n",
       "  'Premise',\n",
       "  'Claim',\n",
       "  'Premise',\n",
       "  'Premise',\n",
       "  'Claim']]"
      ]
     },
     "execution_count": 98,
     "metadata": {},
     "output_type": "execute_result"
    }
   ],
   "source": [
    "preds_l"
   ]
  },
  {
   "cell_type": "code",
   "execution_count": 99,
   "id": "d47ed2e4-a396-4a78-910c-ee7280032cfc",
   "metadata": {},
   "outputs": [
    {
     "data": {
      "text/plain": [
       "100"
      ]
     },
     "execution_count": 99,
     "metadata": {},
     "output_type": "execute_result"
    }
   ],
   "source": [
    "len(preds_l)"
   ]
  },
  {
   "cell_type": "code",
   "execution_count": 100,
   "id": "88a7a3fa-3d00-46c0-a584-2256fa41e9bf",
   "metadata": {},
   "outputs": [],
   "source": [
    "grouped_df = mix_test_df[mix_test_df.aty != 'none'].groupby('doc_id', sort=False)['aty'].apply(list).reset_index()"
   ]
  },
  {
   "cell_type": "code",
   "execution_count": 101,
   "id": "344bdc0e-6ce9-4ae4-963c-829ae14cb072",
   "metadata": {},
   "outputs": [
    {
     "data": {
      "text/html": [
       "<div>\n",
       "<style scoped>\n",
       "    .dataframe tbody tr th:only-of-type {\n",
       "        vertical-align: middle;\n",
       "    }\n",
       "\n",
       "    .dataframe tbody tr th {\n",
       "        vertical-align: top;\n",
       "    }\n",
       "\n",
       "    .dataframe thead th {\n",
       "        text-align: right;\n",
       "    }\n",
       "</style>\n",
       "<table border=\"1\" class=\"dataframe\">\n",
       "  <thead>\n",
       "    <tr style=\"text-align: right;\">\n",
       "      <th></th>\n",
       "      <th>doc_id</th>\n",
       "      <th>aty</th>\n",
       "    </tr>\n",
       "  </thead>\n",
       "  <tbody>\n",
       "    <tr>\n",
       "      <th>0</th>\n",
       "      <td>28874133</td>\n",
       "      <td>[Premise, Premise, Premise, Claim]</td>\n",
       "    </tr>\n",
       "    <tr>\n",
       "      <th>1</th>\n",
       "      <td>11346336</td>\n",
       "      <td>[Premise, Premise, Premise, Premise, Premise, ...</td>\n",
       "    </tr>\n",
       "    <tr>\n",
       "      <th>2</th>\n",
       "      <td>28370419</td>\n",
       "      <td>[Premise, Premise, Premise, Premise, Premise, ...</td>\n",
       "    </tr>\n",
       "    <tr>\n",
       "      <th>3</th>\n",
       "      <td>29596950</td>\n",
       "      <td>[Premise, Premise, Premise, Premise, Claim]</td>\n",
       "    </tr>\n",
       "    <tr>\n",
       "      <th>4</th>\n",
       "      <td>29633159</td>\n",
       "      <td>[Claim, Claim, Premise, Premise, Premise, Clai...</td>\n",
       "    </tr>\n",
       "    <tr>\n",
       "      <th>...</th>\n",
       "      <td>...</td>\n",
       "      <td>...</td>\n",
       "    </tr>\n",
       "    <tr>\n",
       "      <th>95</th>\n",
       "      <td>29625440</td>\n",
       "      <td>[Premise, Premise, Claim]</td>\n",
       "    </tr>\n",
       "    <tr>\n",
       "      <th>96</th>\n",
       "      <td>23285843</td>\n",
       "      <td>[Premise, Premise, Premise, Claim, Claim]</td>\n",
       "    </tr>\n",
       "    <tr>\n",
       "      <th>97</th>\n",
       "      <td>22814041</td>\n",
       "      <td>[Premise, Premise, Premise, Premise, Claim, Cl...</td>\n",
       "    </tr>\n",
       "    <tr>\n",
       "      <th>98</th>\n",
       "      <td>29329305</td>\n",
       "      <td>[Claim, Premise, Premise, Premise, Premise, Cl...</td>\n",
       "    </tr>\n",
       "    <tr>\n",
       "      <th>99</th>\n",
       "      <td>28371482</td>\n",
       "      <td>[Premise, Premise, Premise, Premise, Claim, Cl...</td>\n",
       "    </tr>\n",
       "  </tbody>\n",
       "</table>\n",
       "<p>100 rows × 2 columns</p>\n",
       "</div>"
      ],
      "text/plain": [
       "      doc_id                                                aty\n",
       "0   28874133                 [Premise, Premise, Premise, Claim]\n",
       "1   11346336  [Premise, Premise, Premise, Premise, Premise, ...\n",
       "2   28370419  [Premise, Premise, Premise, Premise, Premise, ...\n",
       "3   29596950        [Premise, Premise, Premise, Premise, Claim]\n",
       "4   29633159  [Claim, Claim, Premise, Premise, Premise, Clai...\n",
       "..       ...                                                ...\n",
       "95  29625440                          [Premise, Premise, Claim]\n",
       "96  23285843          [Premise, Premise, Premise, Claim, Claim]\n",
       "97  22814041  [Premise, Premise, Premise, Premise, Claim, Cl...\n",
       "98  29329305  [Claim, Premise, Premise, Premise, Premise, Cl...\n",
       "99  28371482  [Premise, Premise, Premise, Premise, Claim, Cl...\n",
       "\n",
       "[100 rows x 2 columns]"
      ]
     },
     "execution_count": 101,
     "metadata": {},
     "output_type": "execute_result"
    }
   ],
   "source": [
    "grouped_df"
   ]
  },
  {
   "cell_type": "code",
   "execution_count": 102,
   "id": "c3470e01-e402-4bf0-9009-5919e88bb48d",
   "metadata": {},
   "outputs": [],
   "source": [
    "grounds_l = grouped_df.aty.tolist()"
   ]
  },
  {
   "cell_type": "code",
   "execution_count": 103,
   "id": "5bcbf083-a167-468f-b839-f5a34e41cd27",
   "metadata": {
    "scrolled": true
   },
   "outputs": [
    {
     "data": {
      "text/plain": [
       "[['Premise', 'Premise', 'Premise', 'Claim'],\n",
       " ['Premise',\n",
       "  'Premise',\n",
       "  'Premise',\n",
       "  'Premise',\n",
       "  'Premise',\n",
       "  'Premise',\n",
       "  'Premise',\n",
       "  'Claim',\n",
       "  'Claim'],\n",
       " ['Premise', 'Premise', 'Premise', 'Premise', 'Premise', 'Premise', 'Claim'],\n",
       " ['Premise', 'Premise', 'Premise', 'Premise', 'Claim'],\n",
       " ['Claim', 'Claim', 'Premise', 'Premise', 'Premise', 'Claim', 'Claim'],\n",
       " ['Claim', 'Premise', 'Premise', 'Claim', 'Claim'],\n",
       " ['Premise',\n",
       "  'Premise',\n",
       "  'Premise',\n",
       "  'Premise',\n",
       "  'Premise',\n",
       "  'Premise',\n",
       "  'Claim',\n",
       "  'Claim',\n",
       "  'Claim'],\n",
       " ['Premise', 'Premise', 'Premise', 'Premise', 'Premise', 'Claim', 'Claim'],\n",
       " ['Claim',\n",
       "  'Premise',\n",
       "  'Premise',\n",
       "  'Premise',\n",
       "  'Premise',\n",
       "  'Premise',\n",
       "  'Claim',\n",
       "  'Claim',\n",
       "  'Premise',\n",
       "  'Claim'],\n",
       " ['Premise', 'Premise', 'Premise', 'Claim'],\n",
       " ['Premise', 'Premise', 'Premise', 'Premise', 'Claim', 'Claim'],\n",
       " ['Premise', 'Premise', 'Premise', 'Premise', 'Claim', 'Claim', 'Claim'],\n",
       " ['Claim', 'Premise', 'Premise', 'Premise', 'Claim'],\n",
       " ['Premise', 'Premise', 'Premise', 'Claim'],\n",
       " ['Premise', 'Premise', 'Premise', 'Premise', 'Claim', 'Claim'],\n",
       " ['Premise', 'Premise', 'Premise', 'Premise', 'Claim', 'Claim'],\n",
       " ['Premise', 'Premise', 'Claim', 'Claim'],\n",
       " ['Premise', 'Claim'],\n",
       " ['Claim', 'Premise', 'Premise', 'Premise', 'Claim'],\n",
       " ['Premise', 'Premise', 'Premise', 'Premise', 'Premise', 'Claim', 'Claim'],\n",
       " ['Premise',\n",
       "  'Premise',\n",
       "  'Premise',\n",
       "  'Premise',\n",
       "  'Premise',\n",
       "  'Claim',\n",
       "  'Claim',\n",
       "  'Premise'],\n",
       " ['Premise', 'Premise', 'Claim', 'Premise', 'Premise', 'Claim'],\n",
       " ['Premise',\n",
       "  'Premise',\n",
       "  'Premise',\n",
       "  'Premise',\n",
       "  'Premise',\n",
       "  'Premise',\n",
       "  'Premise',\n",
       "  'Premise',\n",
       "  'Premise',\n",
       "  'Premise',\n",
       "  'Claim',\n",
       "  'Claim'],\n",
       " ['Premise', 'Premise', 'Premise', 'Premise', 'Premise', 'Claim', 'Claim'],\n",
       " ['Claim', 'Premise', 'Premise', 'Premise', 'Claim'],\n",
       " ['Premise', 'Premise', 'Premise', 'Claim'],\n",
       " ['Claim',\n",
       "  'Premise',\n",
       "  'Premise',\n",
       "  'Premise',\n",
       "  'Claim',\n",
       "  'Claim',\n",
       "  'Claim',\n",
       "  'Claim'],\n",
       " ['Premise', 'Premise', 'Premise', 'Premise', 'Claim', 'Claim', 'Claim'],\n",
       " ['Claim', 'Premise', 'Premise', 'Claim'],\n",
       " ['Claim',\n",
       "  'Claim',\n",
       "  'Premise',\n",
       "  'Premise',\n",
       "  'Premise',\n",
       "  'Premise',\n",
       "  'Claim',\n",
       "  'Claim'],\n",
       " ['Claim', 'Claim', 'Premise', 'Premise', 'Claim'],\n",
       " ['Claim', 'Claim', 'Premise', 'Premise', 'Premise', 'Premise'],\n",
       " ['Premise', 'Premise', 'Premise', 'Claim', 'Premise'],\n",
       " ['Premise', 'Claim', 'Premise', 'Premise', 'Claim', 'Claim'],\n",
       " ['Claim',\n",
       "  'Premise',\n",
       "  'Premise',\n",
       "  'Premise',\n",
       "  'Premise',\n",
       "  'Premise',\n",
       "  'Premise',\n",
       "  'Claim',\n",
       "  'Claim'],\n",
       " ['Claim', 'Premise', 'Premise', 'Premise', 'Claim', 'Claim', 'Claim'],\n",
       " ['Premise', 'Premise', 'Claim', 'Claim'],\n",
       " ['Premise', 'Premise', 'Premise', 'Premise', 'Premise', 'Claim'],\n",
       " ['Premise', 'Premise', 'Premise', 'Premise', 'Claim'],\n",
       " ['Premise', 'Premise', 'Premise', 'Premise', 'Claim'],\n",
       " ['Premise', 'Premise', 'Premise', 'Premise', 'Premise', 'Premise', 'Claim'],\n",
       " ['Premise', 'Premise', 'Premise', 'Premise', 'Premise', 'Claim', 'Claim'],\n",
       " ['Premise', 'Premise', 'Premise', 'Premise', 'Claim'],\n",
       " ['Premise', 'Premise', 'Premise', 'Premise', 'Claim', 'Claim'],\n",
       " ['Premise', 'Premise', 'Premise', 'Premise', 'Premise', 'Claim'],\n",
       " ['Premise', 'Premise', 'Claim', 'Claim'],\n",
       " ['Premise', 'Premise', 'Premise', 'Premise', 'Claim', 'Claim'],\n",
       " ['Premise', 'Premise', 'Premise', 'Premise', 'Claim'],\n",
       " ['Premise',\n",
       "  'Premise',\n",
       "  'Premise',\n",
       "  'Claim',\n",
       "  'Premise',\n",
       "  'Premise',\n",
       "  'Claim',\n",
       "  'Claim'],\n",
       " ['Premise', 'Premise', 'Premise', 'Premise', 'Claim', 'Claim'],\n",
       " ['Premise',\n",
       "  'Premise',\n",
       "  'Premise',\n",
       "  'Premise',\n",
       "  'Claim',\n",
       "  'Claim',\n",
       "  'Claim',\n",
       "  'Claim'],\n",
       " ['Premise', 'Premise', 'Premise', 'Premise', 'Claim'],\n",
       " ['Premise', 'Premise', 'Claim'],\n",
       " ['Premise', 'Premise', 'Premise', 'Premise', 'Claim', 'Claim'],\n",
       " ['Premise', 'Premise', 'Premise', 'Premise', 'Premise', 'Claim'],\n",
       " ['Premise', 'Premise', 'Premise', 'Premise', 'Claim'],\n",
       " ['Premise', 'Premise', 'Premise', 'Premise', 'Claim', 'Claim', 'Claim'],\n",
       " ['Premise', 'Premise', 'Premise', 'Claim', 'Claim'],\n",
       " ['Premise', 'Premise', 'Premise', 'Premise', 'Premise', 'Claim', 'Claim'],\n",
       " ['Claim', 'Premise', 'Premise', 'Claim'],\n",
       " ['Premise', 'Premise', 'Premise', 'Premise', 'Claim'],\n",
       " ['Premise', 'Premise', 'Claim', 'Claim'],\n",
       " ['Premise', 'Premise', 'Premise', 'Premise', 'Claim'],\n",
       " ['Premise', 'Premise', 'Claim', 'Claim'],\n",
       " ['Claim', 'Premise', 'Premise', 'Premise', 'Claim', 'Claim'],\n",
       " ['Claim', 'Premise', 'Premise', 'Premise', 'Premise', 'Claim', 'Claim'],\n",
       " ['Claim', 'Premise', 'Claim'],\n",
       " ['Claim', 'Premise', 'Premise', 'Premise', 'Claim', 'Claim'],\n",
       " ['Premise', 'Premise', 'Premise', 'Premise', 'Claim', 'Claim'],\n",
       " ['Premise', 'Premise', 'Premise', 'Claim', 'Claim'],\n",
       " ['Premise', 'Premise', 'Premise', 'Claim', 'Claim'],\n",
       " ['Premise',\n",
       "  'Premise',\n",
       "  'Premise',\n",
       "  'Premise',\n",
       "  'Premise',\n",
       "  'Premise',\n",
       "  'Premise',\n",
       "  'Claim',\n",
       "  'Claim',\n",
       "  'Claim'],\n",
       " ['Claim', 'Premise', 'Premise', 'Premise', 'Claim'],\n",
       " ['Premise', 'Premise', 'Premise', 'Premise', 'Premise', 'Claim'],\n",
       " ['Premise', 'Premise', 'Premise', 'Claim', 'Claim'],\n",
       " ['Premise', 'Premise', 'Claim'],\n",
       " ['Premise', 'Premise', 'Premise', 'Premise', 'Claim', 'Claim', 'Claim'],\n",
       " ['Premise', 'Premise', 'Premise', 'Premise', 'Claim'],\n",
       " ['Premise', 'Premise', 'Premise', 'Premise', 'Premise', 'Claim', 'Claim'],\n",
       " ['Claim',\n",
       "  'Premise',\n",
       "  'Premise',\n",
       "  'Premise',\n",
       "  'Premise',\n",
       "  'Premise',\n",
       "  'Claim',\n",
       "  'Claim'],\n",
       " ['Claim', 'Premise', 'Premise', 'Claim', 'Claim'],\n",
       " ['Premise', 'Premise', 'Premise', 'Premise', 'Claim'],\n",
       " ['Premise',\n",
       "  'Premise',\n",
       "  'Premise',\n",
       "  'Premise',\n",
       "  'Premise',\n",
       "  'Premise',\n",
       "  'Claim',\n",
       "  'Premise',\n",
       "  'Claim',\n",
       "  'Claim',\n",
       "  'Claim'],\n",
       " ['Claim',\n",
       "  'Premise',\n",
       "  'Premise',\n",
       "  'Premise',\n",
       "  'Premise',\n",
       "  'Premise',\n",
       "  'Claim',\n",
       "  'Claim',\n",
       "  'Claim'],\n",
       " ['Claim',\n",
       "  'Claim',\n",
       "  'Claim',\n",
       "  'Premise',\n",
       "  'Premise',\n",
       "  'Premise',\n",
       "  'Claim',\n",
       "  'Claim'],\n",
       " ['Premise', 'Premise', 'Premise', 'Premise', 'Premise', 'Claim', 'Claim'],\n",
       " ['Premise', 'Premise', 'Premise', 'Premise', 'Premise', 'Claim'],\n",
       " ['Premise', 'Premise', 'Premise', 'Claim'],\n",
       " ['Premise', 'Premise', 'Premise', 'Premise', 'Premise', 'Claim'],\n",
       " ['Premise',\n",
       "  'Premise',\n",
       "  'Premise',\n",
       "  'Premise',\n",
       "  'Premise',\n",
       "  'Premise',\n",
       "  'Claim',\n",
       "  'Premise',\n",
       "  'Claim'],\n",
       " ['Premise', 'Premise', 'Premise', 'Claim', 'Claim', 'Claim', 'Claim'],\n",
       " ['Claim', 'Premise', 'Premise', 'Premise', 'Premise', 'Claim', 'Claim'],\n",
       " ['Premise', 'Premise', 'Premise', 'Premise', 'Claim', 'Claim'],\n",
       " ['Premise', 'Premise', 'Premise', 'Premise'],\n",
       " ['Claim',\n",
       "  'Premise',\n",
       "  'Premise',\n",
       "  'Premise',\n",
       "  'Premise',\n",
       "  'Premise',\n",
       "  'Premise',\n",
       "  'Premise',\n",
       "  'Claim',\n",
       "  'Premise',\n",
       "  'Premise',\n",
       "  'Claim'],\n",
       " ['Premise', 'Premise', 'Claim'],\n",
       " ['Premise', 'Premise', 'Premise', 'Claim', 'Claim'],\n",
       " ['Premise', 'Premise', 'Premise', 'Premise', 'Claim', 'Claim'],\n",
       " ['Claim', 'Premise', 'Premise', 'Premise', 'Premise', 'Claim', 'Claim'],\n",
       " ['Premise',\n",
       "  'Premise',\n",
       "  'Premise',\n",
       "  'Premise',\n",
       "  'Claim',\n",
       "  'Claim',\n",
       "  'Claim',\n",
       "  'Claim']]"
      ]
     },
     "execution_count": 103,
     "metadata": {},
     "output_type": "execute_result"
    }
   ],
   "source": [
    "grounds_l"
   ]
  },
  {
   "cell_type": "code",
   "execution_count": 104,
   "id": "d914eda2-15ac-4be9-9012-d47342851aa7",
   "metadata": {},
   "outputs": [
    {
     "data": {
      "text/plain": [
       "100"
      ]
     },
     "execution_count": 104,
     "metadata": {},
     "output_type": "execute_result"
    }
   ],
   "source": [
    "len(grounds_l)"
   ]
  },
  {
   "cell_type": "code",
   "execution_count": 105,
   "id": "c78f7c4a-b6ad-4f4d-befb-e31acd74aad2",
   "metadata": {},
   "outputs": [],
   "source": [
    "preds_l = [item for sublist in preds_l for item in sublist]\n",
    "grounds_l = [item for sublist in grounds_l for item in sublist]"
   ]
  },
  {
   "cell_type": "code",
   "execution_count": 106,
   "id": "773d50ad-e38a-4a8b-9d90-7f9c9806a55f",
   "metadata": {},
   "outputs": [
    {
     "data": {
      "text/plain": [
       "(609, 609)"
      ]
     },
     "execution_count": 106,
     "metadata": {},
     "output_type": "execute_result"
    }
   ],
   "source": [
    "len(preds_l), len(grounds_l)"
   ]
  },
  {
   "cell_type": "code",
   "execution_count": 107,
   "id": "51e97e12-0813-4f01-a9b8-ea46790fe3e8",
   "metadata": {},
   "outputs": [
    {
     "name": "stdout",
     "output_type": "stream",
     "text": [
      "              precision    recall  f1-score   support\n",
      "\n",
      "       Claim     0.9677    0.8491    0.9045       212\n",
      "     Premise     0.9243    0.9849    0.9537       397\n",
      "\n",
      "    accuracy                         0.9376       609\n",
      "   macro avg     0.9460    0.9170    0.9291       609\n",
      "weighted avg     0.9395    0.9376    0.9366       609\n",
      "\n"
     ]
    }
   ],
   "source": [
    "print(classification_report(grounds_l, preds_l, digits=4))"
   ]
  },
  {
   "cell_type": "raw",
   "id": "7830ba48-e1db-4b4f-974b-f778a968f487",
   "metadata": {},
   "source": [
    "Results: 8B-Instruct, K=3, N=1\n",
    "\n",
    "neo_test ---\n",
    "\n",
    "precision    recall  f1-score   support\n",
    "\n",
    "       Claim     0.8684    0.7984    0.8319       248\n",
    "     Premise     0.8920    0.9323    0.9117       443\n",
    "\n",
    "    accuracy                         0.8842       691\n",
    "   macro avg     0.8802    0.8653    0.8718       691\n",
    "weighted avg     0.8835    0.8842    0.8831       691\n",
    "\n",
    "gla_test ---\n",
    "\n",
    "precision    recall  f1-score   support\n",
    "\n",
    "       Claim     0.8693    0.8010    0.8338       191\n",
    "     Premise     0.9134    0.9458    0.9293       424\n",
    "\n",
    "    accuracy                         0.9008       615\n",
    "   macro avg     0.8914    0.8734    0.8816       615\n",
    "weighted avg     0.8997    0.9008    0.8996       615\n",
    "\n",
    "mix_test ---\n",
    "\n",
    "precision    recall  f1-score   support\n",
    "\n",
    "       Claim     0.9010    0.8585    0.8792       212\n",
    "     Premise     0.9263    0.9496    0.9378       397\n",
    "\n",
    "    accuracy                         0.9179       609\n",
    "   macro avg     0.9136    0.9041    0.9085       609\n",
    "weighted avg     0.9175    0.9179    0.9174       609\n"
   ]
  },
  {
   "cell_type": "raw",
   "id": "ad0d9a66-1209-4f56-9e3d-d913e0ea1928",
   "metadata": {},
   "source": [
    "Results: 8B-Instruct-4bit, K=3, N=1\n",
    "\n",
    "neo_test ---\n",
    "\n",
    "precision    recall  f1-score   support\n",
    "\n",
    "       Claim     0.8589    0.8347    0.8466       248\n",
    "     Premise     0.9089    0.9233    0.9160       443\n",
    "\n",
    "    accuracy                         0.8915       691\n",
    "   macro avg     0.8839    0.8790    0.8813       691\n",
    "weighted avg     0.8910    0.8915    0.8911       691\n",
    "\n",
    "gla_test ---\n",
    "\n",
    "precision    recall  f1-score   support\n",
    "\n",
    "       Claim     0.8424    0.8115    0.8267       191\n",
    "     Premise     0.9165    0.9316    0.9240       424\n",
    "\n",
    "    accuracy                         0.8943       615\n",
    "   macro avg     0.8794    0.8716    0.8753       615\n",
    "weighted avg     0.8935    0.8943    0.8938       615\n",
    "\n",
    "mix_test ---\n",
    "\n",
    "precision    recall  f1-score   support\n",
    "\n",
    "       Claim     0.8696    0.8491    0.8592       212\n",
    "     Premise     0.9204    0.9320    0.9262       397\n",
    "\n",
    "    accuracy                         0.9031       609\n",
    "   macro avg     0.8950    0.8905    0.8927       609\n",
    "weighted avg     0.9027    0.9031    0.9028       609"
   ]
  },
  {
   "cell_type": "raw",
   "id": "2d58d081-9f73-488a-880a-7c67c913568d",
   "metadata": {},
   "source": [
    "Results: 70B-Instruct-4bit, K=3, N=1\n",
    "\n",
    "neo_test ---\n",
    "\n",
    "precision    recall  f1-score   support\n",
    "\n",
    "       Claim     0.9393    0.8105    0.8701       248\n",
    "     Premise     0.9015    0.9707    0.9348       443\n",
    "\n",
    "    accuracy                         0.9132       691\n",
    "   macro avg     0.9204    0.8906    0.9025       691\n",
    "weighted avg     0.9150    0.9132    0.9116       691\n",
    "\n",
    "gla_test ---\n",
    "\n",
    "precision    recall  f1-score   support\n",
    "\n",
    "       Claim     0.9390    0.8063    0.8676       191\n",
    "     Premise     0.9180    0.9764    0.9463       424\n",
    "\n",
    "    accuracy                         0.9236       615\n",
    "   macro avg     0.9285    0.8913    0.9069       615\n",
    "weighted avg     0.9245    0.9236    0.9219       615\n",
    "\n",
    "mix_test ---\n",
    "\n",
    "precision    recall  f1-score   support\n",
    "\n",
    "       Claim     0.9677    0.8491    0.9045       212\n",
    "     Premise     0.9243    0.9849    0.9537       397\n",
    "\n",
    "    accuracy                         0.9376       609\n",
    "   macro avg     0.9460    0.9170    0.9291       609\n",
    "weighted avg     0.9395    0.9376    0.9366       609"
   ]
  }
 ],
 "metadata": {
  "kernelspec": {
   "display_name": "Python 3 (ipykernel)",
   "language": "python",
   "name": "python3"
  },
  "language_info": {
   "codemirror_mode": {
    "name": "ipython",
    "version": 3
   },
   "file_extension": ".py",
   "mimetype": "text/x-python",
   "name": "python",
   "nbconvert_exporter": "python",
   "pygments_lexer": "ipython3",
   "version": "3.11.9"
  }
 },
 "nbformat": 4,
 "nbformat_minor": 5
}
