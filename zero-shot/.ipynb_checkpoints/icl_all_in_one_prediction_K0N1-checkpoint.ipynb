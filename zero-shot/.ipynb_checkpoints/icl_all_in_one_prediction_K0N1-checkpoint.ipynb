{
 "cells": [
  {
   "cell_type": "markdown",
   "id": "784a93ca-60b3-4f58-9858-b0364dea8788",
   "metadata": {},
   "source": [
    "# In-Context Learning for AbstRCT dataset with LlaMA 3"
   ]
  },
  {
   "cell_type": "raw",
   "id": "92f1f194-601e-4e45-8d32-a8d705d8b2e6",
   "metadata": {},
   "source": [
    "- In-Context Learning with AbstRCT dataset.\n",
    "- Using: LlaMA-3-8B, LlaMA-3-70B.\n",
    "- Using BioBERT for title embeddings.\n",
    "- All in One Predictions strategy\n",
    "- K=0, N=1 (zero-shot)"
   ]
  },
  {
   "cell_type": "markdown",
   "id": "2537d6cb-6d1c-4da1-abf1-ee5d2de44f32",
   "metadata": {},
   "source": [
    "## Libraries"
   ]
  },
  {
   "cell_type": "code",
   "execution_count": 1,
   "id": "0debac83-2e8a-4275-b5fd-09955716a9a9",
   "metadata": {},
   "outputs": [],
   "source": [
    "import ast\n",
    "import torch\n",
    "import random\n",
    "import numpy as np\n",
    "import pandas as pd\n",
    "import torch.nn.functional as F\n",
    "\n",
    "\n",
    "from tqdm import tqdm\n",
    "from operator import itemgetter\n",
    "from sklearn.metrics import classification_report\n",
    "from transformers import AutoTokenizer, AutoModel, AutoModelForCausalLM"
   ]
  },
  {
   "cell_type": "markdown",
   "id": "54183905-9932-4205-a4b0-429ea8631c48",
   "metadata": {},
   "source": [
    "## Tokenizers and Models"
   ]
  },
  {
   "cell_type": "code",
   "execution_count": 2,
   "id": "df587783-b14e-4d68-954f-ebb7238bb0fd",
   "metadata": {},
   "outputs": [],
   "source": [
    "embedding_tokenizer = AutoTokenizer.from_pretrained(\"dmis-lab/biobert-v1.1\")\n",
    "embedding_model = AutoModel.from_pretrained(\"dmis-lab/biobert-v1.1\")"
   ]
  },
  {
   "cell_type": "code",
   "execution_count": 205,
   "id": "1eb931f7-0cef-4521-8950-0fc6bc3a2f14",
   "metadata": {},
   "outputs": [],
   "source": [
    "model_id = \"unsloth/llama-3-70b-Instruct-bnb-4bit\""
   ]
  },
  {
   "cell_type": "code",
   "execution_count": 206,
   "id": "73057574-c355-4140-bb8e-6f67beb59eb3",
   "metadata": {},
   "outputs": [
    {
     "name": "stderr",
     "output_type": "stream",
     "text": [
      "Special tokens have been added in the vocabulary, make sure the associated word embeddings are fine-tuned or trained.\n"
     ]
    }
   ],
   "source": [
    "inference_tokenizer = AutoTokenizer.from_pretrained(model_id, padding='left', padding_side='left')\n",
    "inference_tokenizer.pad_token = inference_tokenizer.eos_token\n",
    "terminators = [\n",
    "    inference_tokenizer.eos_token_id,\n",
    "    inference_tokenizer.convert_tokens_to_ids(\"<|eot_id|>\")\n",
    "]"
   ]
  },
  {
   "cell_type": "code",
   "execution_count": 207,
   "id": "88d46bbb-e215-4015-8b8c-7e4e7148d4b3",
   "metadata": {},
   "outputs": [
    {
     "name": "stderr",
     "output_type": "stream",
     "text": [
      "Unused kwargs: ['_load_in_4bit', '_load_in_8bit', 'quant_method']. These kwargs are not used in <class 'transformers.utils.quantization_config.BitsAndBytesConfig'>.\n"
     ]
    },
    {
     "data": {
      "application/vnd.jupyter.widget-view+json": {
       "model_id": "d7685620ea60429fbea0d453ba8f2cdd",
       "version_major": 2,
       "version_minor": 0
      },
      "text/plain": [
       "Loading checkpoint shards:   0%|          | 0/6 [00:00<?, ?it/s]"
      ]
     },
     "metadata": {},
     "output_type": "display_data"
    }
   ],
   "source": [
    "generation_model = AutoModelForCausalLM.from_pretrained(\n",
    "    model_id,\n",
    "    cache_dir = '/home/umushtaq/scratch/am_work/in_context_learning/model_downloads',\n",
    "    torch_dtype=torch.bfloat16,\n",
    "    device_map=\"auto\",\n",
    ")"
   ]
  },
  {
   "cell_type": "markdown",
   "id": "790eeebc-3379-4347-ba86-e7f79beae0e6",
   "metadata": {},
   "source": [
    "## Dataset"
   ]
  },
  {
   "cell_type": "code",
   "execution_count": 208,
   "id": "2e26e061-1fca-4a67-9e96-55e09149a096",
   "metadata": {},
   "outputs": [],
   "source": [
    "neo_train_df = pd.read_csv(\"dataset/neo/train.csv\")\n",
    "neo_test_df = pd.read_csv(\"dataset/neo/test.csv\")\n",
    "gla_test_df = pd.read_csv(\"dataset/gla/test.csv\")\n",
    "mix_test_df = pd.read_csv(\"dataset/mix/test.csv\")"
   ]
  },
  {
   "cell_type": "code",
   "execution_count": 209,
   "id": "8a2eee29-e2ba-4bff-a4e3-e96d10ee1f75",
   "metadata": {},
   "outputs": [],
   "source": [
    "def get_title_line(x, df):\n",
    "\n",
    "    doc_id = x.doc_id\n",
    "    df_doc = df[df[\"doc_id\"] == doc_id].reset_index()\n",
    "    \n",
    "    for index, row in df_doc.iterrows():\n",
    "        \n",
    "        if pd.notna(row['text']):\n",
    "            title_line = row['text'].split(\".\")[0]\n",
    "            break\n",
    "\n",
    "    return title_line"
   ]
  },
  {
   "cell_type": "code",
   "execution_count": 210,
   "id": "e8e8fc2e-879a-45ed-a76d-0f13ed7d0579",
   "metadata": {},
   "outputs": [],
   "source": [
    "neo_train_df[\"abstract_title\"] = neo_train_df.apply(lambda x: get_title_line(x, neo_train_df), axis=1)"
   ]
  },
  {
   "cell_type": "code",
   "execution_count": 211,
   "id": "2cee210a-f615-49ae-b749-fd1d26ddb223",
   "metadata": {},
   "outputs": [],
   "source": [
    "neo_test_df[\"abstract_title\"] = neo_test_df.apply(lambda x: get_title_line(x, neo_test_df), axis=1)"
   ]
  },
  {
   "cell_type": "code",
   "execution_count": 212,
   "id": "f9e3b6d5-7bcc-424f-aff2-90c1e56b237a",
   "metadata": {},
   "outputs": [],
   "source": [
    "gla_test_df[\"abstract_title\"] = gla_test_df.apply(lambda x: get_title_line(x, gla_test_df), axis=1)"
   ]
  },
  {
   "cell_type": "code",
   "execution_count": 213,
   "id": "50d87b26-711d-4359-bc83-ecf0b2b85fbf",
   "metadata": {},
   "outputs": [],
   "source": [
    "mix_test_df[\"abstract_title\"] = mix_test_df.apply(lambda x: get_title_line(x, mix_test_df), axis=1)"
   ]
  },
  {
   "cell_type": "markdown",
   "id": "f119cf67-e9a5-407c-80cb-3b649da65132",
   "metadata": {},
   "source": [
    "## Get title embeddings using BioBERT"
   ]
  },
  {
   "cell_type": "code",
   "execution_count": 214,
   "id": "72a2cc49-075f-4675-ab63-f4f208e7d193",
   "metadata": {},
   "outputs": [
    {
     "name": "stderr",
     "output_type": "stream",
     "text": [
      "100%|██████████| 350/350 [00:32<00:00, 10.78it/s]\n"
     ]
    }
   ],
   "source": [
    "title_embed_d = {}\n",
    "for title in tqdm(neo_train_df.abstract_title.unique()):\n",
    "    # print(title)\n",
    "    while True:\n",
    "        try:\n",
    "            inputs = embedding_tokenizer(title, return_tensors=\"pt\")\n",
    "            output = embedding_model(**inputs)\n",
    "            embedding = output[1][0].squeeze()\n",
    "            title_embed_d[title] = embedding.detach().numpy()\n",
    "            break\n",
    "        except Exception as e:\n",
    "            print(e)"
   ]
  },
  {
   "cell_type": "code",
   "execution_count": 215,
   "id": "487b9cda-69b6-42aa-8710-281486a810e8",
   "metadata": {},
   "outputs": [],
   "source": [
    "neo_train_df['title_embedding'] = neo_train_df.abstract_title.apply(lambda x: title_embed_d[x])"
   ]
  },
  {
   "cell_type": "code",
   "execution_count": 216,
   "id": "75ad74f5-41f8-4ed8-9eb9-7490861dc6e9",
   "metadata": {},
   "outputs": [
    {
     "name": "stderr",
     "output_type": "stream",
     "text": [
      "100%|██████████| 99/99 [00:09<00:00, 10.47it/s]\n"
     ]
    }
   ],
   "source": [
    "title_embed_d = {}\n",
    "for title in tqdm(neo_test_df.abstract_title.unique()):\n",
    "    # print(title)\n",
    "    while True:\n",
    "        try:\n",
    "            inputs = embedding_tokenizer(title, return_tensors=\"pt\")\n",
    "            output = embedding_model(**inputs)\n",
    "            embedding = output[1][0].squeeze()\n",
    "            title_embed_d[title] = embedding.detach().numpy()\n",
    "            break\n",
    "        except Exception as e:\n",
    "            print(e)"
   ]
  },
  {
   "cell_type": "code",
   "execution_count": 217,
   "id": "01bc990b-4a39-4aee-8d7c-75dd00d44257",
   "metadata": {},
   "outputs": [],
   "source": [
    "neo_test_df['title_embedding'] = neo_test_df.abstract_title.apply(lambda x: title_embed_d[x])"
   ]
  },
  {
   "cell_type": "code",
   "execution_count": 218,
   "id": "1e3e903c-c3e6-48b1-806e-1d825dc4d9c6",
   "metadata": {},
   "outputs": [
    {
     "name": "stderr",
     "output_type": "stream",
     "text": [
      "100%|██████████| 98/98 [00:08<00:00, 11.00it/s]\n"
     ]
    }
   ],
   "source": [
    "title_embed_d = {}\n",
    "for title in tqdm(gla_test_df.abstract_title.unique()):\n",
    "    # print(title)\n",
    "    while True:\n",
    "        try:\n",
    "            inputs = embedding_tokenizer(title, return_tensors=\"pt\")\n",
    "            output = embedding_model(**inputs)\n",
    "            embedding = output[1][0].squeeze()\n",
    "            title_embed_d[title] = embedding.detach().numpy()\n",
    "            break\n",
    "        except Exception as e:\n",
    "            print(e)"
   ]
  },
  {
   "cell_type": "code",
   "execution_count": 219,
   "id": "d6e47383-fd00-4b77-b9b1-3a790b90d80c",
   "metadata": {},
   "outputs": [],
   "source": [
    "gla_test_df['title_embedding'] = gla_test_df.abstract_title.apply(lambda x: title_embed_d[x])"
   ]
  },
  {
   "cell_type": "code",
   "execution_count": 220,
   "id": "80f6a1ef-ef93-4699-9442-89fc300ca1d6",
   "metadata": {},
   "outputs": [
    {
     "name": "stderr",
     "output_type": "stream",
     "text": [
      "100%|██████████| 100/100 [00:09<00:00, 10.91it/s]\n"
     ]
    }
   ],
   "source": [
    "title_embed_d = {}\n",
    "for title in tqdm(mix_test_df.abstract_title.unique()):\n",
    "    # print(title)\n",
    "    while True:\n",
    "        try:\n",
    "            inputs = embedding_tokenizer(title, return_tensors=\"pt\")\n",
    "            output = embedding_model(**inputs)\n",
    "            embedding = output[1][0].squeeze()\n",
    "            title_embed_d[title] = embedding.detach().numpy()\n",
    "            break\n",
    "        except Exception as e:\n",
    "            print(e)"
   ]
  },
  {
   "cell_type": "code",
   "execution_count": 221,
   "id": "d547eff8-aaf8-4040-970b-dc7d8c0f5ad1",
   "metadata": {},
   "outputs": [],
   "source": [
    "mix_test_df['title_embedding'] = mix_test_df.abstract_title.apply(lambda x: title_embed_d[x])"
   ]
  },
  {
   "cell_type": "code",
   "execution_count": 222,
   "id": "c575b23a-2528-4121-b89f-1e994c88d85a",
   "metadata": {},
   "outputs": [],
   "source": [
    "def get_abstract_texts(df):\n",
    "\n",
    "    concatenated_text = df.fillna('').groupby('doc_id')['text'].agg(' '.join).reset_index()\n",
    "    concatenated_text['text'] = concatenated_text['text'].str.strip()\n",
    "    df = df.merge(concatenated_text, on='doc_id', suffixes=('', '_concatenated'))\n",
    "    df = df.rename(columns={'text_concatenated': 'abstract_text'})\n",
    "\n",
    "    return df"
   ]
  },
  {
   "cell_type": "code",
   "execution_count": 223,
   "id": "5ed9778d-0f96-4964-93da-8a74a168200b",
   "metadata": {},
   "outputs": [],
   "source": [
    "neo_train_df = get_abstract_texts(neo_train_df)\n",
    "neo_test_df = get_abstract_texts(neo_test_df)\n",
    "gla_test_df = get_abstract_texts(gla_test_df)\n",
    "mix_test_df = get_abstract_texts(mix_test_df)"
   ]
  },
  {
   "cell_type": "code",
   "execution_count": 224,
   "id": "fbe0f84f-5550-47af-a376-db874fb508d0",
   "metadata": {},
   "outputs": [],
   "source": [
    "def process_majorclaims(x):\n",
    "\n",
    "    aty = x.aty\n",
    "    if aty == 'MajorClaim':\n",
    "        aty = 'Claim'\n",
    "\n",
    "    return aty"
   ]
  },
  {
   "cell_type": "code",
   "execution_count": 225,
   "id": "6d312b59-f56e-4319-9bad-2548854e78b8",
   "metadata": {},
   "outputs": [],
   "source": [
    "neo_train_df['aty'] = neo_train_df.apply(lambda x: process_majorclaims(x), axis=1)\n",
    "neo_test_df['aty'] = neo_test_df.apply(lambda x: process_majorclaims(x), axis=1)\n",
    "gla_test_df['aty'] = gla_test_df.apply(lambda x: process_majorclaims(x), axis=1)\n",
    "mix_test_df['aty'] = mix_test_df.apply(lambda x: process_majorclaims(x), axis=1)"
   ]
  },
  {
   "cell_type": "code",
   "execution_count": 226,
   "id": "43294d67-5e1d-4b5c-a7f3-74d64a4e249a",
   "metadata": {},
   "outputs": [
    {
     "data": {
      "text/plain": [
       "aty\n",
       "Premise    0.680052\n",
       "Claim      0.319948\n",
       "Name: proportion, dtype: float64"
      ]
     },
     "execution_count": 226,
     "metadata": {},
     "output_type": "execute_result"
    }
   ],
   "source": [
    "neo_train_df[neo_train_df.aty != 'none'].aty.value_counts(normalize=True)"
   ]
  },
  {
   "cell_type": "markdown",
   "id": "ee72f2fb-f89c-4f44-b52a-e3735c570452",
   "metadata": {},
   "source": [
    "## Get K neighbours"
   ]
  },
  {
   "cell_type": "code",
   "execution_count": 227,
   "id": "af5e4bd3-0fb2-43bf-b1c0-423bc64cf869",
   "metadata": {},
   "outputs": [],
   "source": [
    "def get_k_neighbours(k, title, test_df, train_df=neo_train_df):\n",
    "\n",
    "    test_title_embedding = test_df[test_df.abstract_title == title][\"title_embedding\"].values[0]\n",
    "\n",
    "    title_embed_d = {}\n",
    "    for e in train_df.iterrows():\n",
    "        if e[1].abstract_title not in title_embed_d:\n",
    "            title_embed_d[e[1].abstract_title] = e[1].title_embedding\n",
    "\n",
    "    # train_titles = set(df[df.split == 'TRAIN'].title.unique())\n",
    "    train_titles = set(train_df.abstract_title.unique())\n",
    "\n",
    "    dist_l = []\n",
    "    for t, v in title_embed_d.items():\n",
    "        if t in train_titles:\n",
    "            # d = cos_sim(title_embed_d[title], v)\n",
    "            d = F.cosine_similarity(torch.tensor(test_title_embedding), torch.tensor(v), dim=0)\n",
    "            dist_l.append((t, d.item()))\n",
    "\n",
    "    sorted_dist_l = sorted(dist_l, key=itemgetter(1), reverse=True)\n",
    "    \n",
    "    return sorted_dist_l[0: k]"
   ]
  },
  {
   "cell_type": "code",
   "execution_count": 228,
   "id": "80b2cd04-08d5-488a-95d2-cb1ece514ce4",
   "metadata": {},
   "outputs": [
    {
     "data": {
      "text/plain": [
       "[(' Research has shown that self-directed stress management training improves mental well-being in patients undergoing chemotherapy',\n",
       "  0.9953505992889404),\n",
       " (' Numerous studies have examined the comorbidity of depression with cancer, and some have indicated that depression may be associated with cancer progression or survival',\n",
       "  0.994724452495575),\n",
       " (' Behavioral symptoms are common in breast cancer survivors, including disturbances in energy, sleep, and mood, though few risk factors for these negative outcomes have been identified',\n",
       "  0.9935887455940247),\n",
       " (' Lymphoma patients commonly experience declines in physical functioning and quality of life (QoL) that may be reversed with exercise training',\n",
       "  0.9935306310653687),\n",
       " (' Few intervention studies have been conducted to help couples manage the effects of prostate cancer and maintain their quality of life',\n",
       "  0.992271900177002)]"
      ]
     },
     "execution_count": 228,
     "metadata": {},
     "output_type": "execute_result"
    }
   ],
   "source": [
    "get_k_neighbours(5, neo_test_df.iloc[100][\"abstract_title\"], neo_test_df)"
   ]
  },
  {
   "cell_type": "markdown",
   "id": "835b1354-2302-4d83-b7ae-c6c3373b868b",
   "metadata": {},
   "source": [
    "## Prepare Prompts"
   ]
  },
  {
   "cell_type": "code",
   "execution_count": 229,
   "id": "552c1b97-e8e0-4425-900e-59d77baf447e",
   "metadata": {},
   "outputs": [],
   "source": [
    "def prepare_similar_example_prompts(title, df, k=0, seed=33):\n",
    "    \"\"\"\n",
    "    Create a part of prompt made of k examples in the train set, whose topic is most similar to a given title.\n",
    "    \"\"\"\n",
    "\n",
    "    random.seed(seed)\n",
    "\n",
    "    neighbours_l = get_k_neighbours(2*k, title, df) # Fetch the 2*k closest neighbors\n",
    "    # print(neighbours_l)\n",
    "    sampled_neighbours_l = random.sample(neighbours_l, k) # Only keep k of them\n",
    "    # bprint(sampled_neighbours_l)\n",
    "\n",
    "    prompt = ''\n",
    "    cnt = 0\n",
    "    for i, (title, dist) in enumerate(sampled_neighbours_l):\n",
    "        prompt += f'## Example {i+1}\\n'\n",
    "\n",
    "        example_df = neo_train_df[neo_train_df.abstract_title == title]\n",
    "        example_df = example_df[example_df.aty != 'none'].reset_index()\n",
    "        \n",
    "        class_l = []\n",
    "        for k in example_df.iterrows():\n",
    "            \n",
    "            if k[0] == 0:\n",
    "\n",
    "                prompt += f'# Abstract:\\n{example_df.iloc[0].abstract_text}\\n\\n# Arguments:\\n'\n",
    "                cnt = 0\n",
    "                \n",
    "            # prompt += f'Argument {cnt + 1}={k[1].text} - Class={k[1].aty}\\n'\n",
    "            prompt += f'Argument {cnt + 1}={k[1].text}\\n'\n",
    "            class_l.append(k[1].aty)\n",
    "            cnt += 1\n",
    "            \n",
    "        prompt += '\\n# Result:\\n'\n",
    "        prompt += '{' + ', '.join([f'\"Argument {i + 1}\": \"{class_l[i]}\"' for i in range(len(class_l))]) + '}'\n",
    "        prompt += '\\n\\n'\n",
    "\n",
    "    return prompt"
   ]
  },
  {
   "cell_type": "code",
   "execution_count": 230,
   "id": "808aaf63-3b10-4366-a13f-c2eee4b1ba95",
   "metadata": {
    "scrolled": true
   },
   "outputs": [
    {
     "name": "stdout",
     "output_type": "stream",
     "text": [
      "\n"
     ]
    }
   ],
   "source": [
    "print(prepare_similar_example_prompts(neo_test_df.iloc[14][\"abstract_title\"], neo_test_df, k=0))"
   ]
  },
  {
   "cell_type": "markdown",
   "id": "ac26cf7a-b9a9-43ec-aa97-1d399c5acb3f",
   "metadata": {},
   "source": [
    "## Prepare Test Set Prompts"
   ]
  },
  {
   "cell_type": "code",
   "execution_count": 231,
   "id": "74d1d550-d451-47d2-8791-0a4879a4abb7",
   "metadata": {},
   "outputs": [],
   "source": [
    "claim_fulldesc = \"A claim in the abstract of an RCT is a statement or conclusion about the findings of the study.\""
   ]
  },
  {
   "cell_type": "code",
   "execution_count": 232,
   "id": "9113d8e4-e75c-4bbe-a690-b3069ba838dc",
   "metadata": {},
   "outputs": [
    {
     "data": {
      "text/plain": [
       "'A claim in the abstract of an RCT is a statement or conclusion about the findings of the study.'"
      ]
     },
     "execution_count": 232,
     "metadata": {},
     "output_type": "execute_result"
    }
   ],
   "source": [
    "claim_fulldesc"
   ]
  },
  {
   "cell_type": "code",
   "execution_count": 233,
   "id": "50e826fc-5d8c-4479-88ba-b223dd452512",
   "metadata": {},
   "outputs": [],
   "source": [
    "premise_fulldesc = \"A premise in the abstract of an RCT is a statement that provides an evidence or proof for a claim.\""
   ]
  },
  {
   "cell_type": "code",
   "execution_count": 234,
   "id": "598963db-b3fc-4f56-8024-45fa1423fba3",
   "metadata": {},
   "outputs": [
    {
     "data": {
      "text/plain": [
       "'A premise in the abstract of an RCT is a statement that provides an evidence or proof for a claim.'"
      ]
     },
     "execution_count": 234,
     "metadata": {},
     "output_type": "execute_result"
    }
   ],
   "source": [
    "premise_fulldesc"
   ]
  },
  {
   "cell_type": "code",
   "execution_count": 235,
   "id": "a9a35223-8e73-416f-86e1-0f26ab7d3120",
   "metadata": {},
   "outputs": [],
   "source": [
    "proportion_desc = \"68.0052% of examples are of type Premise and 31.9948% of type Claim.\""
   ]
  },
  {
   "cell_type": "code",
   "execution_count": 236,
   "id": "c0803ab3-d136-439f-90b1-a3e412ad2370",
   "metadata": {
    "scrolled": true
   },
   "outputs": [
    {
     "data": {
      "text/plain": [
       "'68.0052% of examples are of type Premise and 31.9948% of type Claim.'"
      ]
     },
     "execution_count": 236,
     "metadata": {},
     "output_type": "execute_result"
    }
   ],
   "source": [
    "proportion_desc"
   ]
  },
  {
   "cell_type": "code",
   "execution_count": 281,
   "id": "d2bacc91-8288-4d64-a605-50c9cb20c5cf",
   "metadata": {},
   "outputs": [
    {
     "name": "stdout",
     "output_type": "stream",
     "text": [
      "CPU times: user 4.52 s, sys: 6.3 ms, total: 4.53 s\n",
      "Wall time: 4.56 s\n"
     ]
    }
   ],
   "source": [
    "%%time\n",
    "\n",
    "#experiment_df = df[df.split == 'TEST']\n",
    "# experiment_df = neo_test_df\n",
    "# experiment_df = gla_test_df\n",
    "experiment_df = mix_test_df\n",
    "\n",
    "target_l = []\n",
    "\n",
    "# Pre-prepare all examples from each document\n",
    "title_l = []\n",
    "essay_l = []\n",
    "example_l = []\n",
    "buffer_l = []\n",
    "label_l = []\n",
    "for e in experiment_df.iterrows():\n",
    "\n",
    "    if e[1].span_pos == 1:\n",
    "    #if e[0] == 0:\n",
    "        essay_l.append(e[1].abstract_text)\n",
    "        title_l.append(e[1].abstract_title)\n",
    "    \n",
    "    if e[1].span_pos == 1 and len(buffer_l) > 0:\n",
    "    #if e[0] == 0 and len(buffer_l) > 0:\n",
    "        example_l.append(buffer_l)\n",
    "        target_l.append(label_l)\n",
    "        buffer_l = []\n",
    "        label_l = []\n",
    "    if e[1].aty != 'none':\n",
    "        buffer_l.append(e[1].text)\n",
    "        label_l.append(e[1].aty)\n",
    "\n",
    "# Flush the buffers\n",
    "example_l.append(buffer_l)\n",
    "target_l.append(label_l)\n",
    "\n",
    "\n",
    "sys_msg_l_by_seed_d = {}\n",
    "task_msg_l = []\n",
    "\n",
    "for i in range(len(example_l)):\n",
    "\n",
    "    # Prepare numbered list of ACs in this example\n",
    "    other_acs_prompt = ''\n",
    "    for j, s in enumerate(example_l[i]):\n",
    "        # other_acs_prompt += f'Argument {j + 1}={s}\\n'\n",
    "        other_acs_prompt += f'Argument {j + 1}={s}\\n'\n",
    "\n",
    "    for seed in [42]:\n",
    "        sys_msg = {\"role\":\"system\", \"content\": \"### Task description: You are an expert biomedical assistant that takes 1) an abstract text and 2) the list of all arguments from this abstract text, and must classify all arguments into one of two classes: Claim or Premise. \" + proportion_desc + \" You must absolutely not generate any text or explanation other than the following JSON format {\\\"Argument 1\\\": <predicted class for Argument 1 (str)>, ..., \\\"Argument n\\\": <predicted class for Argument n (str)>}\\n\\n### Class definitions:\" + \" Claim = \" + claim_fulldesc + \" Premise = \" + premise_fulldesc + \"\" + prepare_similar_example_prompts(title_l[i], experiment_df, k=0, seed=seed)}  # Sample by similar title\n",
    "\n",
    "        try:\n",
    "            sys_msg_l_by_seed_d[seed].append(sys_msg)\n",
    "        except KeyError:\n",
    "            sys_msg_l_by_seed_d[seed] = [sys_msg]\n",
    "\n",
    "    task_msg = {\"role\":\"user\", \"content\": f\"# Abstract:\\n{essay_l[i]}\\n\\n# Arguments:\\n{other_acs_prompt}\\n\\n# Result:\\n\"}\n",
    "    \n",
    "    task_msg_l.append(task_msg)"
   ]
  },
  {
   "cell_type": "code",
   "execution_count": 282,
   "id": "bab5f946-2558-487c-9242-dd26c53ecf38",
   "metadata": {},
   "outputs": [
    {
     "data": {
      "text/plain": [
       "100"
      ]
     },
     "execution_count": 282,
     "metadata": {},
     "output_type": "execute_result"
    }
   ],
   "source": [
    "len(sys_msg_l_by_seed_d[42])"
   ]
  },
  {
   "cell_type": "code",
   "execution_count": 283,
   "id": "5bc622e9-738a-4f72-a57c-7297d1c84f3b",
   "metadata": {
    "scrolled": true
   },
   "outputs": [
    {
     "name": "stdout",
     "output_type": "stream",
     "text": [
      "### Task description: You are an expert biomedical assistant that takes 1) an abstract text and 2) the list of all arguments from this abstract text, and must classify all arguments into one of two classes: Claim or Premise. 68.0052% of examples are of type Premise and 31.9948% of type Claim. You must absolutely not generate any text or explanation other than the following JSON format {\"Argument 1\": <predicted class for Argument 1 (str)>, ..., \"Argument n\": <predicted class for Argument n (str)>}\n",
      "\n",
      "### Class definitions: Claim = A claim in the abstract of an RCT is a statement or conclusion about the findings of the study. Premise = A premise in the abstract of an RCT is a statement that provides an evidence or proof for a claim.\n"
     ]
    }
   ],
   "source": [
    "print(sys_msg_l_by_seed_d[42][0]['content'])"
   ]
  },
  {
   "cell_type": "code",
   "execution_count": 284,
   "id": "6c231a43-6c8e-44e3-a844-28c84091194a",
   "metadata": {},
   "outputs": [
    {
     "data": {
      "text/plain": [
       "100"
      ]
     },
     "execution_count": 284,
     "metadata": {},
     "output_type": "execute_result"
    }
   ],
   "source": [
    "len(task_msg_l)"
   ]
  },
  {
   "cell_type": "code",
   "execution_count": 285,
   "id": "6421a3d0-4d0d-4344-ad1b-2f79c87a9d1f",
   "metadata": {},
   "outputs": [
    {
     "name": "stdout",
     "output_type": "stream",
     "text": [
      "# Abstract:\n",
      "Few controlled clinical trials exist to support oral combination therapy in pulmonary arterial hypertension (PAH). Patients with PAH (idiopathic [IPAH] or associated with connective tissue disease [APAH-CTD]) taking bosentan (62.5 or 125 mg twice daily at a stable dose for ≥3 months) were randomized (1:1) to sildenafil (20 mg, 3 times daily; n = 50) or placebo (n = 53). The primary endpoint was change from baseline in 6-min walk distance (6MWD) at week 12, assessed using analysis of covariance. Patients could continue in a 52-week extension study. An analysis of covariance main-effects model was used, which included categorical terms for treatment, baseline 6MWD (<325 m; ≥325 m), and baseline aetiology; sensitivity analyses were subsequently performed. In sildenafil versus placebo arms, week-12 6MWD increases were similar (least squares mean difference [sildenafil-placebo], -2.4 m [90% CI: -21.8 to 17.1 m]; P = 0.6); mean ± SD changes from baseline were 26.4 ± 45.7 versus 11.8 ± 57.4 m, respectively, in IPAH (65% of population) and -18.3 ± 82.0 versus 17.5 ± 59.1 m in APAH-CTD (35% of population). One-year survival was 96%; patients maintained modest 6MWD improvements. Changes in WHO functional class and Borg dyspnoea score and incidence of clinical worsening did not differ. Headache, diarrhoea, and flushing were more common with sildenafil. Sildenafil, in addition to stable (≥3 months) bosentan therapy, had no benefit over placebo for 12-week change from baseline in 6MWD. The influence of PAH aetiology warrants future study.\n",
      "\n",
      "# Arguments:\n",
      "Argument 1=In sildenafil versus placebo arms, week-12 6MWD increases were similar (least squares mean difference [sildenafil-placebo], -2.4 m [90% CI: -21.8 to 17.1 m]; P = 0.6); mean ± SD changes from baseline were 26.4 ± 45.7 versus 11.8 ± 57.4 m, respectively, in IPAH (65% of population) and -18.3 ± 82.0 versus 17.5 ± 59.1 m in APAH-CTD (35% of population).\n",
      "Argument 2=Changes in WHO functional class and Borg dyspnoea score and incidence of clinical worsening did not differ.\n",
      "Argument 3=Headache, diarrhoea, and flushing were more common with sildenafil.\n",
      "Argument 4=Sildenafil, in addition to stable (≥3 months) bosentan therapy, had no benefit over placebo for 12-week change from baseline in 6MWD.\n",
      "\n",
      "\n",
      "# Result:\n",
      "\n"
     ]
    }
   ],
   "source": [
    "print(task_msg_l[0]['content'])"
   ]
  },
  {
   "cell_type": "code",
   "execution_count": 286,
   "id": "c42dfc53-2fa9-4c21-bfa8-284d6442e935",
   "metadata": {},
   "outputs": [],
   "source": [
    "prepared_sys_task_msg_l = []\n",
    "\n",
    "for i in range(len(sys_msg_l_by_seed_d[42])):\n",
    "    prepared_sys_task_msg_l.append([sys_msg_l_by_seed_d[42][i], task_msg_l[i]])"
   ]
  },
  {
   "cell_type": "code",
   "execution_count": 287,
   "id": "b50a3f80-0c05-48c1-b3d2-ec22966d9cec",
   "metadata": {},
   "outputs": [
    {
     "data": {
      "text/plain": [
       "100"
      ]
     },
     "execution_count": 287,
     "metadata": {},
     "output_type": "execute_result"
    }
   ],
   "source": [
    "len(prepared_sys_task_msg_l)"
   ]
  },
  {
   "cell_type": "code",
   "execution_count": 288,
   "id": "b2d6ca65-b456-4b45-ace2-2f923701c84f",
   "metadata": {
    "scrolled": true
   },
   "outputs": [
    {
     "name": "stdout",
     "output_type": "stream",
     "text": [
      "[{'role': 'system', 'content': '### Task description: You are an expert biomedical assistant that takes 1) an abstract text and 2) the list of all arguments from this abstract text, and must classify all arguments into one of two classes: Claim or Premise. 68.0052% of examples are of type Premise and 31.9948% of type Claim. You must absolutely not generate any text or explanation other than the following JSON format {\"Argument 1\": <predicted class for Argument 1 (str)>, ..., \"Argument n\": <predicted class for Argument n (str)>}\\n\\n### Class definitions: Claim = A claim in the abstract of an RCT is a statement or conclusion about the findings of the study. Premise = A premise in the abstract of an RCT is a statement that provides an evidence or proof for a claim.'}, {'role': 'user', 'content': '# Abstract:\\nFew controlled clinical trials exist to support oral combination therapy in pulmonary arterial hypertension (PAH). Patients with PAH (idiopathic [IPAH] or associated with connective tissue disease [APAH-CTD]) taking bosentan (62.5 or 125 mg twice daily at a stable dose for ≥3 months) were randomized (1:1) to sildenafil (20 mg, 3 times daily; n = 50) or placebo (n = 53). The primary endpoint was change from baseline in 6-min walk distance (6MWD) at week 12, assessed using analysis of covariance. Patients could continue in a 52-week extension study. An analysis of covariance main-effects model was used, which included categorical terms for treatment, baseline 6MWD (<325 m; ≥325 m), and baseline aetiology; sensitivity analyses were subsequently performed. In sildenafil versus placebo arms, week-12 6MWD increases were similar (least squares mean difference [sildenafil-placebo], -2.4 m [90% CI: -21.8 to 17.1 m]; P = 0.6); mean ± SD changes from baseline were 26.4 ± 45.7 versus 11.8 ± 57.4 m, respectively, in IPAH (65% of population) and -18.3 ± 82.0 versus 17.5 ± 59.1 m in APAH-CTD (35% of population). One-year survival was 96%; patients maintained modest 6MWD improvements. Changes in WHO functional class and Borg dyspnoea score and incidence of clinical worsening did not differ. Headache, diarrhoea, and flushing were more common with sildenafil. Sildenafil, in addition to stable (≥3 months) bosentan therapy, had no benefit over placebo for 12-week change from baseline in 6MWD. The influence of PAH aetiology warrants future study.\\n\\n# Arguments:\\nArgument 1=In sildenafil versus placebo arms, week-12 6MWD increases were similar (least squares mean difference [sildenafil-placebo], -2.4 m [90% CI: -21.8 to 17.1 m]; P = 0.6); mean ± SD changes from baseline were 26.4 ± 45.7 versus 11.8 ± 57.4 m, respectively, in IPAH (65% of population) and -18.3 ± 82.0 versus 17.5 ± 59.1 m in APAH-CTD (35% of population).\\nArgument 2=Changes in WHO functional class and Borg dyspnoea score and incidence of clinical worsening did not differ.\\nArgument 3=Headache, diarrhoea, and flushing were more common with sildenafil.\\nArgument 4=Sildenafil, in addition to stable (≥3 months) bosentan therapy, had no benefit over placebo for 12-week change from baseline in 6MWD.\\n\\n\\n# Result:\\n'}]\n"
     ]
    }
   ],
   "source": [
    "print(prepared_sys_task_msg_l[0])"
   ]
  },
  {
   "cell_type": "markdown",
   "id": "7ecf1b59-b3ce-4cd4-a6bc-9888a4600aac",
   "metadata": {},
   "source": [
    "## Generate Predictions"
   ]
  },
  {
   "cell_type": "code",
   "execution_count": 289,
   "id": "58ec6f7d-3838-4be8-b4b8-71b58f146b75",
   "metadata": {},
   "outputs": [
    {
     "name": "stderr",
     "output_type": "stream",
     "text": [
      "100%|██████████| 100/100 [12:34<00:00,  7.54s/it]\n"
     ]
    }
   ],
   "source": [
    "outputs_l = []\n",
    "\n",
    "for i in tqdm(range(len(prepared_sys_task_msg_l))):\n",
    "\n",
    "    messages = prepared_sys_task_msg_l[i]\n",
    "\n",
    "    input_ids = inference_tokenizer.apply_chat_template(\n",
    "    messages,\n",
    "    add_generation_prompt=True,\n",
    "    tokenize=True,\n",
    "    padding=True,\n",
    "    truncation=True,\n",
    "    return_tensors=\"pt\"\n",
    ").to(generation_model.device)\n",
    "\n",
    "    outputs = generation_model.generate(\n",
    "    input_ids = input_ids,\n",
    "    max_new_tokens=1024,\n",
    "    pad_token_id=inference_tokenizer.eos_token_id,\n",
    "    eos_token_id=terminators,\n",
    "    do_sample=True,\n",
    "    temperature=0.1,\n",
    "    top_p=0.9,\n",
    "    )\n",
    "    # inference_tokenizer.decode(outputs[0][input_ids.shape[-1]:], skip_special_tokens=True)\n",
    "    outputs_l.append(inference_tokenizer.decode(outputs[0][input_ids.shape[-1]:], skip_special_tokens=True))"
   ]
  },
  {
   "cell_type": "code",
   "execution_count": 290,
   "id": "c6b68d0e-88c9-43d4-ae30-b97f4a849756",
   "metadata": {
    "scrolled": true
   },
   "outputs": [
    {
     "data": {
      "text/plain": [
       "['{\"Argument 1\": \"Premise\", \"Argument 2\": \"Premise\", \"Argument 3\": \"Premise\", \"Argument 4\": \"Claim\"}',\n",
       " '{\"Argument 1\": \"Claim\", \"Argument 2\": \"Claim\", \"Argument 3\": \"Claim\", \"Argument 4\": \"Claim\", \"Argument 5\": \"Premise\", \"Argument 6\": \"Premise\", \"Argument 7\": \"Premise\", \"Argument 8\": \"Claim\", \"Argument 9\": \"Premise\"}',\n",
       " '{\"Argument 1\": \"Premise\", \"Argument 2\": \"Premise\", \"Argument 3\": \"Premise\", \"Argument 4\": \"Premise\", \"Argument 5\": \"Premise\", \"Argument 6\": \"Premise\", \"Argument 7\": \"Claim\"}',\n",
       " '{\"Argument 1\": \"Claim\", \"Argument 2\": \"Premise\", \"Argument 3\": \"Premise\", \"Argument 4\": \"Claim\", \"Argument 5\": \"Claim\"}',\n",
       " '{\"Argument 1\": \"Premise\", \"Argument 2\": \"Premise\", \"Argument 3\": \"Claim\", \"Argument 4\": \"Claim\", \"Argument 5\": \"Premise\", \"Argument 6\": \"Claim\", \"Argument 7\": \"Claim\"}',\n",
       " '{\"Argument 1\": \"Premise\", \"Argument 2\": \"Claim\", \"Argument 3\": \"Premise\", \"Argument 4\": \"Claim\", \"Argument 5\": \"Premise\"}',\n",
       " '{\"Argument 1\": \"Premise\", \"Argument 2\": \"Premise\", \"Argument 3\": \"Premise\", \"Argument 4\": \"Premise\", \"Argument 5\": \"Premise\", \"Argument 6\": \"Premise\", \"Argument 7\": \"Claim\", \"Argument 8\": \"Premise\", \"Argument 9\": \"Claim\"}',\n",
       " '{\"Argument 1\": \"Premise\", \"Argument 2\": \"Premise\", \"Argument 3\": \"Premise\", \"Argument 4\": \"Premise\", \"Argument 5\": \"Premise\", \"Argument 6\": \"Claim\", \"Argument 7\": \"Claim\"}',\n",
       " '{\"Argument 1\": \"Premise\", \"Argument 2\": \"Premise\", \"Argument 3\": \"Claim\", \"Argument 4\": \"Claim\", \"Argument 5\": \"Premise\", \"Argument 6\": \"Claim\", \"Argument 7\": \"Claim\", \"Argument 8\": \"Claim\", \"Argument 9\": \"Premise\", \"Argument 10\": \"Claim\"}',\n",
       " '{\"Argument 1\": \"Claim\", \"Argument 2\": \"Premise\", \"Argument 3\": \"Premise\", \"Argument 4\": \"Claim\"}',\n",
       " '{\"Argument 1\": \"Premise\", \"Argument 2\": \"Premise\", \"Argument 3\": \"Premise\", \"Argument 4\": \"Premise\", \"Argument 5\": \"Claim\", \"Argument 6\": \"Claim\"}',\n",
       " '{\"Argument 1\": \"Premise\", \"Argument 2\": \"Premise\", \"Argument 3\": \"Premise\", \"Argument 4\": \"Premise\", \"Argument 5\": \"Claim\", \"Argument 6\": \"Claim\", \"Argument 7\": \"Claim\"}',\n",
       " '{\"Argument 1\": \"Premise\", \"Argument 2\": \"Claim\", \"Argument 3\": \"Claim\", \"Argument 4\": \"Premise\", \"Argument 5\": \"Claim\"}',\n",
       " '{\"Argument 1\": \"Premise\", \"Argument 2\": \"Premise\", \"Argument 3\": \"Premise\", \"Argument 4\": \"Claim\"}',\n",
       " '{\"Argument 1\": \"Premise\", \"Argument 2\": \"Premise\", \"Argument 3\": \"Premise\", \"Argument 4\": \"Premise\", \"Argument 5\": \"Claim\", \"Argument 6\": \"Claim\"}',\n",
       " '{\"Argument 1\": \"Premise\", \"Argument 2\": \"Premise\", \"Argument 3\": \"Premise\", \"Argument 4\": \"Premise\", \"Argument 5\": \"Claim\", \"Argument 6\": \"Claim\"}',\n",
       " '{\"Argument 1\": \"Premise\", \"Argument 2\": \"Premise\", \"Argument 3\": \"Claim\", \"Argument 4\": \"Claim\"}',\n",
       " '{\"Argument 1\": \"Claim\", \"Argument 2\": \"Claim\"}',\n",
       " '{\"Argument 1\": \"Claim\", \"Argument 2\": \"Claim\", \"Argument 3\": \"Premise\", \"Argument 4\": \"Premise\", \"Argument 5\": \"Claim\"}',\n",
       " '{\"Argument 1\": \"Premise\", \"Argument 2\": \"Premise\", \"Argument 3\": \"Premise\", \"Argument 4\": \"Premise\", \"Argument 5\": \"Premise\", \"Argument 6\": \"Claim\", \"Argument 7\": \"Claim\"}',\n",
       " '{\"Argument 1\": \"Premise\", \"Argument 2\": \"Premise\", \"Argument 3\": \"Claim\", \"Argument 4\": \"Premise\", \"Argument 5\": \"Premise\", \"Argument 6\": \"Claim\", \"Argument 7\": \"Claim\", \"Argument 8\": \"Premise\"}',\n",
       " '{\"Argument 1\": \"Premise\", \"Argument 2\": \"Premise\", \"Argument 3\": \"Premise\", \"Argument 4\": \"Premise\", \"Argument 5\": \"Premise\", \"Argument 6\": \"Claim\"}',\n",
       " '{\"Argument 1\": \"Claim\", \"Argument 2\": \"Premise\", \"Argument 3\": \"Premise\", \"Argument 4\": \"Premise\", \"Argument 5\": \"Premise\", \"Argument 6\": \"Premise\", \"Argument 7\": \"Premise\", \"Argument 8\": \"Premise\", \"Argument 9\": \"Premise\", \"Argument 10\": \"Premise\", \"Argument 11\": \"Claim\", \"Argument 12\": \"Claim\"}',\n",
       " '{\"Argument 1\": \"Premise\", \"Argument 2\": \"Premise\", \"Argument 3\": \"Premise\", \"Argument 4\": \"Premise\", \"Argument 5\": \"Premise\", \"Argument 6\": \"Claim\", \"Argument 7\": \"Claim\"}',\n",
       " '{\"Argument 1\": \"Premise\", \"Argument 2\": \"Premise\", \"Argument 3\": \"Premise\", \"Argument 4\": \"Premise\", \"Argument 5\": \"Claim\"}',\n",
       " '{\"Argument 1\": \"Premise\", \"Argument 2\": \"Premise\", \"Argument 3\": \"Premise\", \"Argument 4\": \"Claim\"}',\n",
       " '{\"Argument 1\": \"Premise\", \"Argument 2\": \"Claim\", \"Argument 3\": \"Premise\", \"Argument 4\": \"Premise\", \"Argument 5\": \"Claim\", \"Argument 6\": \"Claim\", \"Argument 7\": \"Claim\", \"Argument 8\": \"Claim\"}',\n",
       " '{\"Argument 1\": \"Premise\", \"Argument 2\": \"Premise\", \"Argument 3\": \"Premise\", \"Argument 4\": \"Premise\", \"Argument 5\": \"Claim\", \"Argument 6\": \"Claim\", \"Argument 7\": \"Claim\"}',\n",
       " '{\"Argument 1\": \"Claim\", \"Argument 2\": \"Premise\", \"Argument 3\": \"Premise\", \"Argument 4\": \"Claim\"}',\n",
       " '{\"Argument 1\": \"Premise\", \"Argument 2\": \"Premise\", \"Argument 3\": \"Claim\", \"Argument 4\": \"Claim\", \"Argument 5\": \"Claim\", \"Argument 6\": \"Claim\", \"Argument 7\": \"Claim\", \"Argument 8\": \"Claim\"}',\n",
       " '{\"Argument 1\": \"Premise\", \"Argument 2\": \"Premise\", \"Argument 3\": \"Claim\", \"Argument 4\": \"Claim\", \"Argument 5\": \"Claim\"}',\n",
       " '{\"Argument 1\": \"Premise\", \"Argument 2\": \"Premise\", \"Argument 3\": \"Premise\", \"Argument 4\": \"Claim\", \"Argument 5\": \"Claim\", \"Argument 6\": \"Claim\"}',\n",
       " '{\"Argument 1\": \"Claim\", \"Argument 2\": \"Premise\", \"Argument 3\": \"Premise\", \"Argument 4\": \"Claim\", \"Argument 5\": \"Premise\"}',\n",
       " '{\"Argument 1\": \"Claim\", \"Argument 2\": \"Claim\", \"Argument 3\": \"Premise\", \"Argument 4\": \"Premise\", \"Argument 5\": \"Claim\", \"Argument 6\": \"Claim\"}',\n",
       " '{\"Argument 1\": \"Premise\", \"Argument 2\": \"Claim\", \"Argument 3\": \"Claim\", \"Argument 4\": \"Claim\", \"Argument 5\": \"Claim\", \"Argument 6\": \"Premise\", \"Argument 7\": \"Premise\", \"Argument 8\": \"Claim\", \"Argument 9\": \"Claim\"}',\n",
       " '{\"Argument 1\": \"Premise\", \"Argument 2\": \"Claim\", \"Argument 3\": \"Premise\", \"Argument 4\": \"Premise\", \"Argument 5\": \"Claim\", \"Argument 6\": \"Premise\", \"Argument 7\": \"Claim\"}',\n",
       " '{\"Argument 1\": \"Claim\", \"Argument 2\": \"Premise\", \"Argument 3\": \"Claim\", \"Argument 4\": \"Premise\"}',\n",
       " '{\"Argument 1\": \"Premise\", \"Argument 2\": \"Premise\", \"Argument 3\": \"Premise\", \"Argument 4\": \"Premise\", \"Argument 5\": \"Premise\", \"Argument 6\": \"Claim\"}',\n",
       " '{\"Argument 1\": \"Claim\", \"Argument 2\": \"Claim\", \"Argument 3\": \"Claim\", \"Argument 4\": \"Premise\", \"Argument 5\": \"Claim\"}',\n",
       " '{\"Argument 1\": \"Claim\", \"Argument 2\": \"Claim\", \"Argument 3\": \"Premise\", \"Argument 4\": \"Premise\", \"Argument 5\": \"Claim\"}',\n",
       " '{\"Argument 1\": \"Premise\", \"Argument 2\": \"Premise\", \"Argument 3\": \"Premise\", \"Argument 4\": \"Claim\", \"Argument 5\": \"Premise\", \"Argument 6\": \"Premise\", \"Argument 7\": \"Claim\"}',\n",
       " '{\"Argument 1\": \"Premise\", \"Argument 2\": \"Premise\", \"Argument 3\": \"Premise\", \"Argument 4\": \"Premise\", \"Argument 5\": \"Premise\", \"Argument 6\": \"Claim\", \"Argument 7\": \"Claim\"}',\n",
       " '{\"Argument 1\": \"Premise\", \"Argument 2\": \"Premise\", \"Argument 3\": \"Premise\", \"Argument 4\": \"Premise\", \"Argument 5\": \"Claim\"}',\n",
       " '{\"Argument 1\": \"Premise\", \"Argument 2\": \"Premise\", \"Argument 3\": \"Premise\", \"Argument 4\": \"Premise\", \"Argument 5\": \"Claim\", \"Argument 6\": \"Claim\"}',\n",
       " '{\"Argument 1\": \"Claim\", \"Argument 2\": \"Premise\", \"Argument 3\": \"Claim\", \"Argument 4\": \"Claim\", \"Argument 5\": \"Premise\", \"Argument 6\": \"Claim\"}',\n",
       " '{\"Argument 1\": \"Claim\", \"Argument 2\": \"Claim\", \"Argument 3\": \"Claim\", \"Argument 4\": \"Premise\"}',\n",
       " '{\"Argument 1\": \"Premise\", \"Argument 2\": \"Claim\", \"Argument 3\": \"Premise\", \"Argument 4\": \"Premise\", \"Argument 5\": \"Claim\", \"Argument 6\": \"Claim\"}',\n",
       " '{\"Argument 1\": \"Premise\", \"Argument 2\": \"Premise\", \"Argument 3\": \"Premise\", \"Argument 4\": \"Premise\", \"Argument 5\": \"Claim\"}',\n",
       " '{\"Argument 1\": \"Premise\", \"Argument 2\": \"Premise\", \"Argument 3\": \"Premise\", \"Argument 4\": \"Claim\", \"Argument 5\": \"Premise\", \"Argument 6\": \"Premise\", \"Argument 7\": \"Claim\", \"Argument 8\": \"Claim\"}',\n",
       " '{\"Argument 1\": \"Claim\", \"Argument 2\": \"Premise\", \"Argument 3\": \"Premise\", \"Argument 4\": \"Premise\", \"Argument 5\": \"Claim\", \"Argument 6\": \"Claim\"}',\n",
       " '{\"Argument 1\": \"Premise\", \"Argument 2\": \"Premise\", \"Argument 3\": \"Premise\", \"Argument 4\": \"Premise\", \"Argument 5\": \"Claim\", \"Argument 6\": \"Premise\", \"Argument 7\": \"Premise\", \"Argument 8\": \"Claim\"}',\n",
       " '{\"Argument 1\": \"Premise\", \"Argument 2\": \"Premise\", \"Argument 3\": \"Premise\", \"Argument 4\": \"Premise\", \"Argument 5\": \"Claim\"}',\n",
       " '{\"Argument 1\": \"Premise\", \"Argument 2\": \"Premise\", \"Argument 3\": \"Claim\"}',\n",
       " '{\"Argument 1\": \"Premise\", \"Argument 2\": \"Premise\", \"Argument 3\": \"Premise\", \"Argument 4\": \"Premise\", \"Argument 5\": \"Claim\", \"Argument 6\": \"Claim\"}',\n",
       " '{\"Argument 1\": \"Claim\", \"Argument 2\": \"Claim\", \"Argument 3\": \"Premise\", \"Argument 4\": \"Claim\", \"Argument 5\": \"Premise\", \"Argument 6\": \"Claim\"}',\n",
       " '{\"Argument 1\": \"Premise\", \"Argument 2\": \"Premise\", \"Argument 3\": \"Premise\", \"Argument 4\": \"Premise\", \"Argument 5\": \"Claim\"}',\n",
       " '{\"Argument 1\": \"Claim\", \"Argument 2\": \"Claim\", \"Argument 3\": \"Premise\", \"Argument 4\": \"Premise\", \"Argument 5\": \"Claim\", \"Argument 6\": \"Premise\", \"Argument 7\": \"Claim\"}',\n",
       " '{\"Argument 1\": \"Premise\", \"Argument 2\": \"Premise\", \"Argument 3\": \"Premise\", \"Argument 4\": \"Claim\", \"Argument 5\": \"Claim\"}',\n",
       " '{\"Argument 1\": \"Claim\", \"Argument 2\": \"Claim\", \"Argument 3\": \"Premise\", \"Argument 4\": \"Claim\", \"Argument 5\": \"Claim\", \"Argument 6\": \"Premise\", \"Argument 7\": \"Claim\"}',\n",
       " '{\"Argument 1\": \"Premise\", \"Argument 2\": \"Premise\", \"Argument 3\": \"Premise\", \"Argument 4\": \"Claim\"}',\n",
       " '{\"Argument 1\": \"Claim\", \"Argument 2\": \"Premise\", \"Argument 3\": \"Claim\", \"Argument 4\": \"Premise\", \"Argument 5\": \"Claim\"}',\n",
       " '{\"Argument 1\": \"Claim\", \"Argument 2\": \"Premise\", \"Argument 3\": \"Premise\", \"Argument 4\": \"Claim\"}',\n",
       " '{\"Argument 1\": \"Premise\", \"Argument 2\": \"Premise\", \"Argument 3\": \"Premise\", \"Argument 4\": \"Premise\", \"Argument 5\": \"Claim\"}',\n",
       " '{\"Argument 1\": \"Premise\", \"Argument 2\": \"Premise\", \"Argument 3\": \"Claim\", \"Argument 4\": \"Claim\"}',\n",
       " '{\"Argument 1\": \"Premise\", \"Argument 2\": \"Claim\", \"Argument 3\": \"Claim\", \"Argument 4\": \"Premise\", \"Argument 5\": \"Premise\", \"Argument 6\": \"Claim\"}',\n",
       " '{\"Argument 1\": \"Claim\", \"Argument 2\": \"Premise\", \"Argument 3\": \"Premise\", \"Argument 4\": \"Premise\", \"Argument 5\": \"Premise\", \"Argument 6\": \"Claim\", \"Argument 7\": \"Claim\"}',\n",
       " '{\"Argument 1\": \"Premise\", \"Argument 2\": \"Claim\", \"Argument 3\": \"Claim\"}',\n",
       " '{\"Argument 1\": \"Premise\", \"Argument 2\": \"Claim\", \"Argument 3\": \"Claim\", \"Argument 4\": \"Claim\", \"Argument 5\": \"Premise\", \"Argument 6\": \"Claim\"}',\n",
       " '{\"Argument 1\": \"Premise\", \"Argument 2\": \"Premise\", \"Argument 3\": \"Premise\", \"Argument 4\": \"Premise\", \"Argument 5\": \"Claim\", \"Argument 6\": \"Claim\"}',\n",
       " '{\"Argument 1\": \"Premise\", \"Argument 2\": \"Premise\", \"Argument 3\": \"Premise\", \"Argument 4\": \"Claim\", \"Argument 5\": \"Claim\"}',\n",
       " '{\"Argument 1\": \"Claim\", \"Argument 2\": \"Claim\", \"Argument 3\": \"Claim\", \"Argument 4\": \"Claim\", \"Argument 5\": \"Premise\"}',\n",
       " '{\"Argument 1\": \"Premise\", \"Argument 2\": \"Premise\", \"Argument 3\": \"Premise\", \"Argument 4\": \"Premise\", \"Argument 5\": \"Premise\", \"Argument 6\": \"Premise\", \"Argument 7\": \"Premise\", \"Argument 8\": \"Claim\", \"Argument 9\": \"Claim\", \"Argument 10\": \"Claim\"}',\n",
       " '{\"Argument 1\": \"Claim\", \"Argument 2\": \"Premise\", \"Argument 3\": \"Premise\", \"Argument 4\": \"Claim\", \"Argument 5\": \"Claim\"}',\n",
       " '{\"Argument 1\": \"Premise\", \"Argument 2\": \"Premise\", \"Argument 3\": \"Premise\", \"Argument 4\": \"Premise\", \"Argument 5\": \"Premise\", \"Argument 6\": \"Claim\"}',\n",
       " '{\"Argument 1\": \"Premise\", \"Argument 2\": \"Premise\", \"Argument 3\": \"Premise\", \"Argument 4\": \"Claim\", \"Argument 5\": \"Claim\"}',\n",
       " '{\"Argument 1\": \"Premise\", \"Argument 2\": \"Premise\", \"Argument 3\": \"Claim\"}',\n",
       " '{\"Argument 1\": \"Premise\", \"Argument 2\": \"Premise\", \"Argument 3\": \"Claim\", \"Argument 4\": \"Premise\", \"Argument 5\": \"Premise\", \"Argument 6\": \"Claim\", \"Argument 7\": \"Claim\"}',\n",
       " '{\"Argument 1\": \"Premise\", \"Argument 2\": \"Premise\", \"Argument 3\": \"Premise\", \"Argument 4\": \"Premise\", \"Argument 5\": \"Claim\"}',\n",
       " '{\"Argument 1\": \"Claim\", \"Argument 2\": \"Claim\", \"Argument 3\": \"Premise\", \"Argument 4\": \"Premise\", \"Argument 5\": \"Premise\", \"Argument 6\": \"Claim\", \"Argument 7\": \"Claim\"}',\n",
       " '{\"Argument 1\": \"Premise\", \"Argument 2\": \"Claim\", \"Argument 3\": \"Claim\", \"Argument 4\": \"Claim\", \"Argument 5\": \"Claim\", \"Argument 6\": \"Premise\", \"Argument 7\": \"Claim\", \"Argument 8\": \"Claim\"}',\n",
       " '{\"Argument 1\": \"Premise\", \"Argument 2\": \"Premise\", \"Argument 3\": \"Premise\", \"Argument 4\": \"Premise\", \"Argument 5\": \"Claim\"}',\n",
       " '{\"Argument 1\": \"Premise\", \"Argument 2\": \"Premise\", \"Argument 3\": \"Claim\", \"Argument 4\": \"Premise\", \"Argument 5\": \"Claim\"}',\n",
       " '{\"Argument 1\": \"Claim\", \"Argument 2\": \"Claim\", \"Argument 3\": \"Claim\", \"Argument 4\": \"Premise\", \"Argument 5\": \"Premise\", \"Argument 6\": \"Premise\", \"Argument 7\": \"Claim\", \"Argument 8\": \"Premise\", \"Argument 9\": \"Claim\", \"Argument 10\": \"Claim\", \"Argument 11\": \"Claim\"}',\n",
       " '{\"Argument 1\": \"Premise\", \"Argument 2\": \"Claim\", \"Argument 3\": \"Claim\", \"Argument 4\": \"Claim\", \"Argument 5\": \"Claim\", \"Argument 6\": \"Claim\", \"Argument 7\": \"Claim\", \"Argument 8\": \"Claim\", \"Argument 9\": \"Claim\"}',\n",
       " '{\"Argument 1\": \"Premise\", \"Argument 2\": \"Premise\", \"Argument 3\": \"Premise\", \"Argument 4\": \"Claim\", \"Argument 5\": \"Claim\", \"Argument 6\": \"Claim\", \"Argument 7\": \"Claim\", \"Argument 8\": \"Claim\"}',\n",
       " '{\"Argument 1\": \"Claim\", \"Argument 2\": \"Premise\", \"Argument 3\": \"Claim\", \"Argument 4\": \"Claim\", \"Argument 5\": \"Premise\", \"Argument 6\": \"Claim\", \"Argument 7\": \"Claim\"}',\n",
       " '{\"Argument 1\": \"Claim\", \"Argument 2\": \"Claim\", \"Argument 3\": \"Claim\", \"Argument 4\": \"Claim\", \"Argument 5\": \"Claim\", \"Argument 6\": \"Claim\"}',\n",
       " '{\"Argument 1\": \"Claim\", \"Argument 2\": \"Premise\", \"Argument 3\": \"Premise\", \"Argument 4\": \"Claim\"}',\n",
       " '{\"Argument 1\": \"Claim\", \"Argument 2\": \"Claim\", \"Argument 3\": \"Premise\", \"Argument 4\": \"Premise\", \"Argument 5\": \"Premise\", \"Argument 6\": \"Claim\"}',\n",
       " '{\"Argument 1\": \"Premise\", \"Argument 2\": \"Premise\", \"Argument 3\": \"Premise\", \"Argument 4\": \"Premise\", \"Argument 5\": \"Premise\", \"Argument 6\": \"Premise\", \"Argument 7\": \"Claim\", \"Argument 8\": \"Claim\", \"Argument 9\": \"Claim\"}',\n",
       " '{\"Argument 1\": \"Claim\", \"Argument 2\": \"Premise\", \"Argument 3\": \"Claim\", \"Argument 4\": \"Premise\", \"Argument 5\": \"Premise\", \"Argument 6\": \"Claim\", \"Argument 7\": \"Claim\"}',\n",
       " '{\"Argument 1\": \"Claim\", \"Argument 2\": \"Premise\", \"Argument 3\": \"Premise\", \"Argument 4\": \"Premise\", \"Argument 5\": \"Premise\", \"Argument 6\": \"Claim\", \"Argument 7\": \"Claim\"}',\n",
       " '{\"Argument 1\": \"Claim\", \"Argument 2\": \"Premise\", \"Argument 3\": \"Premise\", \"Argument 4\": \"Premise\", \"Argument 5\": \"Claim\", \"Argument 6\": \"Claim\"}',\n",
       " '{\"Argument 1\": \"Premise\", \"Argument 2\": \"Claim\", \"Argument 3\": \"Claim\", \"Argument 4\": \"Claim\"}',\n",
       " '{\"Argument 1\": \"Claim\", \"Argument 2\": \"Premise\", \"Argument 3\": \"Premise\", \"Argument 4\": \"Premise\", \"Argument 5\": \"Premise\", \"Argument 6\": \"Premise\", \"Argument 7\": \"Premise\", \"Argument 8\": \"Premise\", \"Argument 9\": \"Claim\", \"Argument 10\": \"Premise\", \"Argument 11\": \"Premise\", \"Argument 12\": \"Claim\"}',\n",
       " '{\"Argument 1\": \"Premise\", \"Argument 2\": \"Premise\", \"Argument 3\": \"Claim\"}',\n",
       " '{\"Argument 1\": \"Premise\", \"Argument 2\": \"Premise\", \"Argument 3\": \"Premise\", \"Argument 4\": \"Claim\", \"Argument 5\": \"Claim\"}',\n",
       " '{\"Argument 1\": \"Premise\", \"Argument 2\": \"Claim\", \"Argument 3\": \"Premise\", \"Argument 4\": \"Premise\", \"Argument 5\": \"Claim\", \"Argument 6\": \"Premise\"}',\n",
       " '{\"Argument 1\": \"Premise\", \"Argument 2\": \"Claim\", \"Argument 3\": \"Claim\", \"Argument 4\": \"Claim\", \"Argument 5\": \"Premise\", \"Argument 6\": \"Claim\", \"Argument 7\": \"Claim\"}',\n",
       " '{\"Argument 1\": \"Premise\", \"Argument 2\": \"Premise\", \"Argument 3\": \"Premise\", \"Argument 4\": \"Premise\", \"Argument 5\": \"Claim\", \"Argument 6\": \"Premise\", \"Argument 7\": \"Premise\", \"Argument 8\": \"Claim\"}']"
      ]
     },
     "execution_count": 290,
     "metadata": {},
     "output_type": "execute_result"
    }
   ],
   "source": [
    "outputs_l"
   ]
  },
  {
   "cell_type": "code",
   "execution_count": 291,
   "id": "d29a8016-c734-4531-91db-f5dfaec7f120",
   "metadata": {},
   "outputs": [
    {
     "data": {
      "text/plain": [
       "100"
      ]
     },
     "execution_count": 291,
     "metadata": {},
     "output_type": "execute_result"
    }
   ],
   "source": [
    "len(outputs_l)"
   ]
  },
  {
   "cell_type": "code",
   "execution_count": 292,
   "id": "fd51f0c3-4067-4c10-8fde-111f8d2b95d0",
   "metadata": {},
   "outputs": [],
   "source": [
    "preds_l = [list(ast.literal_eval(output).values()) for output in outputs_l]"
   ]
  },
  {
   "cell_type": "code",
   "execution_count": 293,
   "id": "b8fb4f97-ae13-4448-9e2a-c5d7bbdc5f01",
   "metadata": {
    "scrolled": true
   },
   "outputs": [
    {
     "data": {
      "text/plain": [
       "[['Premise', 'Premise', 'Premise', 'Claim'],\n",
       " ['Claim',\n",
       "  'Claim',\n",
       "  'Claim',\n",
       "  'Claim',\n",
       "  'Premise',\n",
       "  'Premise',\n",
       "  'Premise',\n",
       "  'Claim',\n",
       "  'Premise'],\n",
       " ['Premise', 'Premise', 'Premise', 'Premise', 'Premise', 'Premise', 'Claim'],\n",
       " ['Claim', 'Premise', 'Premise', 'Claim', 'Claim'],\n",
       " ['Premise', 'Premise', 'Claim', 'Claim', 'Premise', 'Claim', 'Claim'],\n",
       " ['Premise', 'Claim', 'Premise', 'Claim', 'Premise'],\n",
       " ['Premise',\n",
       "  'Premise',\n",
       "  'Premise',\n",
       "  'Premise',\n",
       "  'Premise',\n",
       "  'Premise',\n",
       "  'Claim',\n",
       "  'Premise',\n",
       "  'Claim'],\n",
       " ['Premise', 'Premise', 'Premise', 'Premise', 'Premise', 'Claim', 'Claim'],\n",
       " ['Premise',\n",
       "  'Premise',\n",
       "  'Claim',\n",
       "  'Claim',\n",
       "  'Premise',\n",
       "  'Claim',\n",
       "  'Claim',\n",
       "  'Claim',\n",
       "  'Premise',\n",
       "  'Claim'],\n",
       " ['Claim', 'Premise', 'Premise', 'Claim'],\n",
       " ['Premise', 'Premise', 'Premise', 'Premise', 'Claim', 'Claim'],\n",
       " ['Premise', 'Premise', 'Premise', 'Premise', 'Claim', 'Claim', 'Claim'],\n",
       " ['Premise', 'Claim', 'Claim', 'Premise', 'Claim'],\n",
       " ['Premise', 'Premise', 'Premise', 'Claim'],\n",
       " ['Premise', 'Premise', 'Premise', 'Premise', 'Claim', 'Claim'],\n",
       " ['Premise', 'Premise', 'Premise', 'Premise', 'Claim', 'Claim'],\n",
       " ['Premise', 'Premise', 'Claim', 'Claim'],\n",
       " ['Claim', 'Claim'],\n",
       " ['Claim', 'Claim', 'Premise', 'Premise', 'Claim'],\n",
       " ['Premise', 'Premise', 'Premise', 'Premise', 'Premise', 'Claim', 'Claim'],\n",
       " ['Premise',\n",
       "  'Premise',\n",
       "  'Claim',\n",
       "  'Premise',\n",
       "  'Premise',\n",
       "  'Claim',\n",
       "  'Claim',\n",
       "  'Premise'],\n",
       " ['Premise', 'Premise', 'Premise', 'Premise', 'Premise', 'Claim'],\n",
       " ['Claim',\n",
       "  'Premise',\n",
       "  'Premise',\n",
       "  'Premise',\n",
       "  'Premise',\n",
       "  'Premise',\n",
       "  'Premise',\n",
       "  'Premise',\n",
       "  'Premise',\n",
       "  'Premise',\n",
       "  'Claim',\n",
       "  'Claim'],\n",
       " ['Premise', 'Premise', 'Premise', 'Premise', 'Premise', 'Claim', 'Claim'],\n",
       " ['Premise', 'Premise', 'Premise', 'Premise', 'Claim'],\n",
       " ['Premise', 'Premise', 'Premise', 'Claim'],\n",
       " ['Premise',\n",
       "  'Claim',\n",
       "  'Premise',\n",
       "  'Premise',\n",
       "  'Claim',\n",
       "  'Claim',\n",
       "  'Claim',\n",
       "  'Claim'],\n",
       " ['Premise', 'Premise', 'Premise', 'Premise', 'Claim', 'Claim', 'Claim'],\n",
       " ['Claim', 'Premise', 'Premise', 'Claim'],\n",
       " ['Premise', 'Premise', 'Claim', 'Claim', 'Claim', 'Claim', 'Claim', 'Claim'],\n",
       " ['Premise', 'Premise', 'Claim', 'Claim', 'Claim'],\n",
       " ['Premise', 'Premise', 'Premise', 'Claim', 'Claim', 'Claim'],\n",
       " ['Claim', 'Premise', 'Premise', 'Claim', 'Premise'],\n",
       " ['Claim', 'Claim', 'Premise', 'Premise', 'Claim', 'Claim'],\n",
       " ['Premise',\n",
       "  'Claim',\n",
       "  'Claim',\n",
       "  'Claim',\n",
       "  'Claim',\n",
       "  'Premise',\n",
       "  'Premise',\n",
       "  'Claim',\n",
       "  'Claim'],\n",
       " ['Premise', 'Claim', 'Premise', 'Premise', 'Claim', 'Premise', 'Claim'],\n",
       " ['Claim', 'Premise', 'Claim', 'Premise'],\n",
       " ['Premise', 'Premise', 'Premise', 'Premise', 'Premise', 'Claim'],\n",
       " ['Claim', 'Claim', 'Claim', 'Premise', 'Claim'],\n",
       " ['Claim', 'Claim', 'Premise', 'Premise', 'Claim'],\n",
       " ['Premise', 'Premise', 'Premise', 'Claim', 'Premise', 'Premise', 'Claim'],\n",
       " ['Premise', 'Premise', 'Premise', 'Premise', 'Premise', 'Claim', 'Claim'],\n",
       " ['Premise', 'Premise', 'Premise', 'Premise', 'Claim'],\n",
       " ['Premise', 'Premise', 'Premise', 'Premise', 'Claim', 'Claim'],\n",
       " ['Claim', 'Premise', 'Claim', 'Claim', 'Premise', 'Claim'],\n",
       " ['Claim', 'Claim', 'Claim', 'Premise'],\n",
       " ['Premise', 'Claim', 'Premise', 'Premise', 'Claim', 'Claim'],\n",
       " ['Premise', 'Premise', 'Premise', 'Premise', 'Claim'],\n",
       " ['Premise',\n",
       "  'Premise',\n",
       "  'Premise',\n",
       "  'Claim',\n",
       "  'Premise',\n",
       "  'Premise',\n",
       "  'Claim',\n",
       "  'Claim'],\n",
       " ['Claim', 'Premise', 'Premise', 'Premise', 'Claim', 'Claim'],\n",
       " ['Premise',\n",
       "  'Premise',\n",
       "  'Premise',\n",
       "  'Premise',\n",
       "  'Claim',\n",
       "  'Premise',\n",
       "  'Premise',\n",
       "  'Claim'],\n",
       " ['Premise', 'Premise', 'Premise', 'Premise', 'Claim'],\n",
       " ['Premise', 'Premise', 'Claim'],\n",
       " ['Premise', 'Premise', 'Premise', 'Premise', 'Claim', 'Claim'],\n",
       " ['Claim', 'Claim', 'Premise', 'Claim', 'Premise', 'Claim'],\n",
       " ['Premise', 'Premise', 'Premise', 'Premise', 'Claim'],\n",
       " ['Claim', 'Claim', 'Premise', 'Premise', 'Claim', 'Premise', 'Claim'],\n",
       " ['Premise', 'Premise', 'Premise', 'Claim', 'Claim'],\n",
       " ['Claim', 'Claim', 'Premise', 'Claim', 'Claim', 'Premise', 'Claim'],\n",
       " ['Premise', 'Premise', 'Premise', 'Claim'],\n",
       " ['Claim', 'Premise', 'Claim', 'Premise', 'Claim'],\n",
       " ['Claim', 'Premise', 'Premise', 'Claim'],\n",
       " ['Premise', 'Premise', 'Premise', 'Premise', 'Claim'],\n",
       " ['Premise', 'Premise', 'Claim', 'Claim'],\n",
       " ['Premise', 'Claim', 'Claim', 'Premise', 'Premise', 'Claim'],\n",
       " ['Claim', 'Premise', 'Premise', 'Premise', 'Premise', 'Claim', 'Claim'],\n",
       " ['Premise', 'Claim', 'Claim'],\n",
       " ['Premise', 'Claim', 'Claim', 'Claim', 'Premise', 'Claim'],\n",
       " ['Premise', 'Premise', 'Premise', 'Premise', 'Claim', 'Claim'],\n",
       " ['Premise', 'Premise', 'Premise', 'Claim', 'Claim'],\n",
       " ['Claim', 'Claim', 'Claim', 'Claim', 'Premise'],\n",
       " ['Premise',\n",
       "  'Premise',\n",
       "  'Premise',\n",
       "  'Premise',\n",
       "  'Premise',\n",
       "  'Premise',\n",
       "  'Premise',\n",
       "  'Claim',\n",
       "  'Claim',\n",
       "  'Claim'],\n",
       " ['Claim', 'Premise', 'Premise', 'Claim', 'Claim'],\n",
       " ['Premise', 'Premise', 'Premise', 'Premise', 'Premise', 'Claim'],\n",
       " ['Premise', 'Premise', 'Premise', 'Claim', 'Claim'],\n",
       " ['Premise', 'Premise', 'Claim'],\n",
       " ['Premise', 'Premise', 'Claim', 'Premise', 'Premise', 'Claim', 'Claim'],\n",
       " ['Premise', 'Premise', 'Premise', 'Premise', 'Claim'],\n",
       " ['Claim', 'Claim', 'Premise', 'Premise', 'Premise', 'Claim', 'Claim'],\n",
       " ['Premise', 'Claim', 'Claim', 'Claim', 'Claim', 'Premise', 'Claim', 'Claim'],\n",
       " ['Premise', 'Premise', 'Premise', 'Premise', 'Claim'],\n",
       " ['Premise', 'Premise', 'Claim', 'Premise', 'Claim'],\n",
       " ['Claim',\n",
       "  'Claim',\n",
       "  'Claim',\n",
       "  'Premise',\n",
       "  'Premise',\n",
       "  'Premise',\n",
       "  'Claim',\n",
       "  'Premise',\n",
       "  'Claim',\n",
       "  'Claim',\n",
       "  'Claim'],\n",
       " ['Premise',\n",
       "  'Claim',\n",
       "  'Claim',\n",
       "  'Claim',\n",
       "  'Claim',\n",
       "  'Claim',\n",
       "  'Claim',\n",
       "  'Claim',\n",
       "  'Claim'],\n",
       " ['Premise',\n",
       "  'Premise',\n",
       "  'Premise',\n",
       "  'Claim',\n",
       "  'Claim',\n",
       "  'Claim',\n",
       "  'Claim',\n",
       "  'Claim'],\n",
       " ['Claim', 'Premise', 'Claim', 'Claim', 'Premise', 'Claim', 'Claim'],\n",
       " ['Claim', 'Claim', 'Claim', 'Claim', 'Claim', 'Claim'],\n",
       " ['Claim', 'Premise', 'Premise', 'Claim'],\n",
       " ['Claim', 'Claim', 'Premise', 'Premise', 'Premise', 'Claim'],\n",
       " ['Premise',\n",
       "  'Premise',\n",
       "  'Premise',\n",
       "  'Premise',\n",
       "  'Premise',\n",
       "  'Premise',\n",
       "  'Claim',\n",
       "  'Claim',\n",
       "  'Claim'],\n",
       " ['Claim', 'Premise', 'Claim', 'Premise', 'Premise', 'Claim', 'Claim'],\n",
       " ['Claim', 'Premise', 'Premise', 'Premise', 'Premise', 'Claim', 'Claim'],\n",
       " ['Claim', 'Premise', 'Premise', 'Premise', 'Claim', 'Claim'],\n",
       " ['Premise', 'Claim', 'Claim', 'Claim'],\n",
       " ['Claim',\n",
       "  'Premise',\n",
       "  'Premise',\n",
       "  'Premise',\n",
       "  'Premise',\n",
       "  'Premise',\n",
       "  'Premise',\n",
       "  'Premise',\n",
       "  'Claim',\n",
       "  'Premise',\n",
       "  'Premise',\n",
       "  'Claim'],\n",
       " ['Premise', 'Premise', 'Claim'],\n",
       " ['Premise', 'Premise', 'Premise', 'Claim', 'Claim'],\n",
       " ['Premise', 'Claim', 'Premise', 'Premise', 'Claim', 'Premise'],\n",
       " ['Premise', 'Claim', 'Claim', 'Claim', 'Premise', 'Claim', 'Claim'],\n",
       " ['Premise',\n",
       "  'Premise',\n",
       "  'Premise',\n",
       "  'Premise',\n",
       "  'Claim',\n",
       "  'Premise',\n",
       "  'Premise',\n",
       "  'Claim']]"
      ]
     },
     "execution_count": 293,
     "metadata": {},
     "output_type": "execute_result"
    }
   ],
   "source": [
    "preds_l"
   ]
  },
  {
   "cell_type": "code",
   "execution_count": 294,
   "id": "d47ed2e4-a396-4a78-910c-ee7280032cfc",
   "metadata": {},
   "outputs": [
    {
     "data": {
      "text/plain": [
       "100"
      ]
     },
     "execution_count": 294,
     "metadata": {},
     "output_type": "execute_result"
    }
   ],
   "source": [
    "len(preds_l)"
   ]
  },
  {
   "cell_type": "code",
   "execution_count": 295,
   "id": "88a7a3fa-3d00-46c0-a584-2256fa41e9bf",
   "metadata": {},
   "outputs": [],
   "source": [
    "grouped_df = mix_test_df[mix_test_df.aty != 'none'].groupby('doc_id', sort=False)['aty'].apply(list).reset_index()"
   ]
  },
  {
   "cell_type": "code",
   "execution_count": 296,
   "id": "344bdc0e-6ce9-4ae4-963c-829ae14cb072",
   "metadata": {},
   "outputs": [
    {
     "data": {
      "text/html": [
       "<div>\n",
       "<style scoped>\n",
       "    .dataframe tbody tr th:only-of-type {\n",
       "        vertical-align: middle;\n",
       "    }\n",
       "\n",
       "    .dataframe tbody tr th {\n",
       "        vertical-align: top;\n",
       "    }\n",
       "\n",
       "    .dataframe thead th {\n",
       "        text-align: right;\n",
       "    }\n",
       "</style>\n",
       "<table border=\"1\" class=\"dataframe\">\n",
       "  <thead>\n",
       "    <tr style=\"text-align: right;\">\n",
       "      <th></th>\n",
       "      <th>doc_id</th>\n",
       "      <th>aty</th>\n",
       "    </tr>\n",
       "  </thead>\n",
       "  <tbody>\n",
       "    <tr>\n",
       "      <th>0</th>\n",
       "      <td>28874133</td>\n",
       "      <td>[Premise, Premise, Premise, Claim]</td>\n",
       "    </tr>\n",
       "    <tr>\n",
       "      <th>1</th>\n",
       "      <td>11346336</td>\n",
       "      <td>[Premise, Premise, Premise, Premise, Premise, ...</td>\n",
       "    </tr>\n",
       "    <tr>\n",
       "      <th>2</th>\n",
       "      <td>28370419</td>\n",
       "      <td>[Premise, Premise, Premise, Premise, Premise, ...</td>\n",
       "    </tr>\n",
       "    <tr>\n",
       "      <th>3</th>\n",
       "      <td>29596950</td>\n",
       "      <td>[Premise, Premise, Premise, Premise, Claim]</td>\n",
       "    </tr>\n",
       "    <tr>\n",
       "      <th>4</th>\n",
       "      <td>29633159</td>\n",
       "      <td>[Claim, Claim, Premise, Premise, Premise, Clai...</td>\n",
       "    </tr>\n",
       "    <tr>\n",
       "      <th>...</th>\n",
       "      <td>...</td>\n",
       "      <td>...</td>\n",
       "    </tr>\n",
       "    <tr>\n",
       "      <th>95</th>\n",
       "      <td>29625440</td>\n",
       "      <td>[Premise, Premise, Claim]</td>\n",
       "    </tr>\n",
       "    <tr>\n",
       "      <th>96</th>\n",
       "      <td>23285843</td>\n",
       "      <td>[Premise, Premise, Premise, Claim, Claim]</td>\n",
       "    </tr>\n",
       "    <tr>\n",
       "      <th>97</th>\n",
       "      <td>22814041</td>\n",
       "      <td>[Premise, Premise, Premise, Premise, Claim, Cl...</td>\n",
       "    </tr>\n",
       "    <tr>\n",
       "      <th>98</th>\n",
       "      <td>29329305</td>\n",
       "      <td>[Claim, Premise, Premise, Premise, Premise, Cl...</td>\n",
       "    </tr>\n",
       "    <tr>\n",
       "      <th>99</th>\n",
       "      <td>28371482</td>\n",
       "      <td>[Premise, Premise, Premise, Premise, Claim, Cl...</td>\n",
       "    </tr>\n",
       "  </tbody>\n",
       "</table>\n",
       "<p>100 rows × 2 columns</p>\n",
       "</div>"
      ],
      "text/plain": [
       "      doc_id                                                aty\n",
       "0   28874133                 [Premise, Premise, Premise, Claim]\n",
       "1   11346336  [Premise, Premise, Premise, Premise, Premise, ...\n",
       "2   28370419  [Premise, Premise, Premise, Premise, Premise, ...\n",
       "3   29596950        [Premise, Premise, Premise, Premise, Claim]\n",
       "4   29633159  [Claim, Claim, Premise, Premise, Premise, Clai...\n",
       "..       ...                                                ...\n",
       "95  29625440                          [Premise, Premise, Claim]\n",
       "96  23285843          [Premise, Premise, Premise, Claim, Claim]\n",
       "97  22814041  [Premise, Premise, Premise, Premise, Claim, Cl...\n",
       "98  29329305  [Claim, Premise, Premise, Premise, Premise, Cl...\n",
       "99  28371482  [Premise, Premise, Premise, Premise, Claim, Cl...\n",
       "\n",
       "[100 rows x 2 columns]"
      ]
     },
     "execution_count": 296,
     "metadata": {},
     "output_type": "execute_result"
    }
   ],
   "source": [
    "grouped_df"
   ]
  },
  {
   "cell_type": "code",
   "execution_count": 297,
   "id": "c3470e01-e402-4bf0-9009-5919e88bb48d",
   "metadata": {},
   "outputs": [],
   "source": [
    "grounds_l = grouped_df.aty.tolist()"
   ]
  },
  {
   "cell_type": "code",
   "execution_count": 298,
   "id": "5bcbf083-a167-468f-b839-f5a34e41cd27",
   "metadata": {
    "scrolled": true
   },
   "outputs": [
    {
     "data": {
      "text/plain": [
       "[['Premise', 'Premise', 'Premise', 'Claim'],\n",
       " ['Premise',\n",
       "  'Premise',\n",
       "  'Premise',\n",
       "  'Premise',\n",
       "  'Premise',\n",
       "  'Premise',\n",
       "  'Premise',\n",
       "  'Claim',\n",
       "  'Claim'],\n",
       " ['Premise', 'Premise', 'Premise', 'Premise', 'Premise', 'Premise', 'Claim'],\n",
       " ['Premise', 'Premise', 'Premise', 'Premise', 'Claim'],\n",
       " ['Claim', 'Claim', 'Premise', 'Premise', 'Premise', 'Claim', 'Claim'],\n",
       " ['Claim', 'Premise', 'Premise', 'Claim', 'Claim'],\n",
       " ['Premise',\n",
       "  'Premise',\n",
       "  'Premise',\n",
       "  'Premise',\n",
       "  'Premise',\n",
       "  'Premise',\n",
       "  'Claim',\n",
       "  'Claim',\n",
       "  'Claim'],\n",
       " ['Premise', 'Premise', 'Premise', 'Premise', 'Premise', 'Claim', 'Claim'],\n",
       " ['Claim',\n",
       "  'Premise',\n",
       "  'Premise',\n",
       "  'Premise',\n",
       "  'Premise',\n",
       "  'Premise',\n",
       "  'Claim',\n",
       "  'Claim',\n",
       "  'Premise',\n",
       "  'Claim'],\n",
       " ['Premise', 'Premise', 'Premise', 'Claim'],\n",
       " ['Premise', 'Premise', 'Premise', 'Premise', 'Claim', 'Claim'],\n",
       " ['Premise', 'Premise', 'Premise', 'Premise', 'Claim', 'Claim', 'Claim'],\n",
       " ['Claim', 'Premise', 'Premise', 'Premise', 'Claim'],\n",
       " ['Premise', 'Premise', 'Premise', 'Claim'],\n",
       " ['Premise', 'Premise', 'Premise', 'Premise', 'Claim', 'Claim'],\n",
       " ['Premise', 'Premise', 'Premise', 'Premise', 'Claim', 'Claim'],\n",
       " ['Premise', 'Premise', 'Claim', 'Claim'],\n",
       " ['Premise', 'Claim'],\n",
       " ['Claim', 'Premise', 'Premise', 'Premise', 'Claim'],\n",
       " ['Premise', 'Premise', 'Premise', 'Premise', 'Premise', 'Claim', 'Claim'],\n",
       " ['Premise',\n",
       "  'Premise',\n",
       "  'Premise',\n",
       "  'Premise',\n",
       "  'Premise',\n",
       "  'Claim',\n",
       "  'Claim',\n",
       "  'Premise'],\n",
       " ['Premise', 'Premise', 'Claim', 'Premise', 'Premise', 'Claim'],\n",
       " ['Premise',\n",
       "  'Premise',\n",
       "  'Premise',\n",
       "  'Premise',\n",
       "  'Premise',\n",
       "  'Premise',\n",
       "  'Premise',\n",
       "  'Premise',\n",
       "  'Premise',\n",
       "  'Premise',\n",
       "  'Claim',\n",
       "  'Claim'],\n",
       " ['Premise', 'Premise', 'Premise', 'Premise', 'Premise', 'Claim', 'Claim'],\n",
       " ['Claim', 'Premise', 'Premise', 'Premise', 'Claim'],\n",
       " ['Premise', 'Premise', 'Premise', 'Claim'],\n",
       " ['Claim',\n",
       "  'Premise',\n",
       "  'Premise',\n",
       "  'Premise',\n",
       "  'Claim',\n",
       "  'Claim',\n",
       "  'Claim',\n",
       "  'Claim'],\n",
       " ['Premise', 'Premise', 'Premise', 'Premise', 'Claim', 'Claim', 'Claim'],\n",
       " ['Claim', 'Premise', 'Premise', 'Claim'],\n",
       " ['Claim',\n",
       "  'Claim',\n",
       "  'Premise',\n",
       "  'Premise',\n",
       "  'Premise',\n",
       "  'Premise',\n",
       "  'Claim',\n",
       "  'Claim'],\n",
       " ['Claim', 'Claim', 'Premise', 'Premise', 'Claim'],\n",
       " ['Claim', 'Claim', 'Premise', 'Premise', 'Premise', 'Premise'],\n",
       " ['Premise', 'Premise', 'Premise', 'Claim', 'Premise'],\n",
       " ['Premise', 'Claim', 'Premise', 'Premise', 'Claim', 'Claim'],\n",
       " ['Claim',\n",
       "  'Premise',\n",
       "  'Premise',\n",
       "  'Premise',\n",
       "  'Premise',\n",
       "  'Premise',\n",
       "  'Premise',\n",
       "  'Claim',\n",
       "  'Claim'],\n",
       " ['Claim', 'Premise', 'Premise', 'Premise', 'Claim', 'Claim', 'Claim'],\n",
       " ['Premise', 'Premise', 'Claim', 'Claim'],\n",
       " ['Premise', 'Premise', 'Premise', 'Premise', 'Premise', 'Claim'],\n",
       " ['Premise', 'Premise', 'Premise', 'Premise', 'Claim'],\n",
       " ['Premise', 'Premise', 'Premise', 'Premise', 'Claim'],\n",
       " ['Premise', 'Premise', 'Premise', 'Premise', 'Premise', 'Premise', 'Claim'],\n",
       " ['Premise', 'Premise', 'Premise', 'Premise', 'Premise', 'Claim', 'Claim'],\n",
       " ['Premise', 'Premise', 'Premise', 'Premise', 'Claim'],\n",
       " ['Premise', 'Premise', 'Premise', 'Premise', 'Claim', 'Claim'],\n",
       " ['Premise', 'Premise', 'Premise', 'Premise', 'Premise', 'Claim'],\n",
       " ['Premise', 'Premise', 'Claim', 'Claim'],\n",
       " ['Premise', 'Premise', 'Premise', 'Premise', 'Claim', 'Claim'],\n",
       " ['Premise', 'Premise', 'Premise', 'Premise', 'Claim'],\n",
       " ['Premise',\n",
       "  'Premise',\n",
       "  'Premise',\n",
       "  'Claim',\n",
       "  'Premise',\n",
       "  'Premise',\n",
       "  'Claim',\n",
       "  'Claim'],\n",
       " ['Premise', 'Premise', 'Premise', 'Premise', 'Claim', 'Claim'],\n",
       " ['Premise',\n",
       "  'Premise',\n",
       "  'Premise',\n",
       "  'Premise',\n",
       "  'Claim',\n",
       "  'Claim',\n",
       "  'Claim',\n",
       "  'Claim'],\n",
       " ['Premise', 'Premise', 'Premise', 'Premise', 'Claim'],\n",
       " ['Premise', 'Premise', 'Claim'],\n",
       " ['Premise', 'Premise', 'Premise', 'Premise', 'Claim', 'Claim'],\n",
       " ['Premise', 'Premise', 'Premise', 'Premise', 'Premise', 'Claim'],\n",
       " ['Premise', 'Premise', 'Premise', 'Premise', 'Claim'],\n",
       " ['Premise', 'Premise', 'Premise', 'Premise', 'Claim', 'Claim', 'Claim'],\n",
       " ['Premise', 'Premise', 'Premise', 'Claim', 'Claim'],\n",
       " ['Premise', 'Premise', 'Premise', 'Premise', 'Premise', 'Claim', 'Claim'],\n",
       " ['Claim', 'Premise', 'Premise', 'Claim'],\n",
       " ['Premise', 'Premise', 'Premise', 'Premise', 'Claim'],\n",
       " ['Premise', 'Premise', 'Claim', 'Claim'],\n",
       " ['Premise', 'Premise', 'Premise', 'Premise', 'Claim'],\n",
       " ['Premise', 'Premise', 'Claim', 'Claim'],\n",
       " ['Claim', 'Premise', 'Premise', 'Premise', 'Claim', 'Claim'],\n",
       " ['Claim', 'Premise', 'Premise', 'Premise', 'Premise', 'Claim', 'Claim'],\n",
       " ['Claim', 'Premise', 'Claim'],\n",
       " ['Claim', 'Premise', 'Premise', 'Premise', 'Claim', 'Claim'],\n",
       " ['Premise', 'Premise', 'Premise', 'Premise', 'Claim', 'Claim'],\n",
       " ['Premise', 'Premise', 'Premise', 'Claim', 'Claim'],\n",
       " ['Premise', 'Premise', 'Premise', 'Claim', 'Claim'],\n",
       " ['Premise',\n",
       "  'Premise',\n",
       "  'Premise',\n",
       "  'Premise',\n",
       "  'Premise',\n",
       "  'Premise',\n",
       "  'Premise',\n",
       "  'Claim',\n",
       "  'Claim',\n",
       "  'Claim'],\n",
       " ['Claim', 'Premise', 'Premise', 'Premise', 'Claim'],\n",
       " ['Premise', 'Premise', 'Premise', 'Premise', 'Premise', 'Claim'],\n",
       " ['Premise', 'Premise', 'Premise', 'Claim', 'Claim'],\n",
       " ['Premise', 'Premise', 'Claim'],\n",
       " ['Premise', 'Premise', 'Premise', 'Premise', 'Claim', 'Claim', 'Claim'],\n",
       " ['Premise', 'Premise', 'Premise', 'Premise', 'Claim'],\n",
       " ['Premise', 'Premise', 'Premise', 'Premise', 'Premise', 'Claim', 'Claim'],\n",
       " ['Claim',\n",
       "  'Premise',\n",
       "  'Premise',\n",
       "  'Premise',\n",
       "  'Premise',\n",
       "  'Premise',\n",
       "  'Claim',\n",
       "  'Claim'],\n",
       " ['Claim', 'Premise', 'Premise', 'Claim', 'Claim'],\n",
       " ['Premise', 'Premise', 'Premise', 'Premise', 'Claim'],\n",
       " ['Premise',\n",
       "  'Premise',\n",
       "  'Premise',\n",
       "  'Premise',\n",
       "  'Premise',\n",
       "  'Premise',\n",
       "  'Claim',\n",
       "  'Premise',\n",
       "  'Claim',\n",
       "  'Claim',\n",
       "  'Claim'],\n",
       " ['Claim',\n",
       "  'Premise',\n",
       "  'Premise',\n",
       "  'Premise',\n",
       "  'Premise',\n",
       "  'Premise',\n",
       "  'Claim',\n",
       "  'Claim',\n",
       "  'Claim'],\n",
       " ['Claim',\n",
       "  'Claim',\n",
       "  'Claim',\n",
       "  'Premise',\n",
       "  'Premise',\n",
       "  'Premise',\n",
       "  'Claim',\n",
       "  'Claim'],\n",
       " ['Premise', 'Premise', 'Premise', 'Premise', 'Premise', 'Claim', 'Claim'],\n",
       " ['Premise', 'Premise', 'Premise', 'Premise', 'Premise', 'Claim'],\n",
       " ['Premise', 'Premise', 'Premise', 'Claim'],\n",
       " ['Premise', 'Premise', 'Premise', 'Premise', 'Premise', 'Claim'],\n",
       " ['Premise',\n",
       "  'Premise',\n",
       "  'Premise',\n",
       "  'Premise',\n",
       "  'Premise',\n",
       "  'Premise',\n",
       "  'Claim',\n",
       "  'Premise',\n",
       "  'Claim'],\n",
       " ['Premise', 'Premise', 'Premise', 'Claim', 'Claim', 'Claim', 'Claim'],\n",
       " ['Claim', 'Premise', 'Premise', 'Premise', 'Premise', 'Claim', 'Claim'],\n",
       " ['Premise', 'Premise', 'Premise', 'Premise', 'Claim', 'Claim'],\n",
       " ['Premise', 'Premise', 'Premise', 'Premise'],\n",
       " ['Claim',\n",
       "  'Premise',\n",
       "  'Premise',\n",
       "  'Premise',\n",
       "  'Premise',\n",
       "  'Premise',\n",
       "  'Premise',\n",
       "  'Premise',\n",
       "  'Claim',\n",
       "  'Premise',\n",
       "  'Premise',\n",
       "  'Claim'],\n",
       " ['Premise', 'Premise', 'Claim'],\n",
       " ['Premise', 'Premise', 'Premise', 'Claim', 'Claim'],\n",
       " ['Premise', 'Premise', 'Premise', 'Premise', 'Claim', 'Claim'],\n",
       " ['Claim', 'Premise', 'Premise', 'Premise', 'Premise', 'Claim', 'Claim'],\n",
       " ['Premise',\n",
       "  'Premise',\n",
       "  'Premise',\n",
       "  'Premise',\n",
       "  'Claim',\n",
       "  'Claim',\n",
       "  'Claim',\n",
       "  'Claim']]"
      ]
     },
     "execution_count": 298,
     "metadata": {},
     "output_type": "execute_result"
    }
   ],
   "source": [
    "grounds_l"
   ]
  },
  {
   "cell_type": "code",
   "execution_count": 299,
   "id": "d914eda2-15ac-4be9-9012-d47342851aa7",
   "metadata": {},
   "outputs": [
    {
     "data": {
      "text/plain": [
       "100"
      ]
     },
     "execution_count": 299,
     "metadata": {},
     "output_type": "execute_result"
    }
   ],
   "source": [
    "len(grounds_l)"
   ]
  },
  {
   "cell_type": "code",
   "execution_count": 300,
   "id": "c78f7c4a-b6ad-4f4d-befb-e31acd74aad2",
   "metadata": {},
   "outputs": [],
   "source": [
    "preds_l = [item for sublist in preds_l for item in sublist]\n",
    "grounds_l = [item for sublist in grounds_l for item in sublist]"
   ]
  },
  {
   "cell_type": "code",
   "execution_count": 301,
   "id": "773d50ad-e38a-4a8b-9d90-7f9c9806a55f",
   "metadata": {},
   "outputs": [
    {
     "data": {
      "text/plain": [
       "(609, 609)"
      ]
     },
     "execution_count": 301,
     "metadata": {},
     "output_type": "execute_result"
    }
   ],
   "source": [
    "len(preds_l), len(grounds_l)"
   ]
  },
  {
   "cell_type": "code",
   "execution_count": 302,
   "id": "51e97e12-0813-4f01-a9b8-ea46790fe3e8",
   "metadata": {},
   "outputs": [
    {
     "name": "stdout",
     "output_type": "stream",
     "text": [
      "              precision    recall  f1-score   support\n",
      "\n",
      "       Claim     0.5921    0.7736    0.6708       212\n",
      "     Premise     0.8554    0.7154    0.7791       397\n",
      "\n",
      "    accuracy                         0.7356       609\n",
      "   macro avg     0.7237    0.7445    0.7250       609\n",
      "weighted avg     0.7637    0.7356    0.7414       609\n",
      "\n"
     ]
    }
   ],
   "source": [
    "print(classification_report(grounds_l, preds_l, digits=4))"
   ]
  },
  {
   "cell_type": "raw",
   "id": "7830ba48-e1db-4b4f-974b-f778a968f487",
   "metadata": {},
   "source": [
    "Results: 8B-Instruct, K=0, N=1\n",
    "\n",
    "neo_test ---\n",
    "\n",
    "precision    recall  f1-score   support\n",
    "\n",
    "       Claim     0.4282    0.7460    0.5441       248\n",
    "     Premise     0.7568    0.4424    0.5584       443\n",
    "\n",
    "    accuracy                         0.5514       691\n",
    "   macro avg     0.5925    0.5942    0.5513       691\n",
    "weighted avg     0.6389    0.5514    0.5533       691\n",
    "\n",
    "\n",
    "gla_test ---\n",
    "\n",
    "precision    recall  f1-score   support\n",
    "\n",
    "       Claim     0.4534    0.7644    0.5692       191\n",
    "     Premise     0.8464    0.5849    0.6918       424\n",
    "\n",
    "    accuracy                         0.6407       615\n",
    "   macro avg     0.6499    0.6747    0.6305       615\n",
    "weighted avg     0.7244    0.6407    0.6537       615\n",
    "\n",
    "\n",
    "mix_test ---\n",
    "\n",
    "precision    recall  f1-score   support\n",
    "\n",
    "       Claim     0.4318    0.8066    0.5625       212\n",
    "     Premise     0.8075    0.4332    0.5639       397\n",
    "\n",
    "    accuracy                         0.5632       609\n",
    "   macro avg     0.6197    0.6199    0.5632       609\n",
    "weighted avg     0.6767    0.5632    0.5634       609\n",
    "\n"
   ]
  },
  {
   "cell_type": "raw",
   "id": "ad0d9a66-1209-4f56-9e3d-d913e0ea1928",
   "metadata": {},
   "source": [
    "Results: 8B-Instruct-4bit, K=0, N=1\n",
    "\n",
    "neo_test ---\n",
    "\n",
    "precision    recall  f1-score   support\n",
    "\n",
    "       Claim     0.4151    0.7298    0.5292       248\n",
    "     Premise     0.7373    0.4244    0.5387       443\n",
    "\n",
    "    accuracy                         0.5340       691\n",
    "   macro avg     0.5762    0.5771    0.5340       691\n",
    "weighted avg     0.6216    0.5340    0.5353       691\n",
    "\n",
    "\n",
    "gla_test ---\n",
    "\n",
    "precision    recall  f1-score   support\n",
    "\n",
    "       Claim     0.4227    0.8010    0.5533       191\n",
    "     Premise     0.8498    0.5071    0.6352       424\n",
    "\n",
    "    accuracy                         0.5984       615\n",
    "   macro avg     0.6362    0.6541    0.5943       615\n",
    "weighted avg     0.7171    0.5984    0.6097       615\n",
    "\n",
    "\n",
    "\n",
    "mix_test ---\n",
    "\n",
    "precision    recall  f1-score   support\n",
    "\n",
    "       Claim     0.4136    0.8019    0.5457       212\n",
    "     Premise     0.7879    0.3929    0.5244       397\n",
    "\n",
    "    accuracy                         0.5353       609\n",
    "   macro avg     0.6008    0.5974    0.5351       609\n",
    "weighted avg     0.6576    0.5353    0.5318       609\n"
   ]
  },
  {
   "cell_type": "raw",
   "id": "2d58d081-9f73-488a-880a-7c67c913568d",
   "metadata": {},
   "source": [
    "Results: 70B-Instruct-4bit, K=0, N=1\n",
    "\n",
    "neo_test ---\n",
    "\n",
    "precision    recall  f1-score   support\n",
    "\n",
    "       Claim     0.5728    0.7298    0.6418       248\n",
    "     Premise     0.8213    0.6953    0.7531       443\n",
    "\n",
    "    accuracy                         0.7077       691\n",
    "   macro avg     0.6971    0.7125    0.6975       691\n",
    "weighted avg     0.7321    0.7077    0.7131       691\n",
    "\n",
    "\n",
    "gla_test ---\n",
    "\n",
    "precision    recall  f1-score   support\n",
    "\n",
    "       Claim     0.7225    0.7906    0.7550       191\n",
    "     Premise     0.9015    0.8632    0.8819       424\n",
    "\n",
    "    accuracy                         0.8407       615\n",
    "   macro avg     0.8120    0.8269    0.8185       615\n",
    "weighted avg     0.8459    0.8407    0.8425       615\n",
    "\n",
    "\n",
    "mix_test ---\n",
    "\n",
    "precision    recall  f1-score   support\n",
    "\n",
    "       Claim     0.5921    0.7736    0.6708       212\n",
    "     Premise     0.8554    0.7154    0.7791       397\n",
    "\n",
    "    accuracy                         0.7356       609\n",
    "   macro avg     0.7237    0.7445    0.7250       609\n",
    "weighted avg     0.7637    0.7356    0.7414       609\n"
   ]
  }
 ],
 "metadata": {
  "kernelspec": {
   "display_name": "Python 3 (ipykernel)",
   "language": "python",
   "name": "python3"
  },
  "language_info": {
   "codemirror_mode": {
    "name": "ipython",
    "version": 3
   },
   "file_extension": ".py",
   "mimetype": "text/x-python",
   "name": "python",
   "nbconvert_exporter": "python",
   "pygments_lexer": "ipython3",
   "version": "3.11.9"
  }
 },
 "nbformat": 4,
 "nbformat_minor": 5
}
